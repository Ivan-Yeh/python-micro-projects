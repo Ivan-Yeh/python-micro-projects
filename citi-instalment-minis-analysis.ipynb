{
 "cells": [
  {
   "cell_type": "markdown",
   "metadata": {},
   "source": [
    "### ASX Dividend Harvesting Analysis - Citi Instalment MINIs"
   ]
  },
  {
   "cell_type": "markdown",
   "metadata": {},
   "source": [
    "### Import Modules"
   ]
  },
  {
   "cell_type": "code",
   "execution_count": 1,
   "metadata": {},
   "outputs": [],
   "source": [
    "import yfinance as yf\n",
    "import plotly.express as px\n",
    "import pyasx.data.securities\n",
    "import pyasx.data.companies\n",
    "from dateutil.relativedelta import relativedelta\n",
    "import pandas as pd"
   ]
  },
  {
   "cell_type": "markdown",
   "metadata": {},
   "source": [
    "### ASX Company"
   ]
  },
  {
   "cell_type": "code",
   "execution_count": 2,
   "metadata": {},
   "outputs": [],
   "source": [
    "# Yahoo Finance only supports ASX company dividend hisotry (exluding ETFs)\n",
    "asx_code = \"CBA\"\n",
    "dps = 2"
   ]
  },
  {
   "cell_type": "markdown",
   "metadata": {},
   "source": [
    "### CitiWarrant Characteristics"
   ]
  },
  {
   "cell_type": "code",
   "execution_count": 3,
   "metadata": {},
   "outputs": [],
   "source": [
    "annual_interest_rate_on_loan = 0.068\n",
    "loan_amount_per_share = 50"
   ]
  },
  {
   "cell_type": "markdown",
   "metadata": {},
   "source": [
    "Warrant Calculation"
   ]
  },
  {
   "cell_type": "code",
   "execution_count": 4,
   "metadata": {},
   "outputs": [],
   "source": [
    "daily_interst_rate = annual_interest_rate_on_loan / 365\n",
    "underlying_share_price = pyasx.data.securities.get_security_info(asx_code)[\"last_price\"]\n",
    "first_instalment = round(underlying_share_price - loan_amount_per_share, 2)\n",
    "gearing = loan_amount_per_share / underlying_share_price"
   ]
  },
  {
   "cell_type": "markdown",
   "metadata": {},
   "source": [
    "### Dividend Harvesting Plan"
   ]
  },
  {
   "cell_type": "code",
   "execution_count": 5,
   "metadata": {},
   "outputs": [],
   "source": [
    "investment_amount = 10000\n",
    "total_warrants_bought = int(investment_amount / first_instalment)"
   ]
  },
  {
   "cell_type": "markdown",
   "metadata": {},
   "source": [
    "### Dividend Harvesting Analysis"
   ]
  },
  {
   "cell_type": "code",
   "execution_count": 6,
   "metadata": {},
   "outputs": [
    {
     "name": "stdout",
     "output_type": "stream",
     "text": [
      "[*********************100%***********************]  1 of 1 completed\n"
     ]
    }
   ],
   "source": [
    "# number of past dividends/distributions for historical average calculation \n",
    "dividend_history = 1000\n",
    "ex_dates = yf.Ticker(ticker = asx_code + \".AX\").dividends[-dividend_history:].index\n",
    "\n",
    "if len(ex_dates) > 0:\n",
    "    average_div_per_share = sum(yf.Ticker(ticker = asx_code + \".AX\").dividends[-dividend_history:]) / len(ex_dates)\n",
    "else:\n",
    "    div_hisotry_df = pd.read_csv(asx_code + \"_Div.csv\")\n",
    "    div_hisotry_df[\"Date\"] = pd.to_datetime(div_hisotry_df[\"Date\"], format = \"%d/%m/%Y\")\n",
    "    div_hisotry_df = div_hisotry_df.sort_values(\"Date\")\n",
    "    ex_dates = list(div_hisotry_df[\"Date\"])\n",
    "    average_div_per_share = sum(div_hisotry_df[\"Dividend\"]) / len(ex_dates)\n",
    "\n",
    "# dates before the ex dates\n",
    "dates_prior_to_ex_dates = []\n",
    "for date in ex_dates:\n",
    "    date_prior = date - relativedelta(days= 1)\n",
    "    dates_prior_to_ex_dates.append(date_prior)\n",
    "\n",
    "# get the close prices on the dates prior to the ex dates\n",
    "close_on_dates_prior_to_ex_dates = []\n",
    "historical_close = yf.download(tickers = asx_code + \".AX\")[[\"Close\"]]\n",
    "for date in dates_prior_to_ex_dates:\n",
    "    i = len(historical_close) - 1\n",
    "    while i >= 0:\n",
    "        if historical_close.index[i] <= date:\n",
    "            close_on_dates_prior_to_ex_dates.append(historical_close.iloc[i][\"Close\"])\n",
    "            break\n",
    "        i -= 1\n",
    "\n",
    "# get the date on which the previous dividend amount has been recovered but before the next ex date\n",
    "div_recover_dates = []\n",
    "k = 0 #index for close_on_dates_prior_to_ex_dates\n",
    "for i in range(len(dates_prior_to_ex_dates)):\n",
    "    if i < len(dates_prior_to_ex_dates) - 1:\n",
    "        historical_range = pd.DataFrame(historical_close.loc[(historical_close.index > dates_prior_to_ex_dates[i]) & (historical_close.index <= dates_prior_to_ex_dates[i + 1]), :])\n",
    "        for j in range(len(historical_range)):\n",
    "            if historical_range.iloc[j][\"Close\"] >= close_on_dates_prior_to_ex_dates[k]:\n",
    "                div_recover_dates.append(historical_range.index[j])\n",
    "                break\n",
    "            if j == len(historical_range) - 1:\n",
    "                div_recover_dates.append(None)\n",
    "        k += 1\n",
    "    else:\n",
    "        historical_range = pd.DataFrame(historical_close.loc[(historical_close.index > dates_prior_to_ex_dates[i]), :])\n",
    "        for j in range(len(historical_range)):\n",
    "            if historical_range.iloc[j][\"Close\"] >= close_on_dates_prior_to_ex_dates[k]:\n",
    "                div_recover_dates.append(historical_range.index[j])\n",
    "                break\n",
    "            if j == len(historical_range) - 1:\n",
    "                div_recover_dates.append(None)\n",
    "        k += 1\n",
    "\n",
    "# number of day for dividend to be recovered by the next ex date\n",
    "div_recovery_duration = []\n",
    "for i in range(len(div_recover_dates)):\n",
    "    if div_recover_dates[i] != None:\n",
    "        days = (div_recover_dates[i] - dates_prior_to_ex_dates[i]).days\n",
    "        div_recovery_duration.append(days)\n",
    "\n",
    "\n",
    "# get the date on which the previous dividend amount has been fully recovered (regardless of the next ex date)\n",
    "full_div_recover_dates = []\n",
    "k = 0 #index for close_on_dates_prior_to_ex_dates\n",
    "for i in range(len(dates_prior_to_ex_dates)):\n",
    "    if i < len(dates_prior_to_ex_dates) - 1:\n",
    "        historical_range = pd.DataFrame(historical_close.loc[(historical_close.index > dates_prior_to_ex_dates[i]), :])\n",
    "        for j in range(len(historical_range)):\n",
    "            if historical_range.iloc[j][\"Close\"] >= close_on_dates_prior_to_ex_dates[k]:\n",
    "                full_div_recover_dates.append(historical_range.index[j])\n",
    "                break\n",
    "        k += 1\n",
    "\n",
    "# number of day for dividend to be fully recovered (regardless of the next ex date)\n",
    "full_div_recovery_duration = []\n",
    "for i in range(len(full_div_recover_dates)):\n",
    "    days = (full_div_recover_dates[i] - dates_prior_to_ex_dates[i]).days\n",
    "    full_div_recovery_duration.append(days)\n",
    "\n",
    "# recovery stats\n",
    "full_avg_recovery_duration = sum(full_div_recovery_duration) / len(full_div_recovery_duration)\n",
    "avg_recovery_duration = sum(div_recovery_duration) / len(div_recovery_duration)\n",
    "successful_recovery = len(div_recovery_duration)\n",
    "success_rate = round(successful_recovery / len(ex_dates), 4)\n",
    "\n",
    "# Investment insights\n",
    "total_div_received = dps * total_warrants_bought\n",
    "avg_interest_on_loan = (loan_amount_per_share * (1 + daily_interst_rate) ** avg_recovery_duration - loan_amount_per_share) * total_warrants_bought\n",
    "max_interest_on_loan = (loan_amount_per_share * (1 + daily_interst_rate) ** max(full_div_recovery_duration) - loan_amount_per_share) * total_warrants_bought\n",
    "min_interest_on_loan = (loan_amount_per_share * (1 + daily_interst_rate) ** min(full_div_recovery_duration) - loan_amount_per_share) * total_warrants_bought"
   ]
  },
  {
   "cell_type": "markdown",
   "metadata": {},
   "source": [
    "### Analysis"
   ]
  },
  {
   "cell_type": "code",
   "execution_count": 7,
   "metadata": {},
   "outputs": [
    {
     "name": "stdout",
     "output_type": "stream",
     "text": [
      "Dividned Recovery Statistics of CBA (COMMONWEALTH BANK OF AUSTRALIA)\n",
      "\n",
      "In the past 62 dividend payments, 57 of the times COMMONWEALTH BANK OF AUSTRALIA's share price managed to recover from its fall on the ex-dividend date before the next one, indicating a 91.94% rate of successful recovery. On average (regardless whether the dividend was recvoered by the next ex-dividend date), the recovery often took 27 days. The shortest recovery took 1 day(s), whilst the longest took 521 day(s).\n",
      "\n",
      "Summary\n",
      "Probability of successful dividend recovery before the next ex-date: 91.94%\n",
      "Shortest recovery: 1 day(s)\n",
      "Longest recovery: 521 day(s)\n",
      "\n",
      "According to the current CBA share price, the first instalment per share is $48.9. When investing $10000 in CitiWarrant MINIs, you can buy 204 warrants. The current annual interest rate on the loan is 6.8%, and the loan amount per share is $50. The upcoming dividend per share for CBA is $2, and 204 warrants will result in $408 of dividends. Based on the information above and the dividend recovery history of CBA, the expected interest payable of this trade will be $51.67. The best case will be $1.9 of interest payable, whilst the worst case will be $1039.58 of interest payable. The average profit will be $356.33. The best portfit will be $406.1, whilst the worst will be $-631.58.\n",
      "\n",
      "Summary\n",
      "Investment amount: $10000\n",
      "Number of warrants bought: 204\n",
      "Total dividend receivable (DPS $2): $408\n",
      "Expected (average) interest payable: $51.67\n",
      "Least interest payable: $1.9\n",
      "Most interest payable: $1039.58\n",
      "Average profit: $356.33\n",
      "Best profit: $406.1\n",
      "Worst profit: $-631.58\n"
     ]
    }
   ],
   "source": [
    "analysis = f\"In the past {len(ex_dates)} dividend payments, {successful_recovery} of the times \\\n",
    "{pyasx.data.companies.get_company_info(asx_code)['name'].strip('.')}'s share price managed to recover from its \\\n",
    "fall on the ex-dividend date before the next one, indicating a {round(success_rate * 100, 2)}% rate of successful recovery. \\\n",
    "On average (regardless whether the dividend was recvoered by the next ex-dividend date), \\\n",
    "the recovery often took {round(avg_recovery_duration)} days. The shortest \\\n",
    "recovery took {min(full_div_recovery_duration)} day(s), whilst the longest took {max(full_div_recovery_duration)} day(s).\"\n",
    "\n",
    "investment_analysis = f\"According to the current {asx_code} share price, \\\n",
    "the first instalment per share is ${first_instalment}. When investing ${investment_amount} in CitiWarrant MINIs, \\\n",
    "you can buy {total_warrants_bought} warrants. The current annual interest rate on the loan is \\\n",
    "{round(annual_interest_rate_on_loan * 100, 2)}%, and the loan amount per share is ${loan_amount_per_share}. \\\n",
    "The upcoming dividend per share for {asx_code} is ${dps}, and {total_warrants_bought} \\\n",
    "warrants will result in ${round(total_div_received, 2)} \\\n",
    "of dividends. Based on the information above and the dividend recovery history of {asx_code}, \\\n",
    "the expected interest payable of this trade will be ${round(avg_interest_on_loan, 2)}. \\\n",
    "The best case will be ${round(min_interest_on_loan, 2)} of interest payable, whilst the worst case will be \\\n",
    "${round(max_interest_on_loan, 2)} of interest payable. The average profit will be ${round(total_div_received - avg_interest_on_loan, 2)}. \\\n",
    "The best portfit will be ${round(total_div_received - min_interest_on_loan, 2)}, whilst the worst will be ${round(total_div_received - max_interest_on_loan, 2)}.\"\n",
    "\n",
    "\n",
    "print(f\"Dividned Recovery Statistics of {asx_code} ({pyasx.data.companies.get_company_info(asx_code)['name'].strip('.')})\")\n",
    "print()\n",
    "print(analysis)\n",
    "print()\n",
    "print(\"Summary\")\n",
    "print(f\"Probability of successful dividend recovery before the next ex-date: {round(success_rate * 100, 2)}%\")\n",
    "print(f\"Shortest recovery: {min(full_div_recovery_duration)} day(s)\")\n",
    "print(f\"Longest recovery: {max(full_div_recovery_duration)} day(s)\")\n",
    "print()\n",
    "print(investment_analysis)\n",
    "print()\n",
    "print(\"Summary\")\n",
    "print(f\"Investment amount: ${investment_amount}\")\n",
    "print(\"Number of warrants bought:\", total_warrants_bought)\n",
    "print(f\"Total dividend receivable (DPS ${dps}): ${round(total_div_received, 2)}\")\n",
    "print(f\"Expected (average) interest payable: ${round(avg_interest_on_loan, 2)}\")\n",
    "print(f\"Least interest payable: ${round(min_interest_on_loan, 2)}\")\n",
    "print(f\"Most interest payable: ${round(max_interest_on_loan, 2)}\")\n",
    "print(f\"Average profit: ${round(total_div_received - avg_interest_on_loan, 2)}\")\n",
    "print(f\"Best profit: ${round(total_div_received - min_interest_on_loan, 2)}\")\n",
    "print(f\"Worst profit: ${round(total_div_received - max_interest_on_loan, 2)}\")"
   ]
  },
  {
   "cell_type": "markdown",
   "metadata": {},
   "source": [
    "### Graphs"
   ]
  },
  {
   "cell_type": "markdown",
   "metadata": {},
   "source": [
    "Profit outcome analysis"
   ]
  },
  {
   "cell_type": "code",
   "execution_count": 8,
   "metadata": {},
   "outputs": [
    {
     "name": "stdout",
     "output_type": "stream",
     "text": [
      "Profit outcomes at different loan amounts based on the entire dividend history\n"
     ]
    },
    {
     "data": {
      "application/vnd.plotly.v1+json": {
       "config": {
        "plotlyServerURL": "https://plot.ly"
       },
       "data": [
        {
         "hovertemplate": "variable=Average Profit $<br>Second Instalments $=%{x}<br>value=%{y}<extra></extra>",
         "legendgroup": "Average Profit $",
         "line": {
          "color": "#636efa",
          "dash": "solid"
         },
         "marker": {
          "symbol": "circle"
         },
         "mode": "lines",
         "name": "Average Profit $",
         "orientation": "v",
         "showlegend": true,
         "type": "scatter",
         "x": [
          9,
          10,
          11,
          12,
          13,
          14,
          15,
          16,
          17,
          18,
          19,
          20,
          21,
          22,
          23,
          24,
          25,
          26,
          27,
          28,
          29,
          30,
          31,
          32,
          33,
          34,
          35,
          36,
          37,
          38,
          39,
          40,
          41,
          42,
          43,
          44,
          45,
          46,
          47,
          48,
          49,
          50,
          51,
          52,
          53,
          54,
          55,
          56,
          57,
          58,
          59,
          60,
          61,
          62,
          63,
          64,
          65,
          66,
          67,
          68,
          69,
          70,
          71,
          72,
          73,
          74,
          75,
          76,
          77,
          78,
          79,
          80,
          81,
          82,
          83,
          84,
          85,
          86,
          87,
          88
         ],
         "xaxis": "x",
         "y": [
          212.24,
          213.06,
          213.85,
          216.52,
          217.27,
          218,
          220.56,
          221.24,
          223.74,
          224.37,
          226.79,
          227.38,
          229.74,
          232.06,
          232.56,
          234.81,
          237.02,
          239.2,
          241.33,
          243.42,
          245.48,
          247.5,
          249.47,
          251.41,
          253.31,
          256.84,
          258.65,
          260.42,
          263.8,
          267.11,
          268.74,
          271.95,
          275.1,
          278.18,
          281.21,
          285.76,
          288.66,
          293.05,
          295.83,
          300.08,
          304.25,
          308.34,
          312.35,
          317.78,
          321.63,
          326.87,
          332.01,
          338.51,
          343.45,
          349.72,
          355.88,
          363.33,
          369.25,
          377.83,
          384.87,
          393.15,
          401.28,
          410.6,
          421.1,
          431.39,
          442.82,
          455.35,
          467.64,
          481,
          496.68,
          512.06,
          529.68,
          548.23,
          568.93,
          591.7,
          616.51,
          644.5,
          674.38,
          708.49,
          746.7,
          791.28,
          840.86,
          898.77,
          965.95,
          1045.53
         ],
         "yaxis": "y"
        },
        {
         "hovertemplate": "variable=Best Profit $<br>Second Instalments $=%{x}<br>value=%{y}<extra></extra>",
         "legendgroup": "Best Profit $",
         "line": {
          "color": "#EF553B",
          "dash": "solid"
         },
         "marker": {
          "symbol": "circle"
         },
         "mode": "lines",
         "name": "Best Profit $",
         "orientation": "v",
         "showlegend": true,
         "type": "scatter",
         "x": [
          9,
          10,
          11,
          12,
          13,
          14,
          15,
          16,
          17,
          18,
          19,
          20,
          21,
          22,
          23,
          24,
          25,
          26,
          27,
          28,
          29,
          30,
          31,
          32,
          33,
          34,
          35,
          36,
          37,
          38,
          39,
          40,
          41,
          42,
          43,
          44,
          45,
          46,
          47,
          48,
          49,
          50,
          51,
          52,
          53,
          54,
          55,
          56,
          57,
          58,
          59,
          60,
          61,
          62,
          63,
          64,
          65,
          66,
          67,
          68,
          69,
          70,
          71,
          72,
          73,
          74,
          75,
          76,
          77,
          78,
          79,
          80,
          81,
          82,
          83,
          84,
          85,
          86,
          87,
          88
         ],
         "xaxis": "x",
         "y": [
          221.81,
          223.79,
          225.77,
          229.74,
          231.72,
          233.69,
          237.67,
          239.64,
          243.61,
          245.59,
          249.56,
          251.53,
          255.5,
          259.47,
          261.44,
          265.41,
          269.37,
          273.34,
          277.3,
          281.26,
          285.23,
          289.19,
          293.15,
          297.11,
          301.07,
          307.02,
          310.98,
          314.94,
          320.89,
          326.84,
          330.79,
          336.74,
          342.69,
          348.63,
          354.57,
          362.51,
          368.45,
          376.38,
          382.32,
          390.25,
          398.17,
          406.1,
          414.02,
          423.94,
          431.86,
          441.77,
          451.67,
          463.57,
          473.47,
          485.36,
          497.25,
          511.13,
          523.01,
          538.87,
          552.74,
          568.59,
          584.44,
          602.27,
          622.09,
          641.91,
          663.71,
          687.49,
          711.26,
          737.02,
          766.75,
          796.47,
          830.16,
          865.83,
          905.46,
          949.05,
          996.61,
          1050.12,
          1107.58,
          1172.97,
          1246.29,
          1331.5,
          1426.61,
          1537.58,
          1666.39,
          1818.97
         ],
         "yaxis": "y"
        },
        {
         "hovertemplate": "variable=Worst Profit $<br>Second Instalments $=%{x}<br>value=%{y}<extra></extra>",
         "legendgroup": "Worst Profit $",
         "line": {
          "color": "#00cc96",
          "dash": "solid"
         },
         "marker": {
          "symbol": "circle"
         },
         "mode": "lines",
         "name": "Worst Profit $",
         "orientation": "v",
         "showlegend": true,
         "type": "scatter",
         "x": [
          9,
          10,
          11,
          12,
          13,
          14,
          15,
          16,
          17,
          18,
          19,
          20,
          21,
          22,
          23,
          24,
          25,
          26,
          27,
          28,
          29,
          30,
          31,
          32,
          33,
          34,
          35,
          36,
          37,
          38,
          39,
          40,
          41,
          42,
          43,
          44,
          45,
          46,
          47,
          48,
          49,
          50,
          51,
          52,
          53,
          54,
          55,
          56,
          57,
          58,
          59,
          60,
          61,
          62,
          63,
          64,
          65,
          66,
          67,
          68,
          69,
          70,
          71,
          72,
          73,
          74,
          75,
          76,
          77,
          78,
          79,
          80,
          81,
          82,
          83,
          84,
          85,
          86,
          87,
          88
         ],
         "xaxis": "x",
         "y": [
          120.18,
          109.85,
          99.31,
          89.35,
          78.3,
          67.06,
          56.07,
          44.31,
          32.62,
          20.35,
          7.94,
          -4.84,
          -17.96,
          -31.49,
          -45.08,
          -59.33,
          -73.98,
          -89.04,
          -104.51,
          -120.38,
          -136.66,
          -153.35,
          -170.45,
          -187.95,
          -205.87,
          -225.65,
          -244.48,
          -263.72,
          -285.14,
          -307.16,
          -327.83,
          -350.98,
          -374.74,
          -399.11,
          -424.09,
          -452.17,
          -478.48,
          -508.09,
          -535.72,
          -566.86,
          -598.81,
          -631.58,
          -665.17,
          -702.86,
          -738.18,
          -777.82,
          -818.47,
          -863.85,
          -906.64,
          -954.37,
          -1003.32,
          -1057.6,
          -1109.1,
          -1170.46,
          -1229.02,
          -1293.54,
          -1359.69,
          -1432.19,
          -1511.36,
          -1592.57,
          -1680.84,
          -1776.5,
          -1874.6,
          -1980.48,
          -2099.9,
          -2222.37,
          -2359.19,
          -2505.22,
          -2666.61,
          -2843.98,
          -3037.94,
          -3255.25,
          -3490.57,
          -3757.24,
          -4056.47,
          -4402.61,
          -4790.83,
          -5242.96,
          -5768.3,
          -6390.52
         ],
         "yaxis": "y"
        }
       ],
       "layout": {
        "legend": {
         "title": {
          "text": "variable"
         },
         "tracegroupgap": 0
        },
        "template": {
         "data": {
          "bar": [
           {
            "error_x": {
             "color": "#2a3f5f"
            },
            "error_y": {
             "color": "#2a3f5f"
            },
            "marker": {
             "line": {
              "color": "#E5ECF6",
              "width": 0.5
             },
             "pattern": {
              "fillmode": "overlay",
              "size": 10,
              "solidity": 0.2
             }
            },
            "type": "bar"
           }
          ],
          "barpolar": [
           {
            "marker": {
             "line": {
              "color": "#E5ECF6",
              "width": 0.5
             },
             "pattern": {
              "fillmode": "overlay",
              "size": 10,
              "solidity": 0.2
             }
            },
            "type": "barpolar"
           }
          ],
          "carpet": [
           {
            "aaxis": {
             "endlinecolor": "#2a3f5f",
             "gridcolor": "white",
             "linecolor": "white",
             "minorgridcolor": "white",
             "startlinecolor": "#2a3f5f"
            },
            "baxis": {
             "endlinecolor": "#2a3f5f",
             "gridcolor": "white",
             "linecolor": "white",
             "minorgridcolor": "white",
             "startlinecolor": "#2a3f5f"
            },
            "type": "carpet"
           }
          ],
          "choropleth": [
           {
            "colorbar": {
             "outlinewidth": 0,
             "ticks": ""
            },
            "type": "choropleth"
           }
          ],
          "contour": [
           {
            "colorbar": {
             "outlinewidth": 0,
             "ticks": ""
            },
            "colorscale": [
             [
              0,
              "#0d0887"
             ],
             [
              0.1111111111111111,
              "#46039f"
             ],
             [
              0.2222222222222222,
              "#7201a8"
             ],
             [
              0.3333333333333333,
              "#9c179e"
             ],
             [
              0.4444444444444444,
              "#bd3786"
             ],
             [
              0.5555555555555556,
              "#d8576b"
             ],
             [
              0.6666666666666666,
              "#ed7953"
             ],
             [
              0.7777777777777778,
              "#fb9f3a"
             ],
             [
              0.8888888888888888,
              "#fdca26"
             ],
             [
              1,
              "#f0f921"
             ]
            ],
            "type": "contour"
           }
          ],
          "contourcarpet": [
           {
            "colorbar": {
             "outlinewidth": 0,
             "ticks": ""
            },
            "type": "contourcarpet"
           }
          ],
          "heatmap": [
           {
            "colorbar": {
             "outlinewidth": 0,
             "ticks": ""
            },
            "colorscale": [
             [
              0,
              "#0d0887"
             ],
             [
              0.1111111111111111,
              "#46039f"
             ],
             [
              0.2222222222222222,
              "#7201a8"
             ],
             [
              0.3333333333333333,
              "#9c179e"
             ],
             [
              0.4444444444444444,
              "#bd3786"
             ],
             [
              0.5555555555555556,
              "#d8576b"
             ],
             [
              0.6666666666666666,
              "#ed7953"
             ],
             [
              0.7777777777777778,
              "#fb9f3a"
             ],
             [
              0.8888888888888888,
              "#fdca26"
             ],
             [
              1,
              "#f0f921"
             ]
            ],
            "type": "heatmap"
           }
          ],
          "heatmapgl": [
           {
            "colorbar": {
             "outlinewidth": 0,
             "ticks": ""
            },
            "colorscale": [
             [
              0,
              "#0d0887"
             ],
             [
              0.1111111111111111,
              "#46039f"
             ],
             [
              0.2222222222222222,
              "#7201a8"
             ],
             [
              0.3333333333333333,
              "#9c179e"
             ],
             [
              0.4444444444444444,
              "#bd3786"
             ],
             [
              0.5555555555555556,
              "#d8576b"
             ],
             [
              0.6666666666666666,
              "#ed7953"
             ],
             [
              0.7777777777777778,
              "#fb9f3a"
             ],
             [
              0.8888888888888888,
              "#fdca26"
             ],
             [
              1,
              "#f0f921"
             ]
            ],
            "type": "heatmapgl"
           }
          ],
          "histogram": [
           {
            "marker": {
             "pattern": {
              "fillmode": "overlay",
              "size": 10,
              "solidity": 0.2
             }
            },
            "type": "histogram"
           }
          ],
          "histogram2d": [
           {
            "colorbar": {
             "outlinewidth": 0,
             "ticks": ""
            },
            "colorscale": [
             [
              0,
              "#0d0887"
             ],
             [
              0.1111111111111111,
              "#46039f"
             ],
             [
              0.2222222222222222,
              "#7201a8"
             ],
             [
              0.3333333333333333,
              "#9c179e"
             ],
             [
              0.4444444444444444,
              "#bd3786"
             ],
             [
              0.5555555555555556,
              "#d8576b"
             ],
             [
              0.6666666666666666,
              "#ed7953"
             ],
             [
              0.7777777777777778,
              "#fb9f3a"
             ],
             [
              0.8888888888888888,
              "#fdca26"
             ],
             [
              1,
              "#f0f921"
             ]
            ],
            "type": "histogram2d"
           }
          ],
          "histogram2dcontour": [
           {
            "colorbar": {
             "outlinewidth": 0,
             "ticks": ""
            },
            "colorscale": [
             [
              0,
              "#0d0887"
             ],
             [
              0.1111111111111111,
              "#46039f"
             ],
             [
              0.2222222222222222,
              "#7201a8"
             ],
             [
              0.3333333333333333,
              "#9c179e"
             ],
             [
              0.4444444444444444,
              "#bd3786"
             ],
             [
              0.5555555555555556,
              "#d8576b"
             ],
             [
              0.6666666666666666,
              "#ed7953"
             ],
             [
              0.7777777777777778,
              "#fb9f3a"
             ],
             [
              0.8888888888888888,
              "#fdca26"
             ],
             [
              1,
              "#f0f921"
             ]
            ],
            "type": "histogram2dcontour"
           }
          ],
          "mesh3d": [
           {
            "colorbar": {
             "outlinewidth": 0,
             "ticks": ""
            },
            "type": "mesh3d"
           }
          ],
          "parcoords": [
           {
            "line": {
             "colorbar": {
              "outlinewidth": 0,
              "ticks": ""
             }
            },
            "type": "parcoords"
           }
          ],
          "pie": [
           {
            "automargin": true,
            "type": "pie"
           }
          ],
          "scatter": [
           {
            "fillpattern": {
             "fillmode": "overlay",
             "size": 10,
             "solidity": 0.2
            },
            "type": "scatter"
           }
          ],
          "scatter3d": [
           {
            "line": {
             "colorbar": {
              "outlinewidth": 0,
              "ticks": ""
             }
            },
            "marker": {
             "colorbar": {
              "outlinewidth": 0,
              "ticks": ""
             }
            },
            "type": "scatter3d"
           }
          ],
          "scattercarpet": [
           {
            "marker": {
             "colorbar": {
              "outlinewidth": 0,
              "ticks": ""
             }
            },
            "type": "scattercarpet"
           }
          ],
          "scattergeo": [
           {
            "marker": {
             "colorbar": {
              "outlinewidth": 0,
              "ticks": ""
             }
            },
            "type": "scattergeo"
           }
          ],
          "scattergl": [
           {
            "marker": {
             "colorbar": {
              "outlinewidth": 0,
              "ticks": ""
             }
            },
            "type": "scattergl"
           }
          ],
          "scattermapbox": [
           {
            "marker": {
             "colorbar": {
              "outlinewidth": 0,
              "ticks": ""
             }
            },
            "type": "scattermapbox"
           }
          ],
          "scatterpolar": [
           {
            "marker": {
             "colorbar": {
              "outlinewidth": 0,
              "ticks": ""
             }
            },
            "type": "scatterpolar"
           }
          ],
          "scatterpolargl": [
           {
            "marker": {
             "colorbar": {
              "outlinewidth": 0,
              "ticks": ""
             }
            },
            "type": "scatterpolargl"
           }
          ],
          "scatterternary": [
           {
            "marker": {
             "colorbar": {
              "outlinewidth": 0,
              "ticks": ""
             }
            },
            "type": "scatterternary"
           }
          ],
          "surface": [
           {
            "colorbar": {
             "outlinewidth": 0,
             "ticks": ""
            },
            "colorscale": [
             [
              0,
              "#0d0887"
             ],
             [
              0.1111111111111111,
              "#46039f"
             ],
             [
              0.2222222222222222,
              "#7201a8"
             ],
             [
              0.3333333333333333,
              "#9c179e"
             ],
             [
              0.4444444444444444,
              "#bd3786"
             ],
             [
              0.5555555555555556,
              "#d8576b"
             ],
             [
              0.6666666666666666,
              "#ed7953"
             ],
             [
              0.7777777777777778,
              "#fb9f3a"
             ],
             [
              0.8888888888888888,
              "#fdca26"
             ],
             [
              1,
              "#f0f921"
             ]
            ],
            "type": "surface"
           }
          ],
          "table": [
           {
            "cells": {
             "fill": {
              "color": "#EBF0F8"
             },
             "line": {
              "color": "white"
             }
            },
            "header": {
             "fill": {
              "color": "#C8D4E3"
             },
             "line": {
              "color": "white"
             }
            },
            "type": "table"
           }
          ]
         },
         "layout": {
          "annotationdefaults": {
           "arrowcolor": "#2a3f5f",
           "arrowhead": 0,
           "arrowwidth": 1
          },
          "autotypenumbers": "strict",
          "coloraxis": {
           "colorbar": {
            "outlinewidth": 0,
            "ticks": ""
           }
          },
          "colorscale": {
           "diverging": [
            [
             0,
             "#8e0152"
            ],
            [
             0.1,
             "#c51b7d"
            ],
            [
             0.2,
             "#de77ae"
            ],
            [
             0.3,
             "#f1b6da"
            ],
            [
             0.4,
             "#fde0ef"
            ],
            [
             0.5,
             "#f7f7f7"
            ],
            [
             0.6,
             "#e6f5d0"
            ],
            [
             0.7,
             "#b8e186"
            ],
            [
             0.8,
             "#7fbc41"
            ],
            [
             0.9,
             "#4d9221"
            ],
            [
             1,
             "#276419"
            ]
           ],
           "sequential": [
            [
             0,
             "#0d0887"
            ],
            [
             0.1111111111111111,
             "#46039f"
            ],
            [
             0.2222222222222222,
             "#7201a8"
            ],
            [
             0.3333333333333333,
             "#9c179e"
            ],
            [
             0.4444444444444444,
             "#bd3786"
            ],
            [
             0.5555555555555556,
             "#d8576b"
            ],
            [
             0.6666666666666666,
             "#ed7953"
            ],
            [
             0.7777777777777778,
             "#fb9f3a"
            ],
            [
             0.8888888888888888,
             "#fdca26"
            ],
            [
             1,
             "#f0f921"
            ]
           ],
           "sequentialminus": [
            [
             0,
             "#0d0887"
            ],
            [
             0.1111111111111111,
             "#46039f"
            ],
            [
             0.2222222222222222,
             "#7201a8"
            ],
            [
             0.3333333333333333,
             "#9c179e"
            ],
            [
             0.4444444444444444,
             "#bd3786"
            ],
            [
             0.5555555555555556,
             "#d8576b"
            ],
            [
             0.6666666666666666,
             "#ed7953"
            ],
            [
             0.7777777777777778,
             "#fb9f3a"
            ],
            [
             0.8888888888888888,
             "#fdca26"
            ],
            [
             1,
             "#f0f921"
            ]
           ]
          },
          "colorway": [
           "#636efa",
           "#EF553B",
           "#00cc96",
           "#ab63fa",
           "#FFA15A",
           "#19d3f3",
           "#FF6692",
           "#B6E880",
           "#FF97FF",
           "#FECB52"
          ],
          "font": {
           "color": "#2a3f5f"
          },
          "geo": {
           "bgcolor": "white",
           "lakecolor": "white",
           "landcolor": "#E5ECF6",
           "showlakes": true,
           "showland": true,
           "subunitcolor": "white"
          },
          "hoverlabel": {
           "align": "left"
          },
          "hovermode": "closest",
          "mapbox": {
           "style": "light"
          },
          "paper_bgcolor": "white",
          "plot_bgcolor": "#E5ECF6",
          "polar": {
           "angularaxis": {
            "gridcolor": "white",
            "linecolor": "white",
            "ticks": ""
           },
           "bgcolor": "#E5ECF6",
           "radialaxis": {
            "gridcolor": "white",
            "linecolor": "white",
            "ticks": ""
           }
          },
          "scene": {
           "xaxis": {
            "backgroundcolor": "#E5ECF6",
            "gridcolor": "white",
            "gridwidth": 2,
            "linecolor": "white",
            "showbackground": true,
            "ticks": "",
            "zerolinecolor": "white"
           },
           "yaxis": {
            "backgroundcolor": "#E5ECF6",
            "gridcolor": "white",
            "gridwidth": 2,
            "linecolor": "white",
            "showbackground": true,
            "ticks": "",
            "zerolinecolor": "white"
           },
           "zaxis": {
            "backgroundcolor": "#E5ECF6",
            "gridcolor": "white",
            "gridwidth": 2,
            "linecolor": "white",
            "showbackground": true,
            "ticks": "",
            "zerolinecolor": "white"
           }
          },
          "shapedefaults": {
           "line": {
            "color": "#2a3f5f"
           }
          },
          "ternary": {
           "aaxis": {
            "gridcolor": "white",
            "linecolor": "white",
            "ticks": ""
           },
           "baxis": {
            "gridcolor": "white",
            "linecolor": "white",
            "ticks": ""
           },
           "bgcolor": "#E5ECF6",
           "caxis": {
            "gridcolor": "white",
            "linecolor": "white",
            "ticks": ""
           }
          },
          "title": {
           "x": 0.05
          },
          "xaxis": {
           "automargin": true,
           "gridcolor": "white",
           "linecolor": "white",
           "ticks": "",
           "title": {
            "standoff": 15
           },
           "zerolinecolor": "white",
           "zerolinewidth": 2
          },
          "yaxis": {
           "automargin": true,
           "gridcolor": "white",
           "linecolor": "white",
           "ticks": "",
           "title": {
            "standoff": 15
           },
           "zerolinecolor": "white",
           "zerolinewidth": 2
          }
         }
        },
        "title": {
         "text": "Profit outcomes at different loan amounts"
        },
        "xaxis": {
         "anchor": "y",
         "domain": [
          0,
          1
         ],
         "title": {
          "text": "Second Instalments $"
         }
        },
        "yaxis": {
         "anchor": "x",
         "domain": [
          0,
          1
         ],
         "title": {
          "text": "value"
         }
        }
       }
      }
     },
     "metadata": {},
     "output_type": "display_data"
    },
    {
     "name": "stdout",
     "output_type": "stream",
     "text": [
      "Profit outcomes at 91.94% of the chance (share price recovers before the next ex-dividend date)\n"
     ]
    },
    {
     "data": {
      "application/vnd.plotly.v1+json": {
       "config": {
        "plotlyServerURL": "https://plot.ly"
       },
       "data": [
        {
         "hovertemplate": "variable=Average Profit After Successful Recovery $<br>Second Instalments $=%{x}<br>value=%{y}<extra></extra>",
         "legendgroup": "Average Profit After Successful Recovery $",
         "line": {
          "color": "#636efa",
          "dash": "solid"
         },
         "marker": {
          "symbol": "circle"
         },
         "mode": "lines",
         "name": "Average Profit After Successful Recovery $",
         "orientation": "v",
         "showlegend": true,
         "type": "scatter",
         "x": [
          9,
          10,
          11,
          12,
          13,
          14,
          15,
          16,
          17,
          18,
          19,
          20,
          21,
          22,
          23,
          24,
          25,
          26,
          27,
          28,
          29,
          30,
          31,
          32,
          33,
          34,
          35,
          36,
          37,
          38,
          39,
          40,
          41,
          42,
          43,
          44,
          45,
          46,
          47,
          48,
          49,
          50,
          51,
          52,
          53,
          54,
          55,
          56,
          57,
          58,
          59,
          60,
          61,
          62,
          63,
          64,
          65,
          66,
          67,
          68,
          69,
          70,
          71,
          72,
          73,
          74,
          75,
          76,
          77,
          78,
          79,
          80,
          81,
          82,
          83,
          84,
          85,
          86,
          87,
          88
         ],
         "xaxis": "x",
         "y": [
          216.94,
          218.33,
          219.7,
          223.01,
          224.36,
          225.7,
          228.96,
          230.27,
          233.49,
          234.79,
          237.97,
          239.24,
          242.38,
          245.51,
          246.74,
          249.83,
          252.9,
          255.96,
          258.99,
          262,
          264.99,
          267.97,
          270.92,
          273.85,
          276.76,
          281.48,
          284.34,
          287.19,
          291.83,
          296.43,
          299.21,
          303.76,
          308.28,
          312.77,
          317.23,
          323.44,
          327.83,
          333.96,
          338.29,
          344.35,
          350.36,
          356.33,
          362.27,
          369.9,
          375.74,
          383.28,
          390.76,
          399.91,
          407.28,
          416.32,
          425.29,
          435.89,
          444.74,
          456.89,
          467.29,
          479.28,
          491.2,
          504.7,
          519.77,
          534.75,
          551.26,
          569.32,
          587.25,
          606.69,
          629.27,
          651.69,
          677.2,
          704.16,
          734.15,
          767.14,
          803.12,
          843.64,
          887.06,
          936.52,
          991.97,
          1056.5,
          1128.43,
          1212.4,
          1309.83,
          1425.25
         ],
         "yaxis": "y"
        },
        {
         "hovertemplate": "variable=Best Profit After Successful Recovery $<br>Second Instalments $=%{x}<br>value=%{y}<extra></extra>",
         "legendgroup": "Best Profit After Successful Recovery $",
         "line": {
          "color": "#EF553B",
          "dash": "solid"
         },
         "marker": {
          "symbol": "circle"
         },
         "mode": "lines",
         "name": "Best Profit After Successful Recovery $",
         "orientation": "v",
         "showlegend": true,
         "type": "scatter",
         "x": [
          9,
          10,
          11,
          12,
          13,
          14,
          15,
          16,
          17,
          18,
          19,
          20,
          21,
          22,
          23,
          24,
          25,
          26,
          27,
          28,
          29,
          30,
          31,
          32,
          33,
          34,
          35,
          36,
          37,
          38,
          39,
          40,
          41,
          42,
          43,
          44,
          45,
          46,
          47,
          48,
          49,
          50,
          51,
          52,
          53,
          54,
          55,
          56,
          57,
          58,
          59,
          60,
          61,
          62,
          63,
          64,
          65,
          66,
          67,
          68,
          69,
          70,
          71,
          72,
          73,
          74,
          75,
          76,
          77,
          78,
          79,
          80,
          81,
          82,
          83,
          84,
          85,
          86,
          87,
          88
         ],
         "xaxis": "x",
         "y": [
          221.81,
          223.79,
          225.77,
          229.74,
          231.72,
          233.69,
          237.67,
          239.64,
          243.61,
          245.59,
          249.56,
          251.53,
          255.5,
          259.47,
          261.44,
          265.41,
          269.37,
          273.34,
          277.3,
          281.26,
          285.23,
          289.19,
          293.15,
          297.11,
          301.07,
          307.02,
          310.98,
          314.94,
          320.89,
          326.84,
          330.79,
          336.74,
          342.69,
          348.63,
          354.57,
          362.51,
          368.45,
          376.38,
          382.32,
          390.25,
          398.17,
          406.1,
          414.02,
          423.94,
          431.86,
          441.77,
          451.67,
          463.57,
          473.47,
          485.36,
          497.25,
          511.13,
          523.01,
          538.87,
          552.74,
          568.59,
          584.44,
          602.27,
          622.09,
          641.91,
          663.71,
          687.49,
          711.26,
          737.02,
          766.75,
          796.47,
          830.16,
          865.83,
          905.46,
          949.05,
          996.61,
          1050.12,
          1107.58,
          1172.97,
          1246.29,
          1331.5,
          1426.61,
          1537.58,
          1666.39,
          1818.97
         ],
         "yaxis": "y"
        },
        {
         "hovertemplate": "variable=Worst Profit After Successful Recovery $<br>Second Instalments $=%{x}<br>value=%{y}<extra></extra>",
         "legendgroup": "Worst Profit After Successful Recovery $",
         "line": {
          "color": "#00cc96",
          "dash": "solid"
         },
         "marker": {
          "symbol": "circle"
         },
         "mode": "lines",
         "name": "Worst Profit After Successful Recovery $",
         "orientation": "v",
         "showlegend": true,
         "type": "scatter",
         "x": [
          9,
          10,
          11,
          12,
          13,
          14,
          15,
          16,
          17,
          18,
          19,
          20,
          21,
          22,
          23,
          24,
          25,
          26,
          27,
          28,
          29,
          30,
          31,
          32,
          33,
          34,
          35,
          36,
          37,
          38,
          39,
          40,
          41,
          42,
          43,
          44,
          45,
          46,
          47,
          48,
          49,
          50,
          51,
          52,
          53,
          54,
          55,
          56,
          57,
          58,
          59,
          60,
          61,
          62,
          63,
          64,
          65,
          66,
          67,
          68,
          69,
          70,
          71,
          72,
          73,
          74,
          75,
          76,
          77,
          78,
          79,
          80,
          81,
          82,
          83,
          84,
          85,
          86,
          87,
          88
         ],
         "xaxis": "x",
         "y": [
          187.36,
          185.16,
          182.9,
          182.14,
          179.71,
          177.2,
          176.1,
          173.42,
          172.08,
          169.22,
          167.64,
          164.61,
          162.79,
          160.82,
          157.52,
          155.31,
          152.96,
          150.48,
          147.85,
          145.09,
          142.19,
          139.15,
          135.97,
          132.66,
          129.2,
          126.43,
          122.66,
          118.75,
          115.42,
          111.89,
          107.5,
          103.58,
          99.45,
          95.12,
          90.58,
          86.3,
          81.31,
          76.51,
          71.07,
          65.75,
          60.16,
          54.29,
          48.14,
          41.91,
          35.17,
          28.28,
          21.05,
          13.53,
          5.56,
          -2.76,
          -11.5,
          -20.73,
          -30.33,
          -40.65,
          -51.35,
          -62.74,
          -74.69,
          -87.48,
          -101.23,
          -115.66,
          -131.18,
          -147.89,
          -165.44,
          -184.31,
          -205.15,
          -227.03,
          -251.15,
          -277.08,
          -305.6,
          -336.92,
          -371.25,
          -409.56,
          -451.36,
          -498.55,
          -551.54,
          -612.57,
          -681.33,
          -761.27,
          -854.25,
          -964.35
         ],
         "yaxis": "y"
        }
       ],
       "layout": {
        "legend": {
         "title": {
          "text": "variable"
         },
         "tracegroupgap": 0
        },
        "template": {
         "data": {
          "bar": [
           {
            "error_x": {
             "color": "#2a3f5f"
            },
            "error_y": {
             "color": "#2a3f5f"
            },
            "marker": {
             "line": {
              "color": "#E5ECF6",
              "width": 0.5
             },
             "pattern": {
              "fillmode": "overlay",
              "size": 10,
              "solidity": 0.2
             }
            },
            "type": "bar"
           }
          ],
          "barpolar": [
           {
            "marker": {
             "line": {
              "color": "#E5ECF6",
              "width": 0.5
             },
             "pattern": {
              "fillmode": "overlay",
              "size": 10,
              "solidity": 0.2
             }
            },
            "type": "barpolar"
           }
          ],
          "carpet": [
           {
            "aaxis": {
             "endlinecolor": "#2a3f5f",
             "gridcolor": "white",
             "linecolor": "white",
             "minorgridcolor": "white",
             "startlinecolor": "#2a3f5f"
            },
            "baxis": {
             "endlinecolor": "#2a3f5f",
             "gridcolor": "white",
             "linecolor": "white",
             "minorgridcolor": "white",
             "startlinecolor": "#2a3f5f"
            },
            "type": "carpet"
           }
          ],
          "choropleth": [
           {
            "colorbar": {
             "outlinewidth": 0,
             "ticks": ""
            },
            "type": "choropleth"
           }
          ],
          "contour": [
           {
            "colorbar": {
             "outlinewidth": 0,
             "ticks": ""
            },
            "colorscale": [
             [
              0,
              "#0d0887"
             ],
             [
              0.1111111111111111,
              "#46039f"
             ],
             [
              0.2222222222222222,
              "#7201a8"
             ],
             [
              0.3333333333333333,
              "#9c179e"
             ],
             [
              0.4444444444444444,
              "#bd3786"
             ],
             [
              0.5555555555555556,
              "#d8576b"
             ],
             [
              0.6666666666666666,
              "#ed7953"
             ],
             [
              0.7777777777777778,
              "#fb9f3a"
             ],
             [
              0.8888888888888888,
              "#fdca26"
             ],
             [
              1,
              "#f0f921"
             ]
            ],
            "type": "contour"
           }
          ],
          "contourcarpet": [
           {
            "colorbar": {
             "outlinewidth": 0,
             "ticks": ""
            },
            "type": "contourcarpet"
           }
          ],
          "heatmap": [
           {
            "colorbar": {
             "outlinewidth": 0,
             "ticks": ""
            },
            "colorscale": [
             [
              0,
              "#0d0887"
             ],
             [
              0.1111111111111111,
              "#46039f"
             ],
             [
              0.2222222222222222,
              "#7201a8"
             ],
             [
              0.3333333333333333,
              "#9c179e"
             ],
             [
              0.4444444444444444,
              "#bd3786"
             ],
             [
              0.5555555555555556,
              "#d8576b"
             ],
             [
              0.6666666666666666,
              "#ed7953"
             ],
             [
              0.7777777777777778,
              "#fb9f3a"
             ],
             [
              0.8888888888888888,
              "#fdca26"
             ],
             [
              1,
              "#f0f921"
             ]
            ],
            "type": "heatmap"
           }
          ],
          "heatmapgl": [
           {
            "colorbar": {
             "outlinewidth": 0,
             "ticks": ""
            },
            "colorscale": [
             [
              0,
              "#0d0887"
             ],
             [
              0.1111111111111111,
              "#46039f"
             ],
             [
              0.2222222222222222,
              "#7201a8"
             ],
             [
              0.3333333333333333,
              "#9c179e"
             ],
             [
              0.4444444444444444,
              "#bd3786"
             ],
             [
              0.5555555555555556,
              "#d8576b"
             ],
             [
              0.6666666666666666,
              "#ed7953"
             ],
             [
              0.7777777777777778,
              "#fb9f3a"
             ],
             [
              0.8888888888888888,
              "#fdca26"
             ],
             [
              1,
              "#f0f921"
             ]
            ],
            "type": "heatmapgl"
           }
          ],
          "histogram": [
           {
            "marker": {
             "pattern": {
              "fillmode": "overlay",
              "size": 10,
              "solidity": 0.2
             }
            },
            "type": "histogram"
           }
          ],
          "histogram2d": [
           {
            "colorbar": {
             "outlinewidth": 0,
             "ticks": ""
            },
            "colorscale": [
             [
              0,
              "#0d0887"
             ],
             [
              0.1111111111111111,
              "#46039f"
             ],
             [
              0.2222222222222222,
              "#7201a8"
             ],
             [
              0.3333333333333333,
              "#9c179e"
             ],
             [
              0.4444444444444444,
              "#bd3786"
             ],
             [
              0.5555555555555556,
              "#d8576b"
             ],
             [
              0.6666666666666666,
              "#ed7953"
             ],
             [
              0.7777777777777778,
              "#fb9f3a"
             ],
             [
              0.8888888888888888,
              "#fdca26"
             ],
             [
              1,
              "#f0f921"
             ]
            ],
            "type": "histogram2d"
           }
          ],
          "histogram2dcontour": [
           {
            "colorbar": {
             "outlinewidth": 0,
             "ticks": ""
            },
            "colorscale": [
             [
              0,
              "#0d0887"
             ],
             [
              0.1111111111111111,
              "#46039f"
             ],
             [
              0.2222222222222222,
              "#7201a8"
             ],
             [
              0.3333333333333333,
              "#9c179e"
             ],
             [
              0.4444444444444444,
              "#bd3786"
             ],
             [
              0.5555555555555556,
              "#d8576b"
             ],
             [
              0.6666666666666666,
              "#ed7953"
             ],
             [
              0.7777777777777778,
              "#fb9f3a"
             ],
             [
              0.8888888888888888,
              "#fdca26"
             ],
             [
              1,
              "#f0f921"
             ]
            ],
            "type": "histogram2dcontour"
           }
          ],
          "mesh3d": [
           {
            "colorbar": {
             "outlinewidth": 0,
             "ticks": ""
            },
            "type": "mesh3d"
           }
          ],
          "parcoords": [
           {
            "line": {
             "colorbar": {
              "outlinewidth": 0,
              "ticks": ""
             }
            },
            "type": "parcoords"
           }
          ],
          "pie": [
           {
            "automargin": true,
            "type": "pie"
           }
          ],
          "scatter": [
           {
            "fillpattern": {
             "fillmode": "overlay",
             "size": 10,
             "solidity": 0.2
            },
            "type": "scatter"
           }
          ],
          "scatter3d": [
           {
            "line": {
             "colorbar": {
              "outlinewidth": 0,
              "ticks": ""
             }
            },
            "marker": {
             "colorbar": {
              "outlinewidth": 0,
              "ticks": ""
             }
            },
            "type": "scatter3d"
           }
          ],
          "scattercarpet": [
           {
            "marker": {
             "colorbar": {
              "outlinewidth": 0,
              "ticks": ""
             }
            },
            "type": "scattercarpet"
           }
          ],
          "scattergeo": [
           {
            "marker": {
             "colorbar": {
              "outlinewidth": 0,
              "ticks": ""
             }
            },
            "type": "scattergeo"
           }
          ],
          "scattergl": [
           {
            "marker": {
             "colorbar": {
              "outlinewidth": 0,
              "ticks": ""
             }
            },
            "type": "scattergl"
           }
          ],
          "scattermapbox": [
           {
            "marker": {
             "colorbar": {
              "outlinewidth": 0,
              "ticks": ""
             }
            },
            "type": "scattermapbox"
           }
          ],
          "scatterpolar": [
           {
            "marker": {
             "colorbar": {
              "outlinewidth": 0,
              "ticks": ""
             }
            },
            "type": "scatterpolar"
           }
          ],
          "scatterpolargl": [
           {
            "marker": {
             "colorbar": {
              "outlinewidth": 0,
              "ticks": ""
             }
            },
            "type": "scatterpolargl"
           }
          ],
          "scatterternary": [
           {
            "marker": {
             "colorbar": {
              "outlinewidth": 0,
              "ticks": ""
             }
            },
            "type": "scatterternary"
           }
          ],
          "surface": [
           {
            "colorbar": {
             "outlinewidth": 0,
             "ticks": ""
            },
            "colorscale": [
             [
              0,
              "#0d0887"
             ],
             [
              0.1111111111111111,
              "#46039f"
             ],
             [
              0.2222222222222222,
              "#7201a8"
             ],
             [
              0.3333333333333333,
              "#9c179e"
             ],
             [
              0.4444444444444444,
              "#bd3786"
             ],
             [
              0.5555555555555556,
              "#d8576b"
             ],
             [
              0.6666666666666666,
              "#ed7953"
             ],
             [
              0.7777777777777778,
              "#fb9f3a"
             ],
             [
              0.8888888888888888,
              "#fdca26"
             ],
             [
              1,
              "#f0f921"
             ]
            ],
            "type": "surface"
           }
          ],
          "table": [
           {
            "cells": {
             "fill": {
              "color": "#EBF0F8"
             },
             "line": {
              "color": "white"
             }
            },
            "header": {
             "fill": {
              "color": "#C8D4E3"
             },
             "line": {
              "color": "white"
             }
            },
            "type": "table"
           }
          ]
         },
         "layout": {
          "annotationdefaults": {
           "arrowcolor": "#2a3f5f",
           "arrowhead": 0,
           "arrowwidth": 1
          },
          "autotypenumbers": "strict",
          "coloraxis": {
           "colorbar": {
            "outlinewidth": 0,
            "ticks": ""
           }
          },
          "colorscale": {
           "diverging": [
            [
             0,
             "#8e0152"
            ],
            [
             0.1,
             "#c51b7d"
            ],
            [
             0.2,
             "#de77ae"
            ],
            [
             0.3,
             "#f1b6da"
            ],
            [
             0.4,
             "#fde0ef"
            ],
            [
             0.5,
             "#f7f7f7"
            ],
            [
             0.6,
             "#e6f5d0"
            ],
            [
             0.7,
             "#b8e186"
            ],
            [
             0.8,
             "#7fbc41"
            ],
            [
             0.9,
             "#4d9221"
            ],
            [
             1,
             "#276419"
            ]
           ],
           "sequential": [
            [
             0,
             "#0d0887"
            ],
            [
             0.1111111111111111,
             "#46039f"
            ],
            [
             0.2222222222222222,
             "#7201a8"
            ],
            [
             0.3333333333333333,
             "#9c179e"
            ],
            [
             0.4444444444444444,
             "#bd3786"
            ],
            [
             0.5555555555555556,
             "#d8576b"
            ],
            [
             0.6666666666666666,
             "#ed7953"
            ],
            [
             0.7777777777777778,
             "#fb9f3a"
            ],
            [
             0.8888888888888888,
             "#fdca26"
            ],
            [
             1,
             "#f0f921"
            ]
           ],
           "sequentialminus": [
            [
             0,
             "#0d0887"
            ],
            [
             0.1111111111111111,
             "#46039f"
            ],
            [
             0.2222222222222222,
             "#7201a8"
            ],
            [
             0.3333333333333333,
             "#9c179e"
            ],
            [
             0.4444444444444444,
             "#bd3786"
            ],
            [
             0.5555555555555556,
             "#d8576b"
            ],
            [
             0.6666666666666666,
             "#ed7953"
            ],
            [
             0.7777777777777778,
             "#fb9f3a"
            ],
            [
             0.8888888888888888,
             "#fdca26"
            ],
            [
             1,
             "#f0f921"
            ]
           ]
          },
          "colorway": [
           "#636efa",
           "#EF553B",
           "#00cc96",
           "#ab63fa",
           "#FFA15A",
           "#19d3f3",
           "#FF6692",
           "#B6E880",
           "#FF97FF",
           "#FECB52"
          ],
          "font": {
           "color": "#2a3f5f"
          },
          "geo": {
           "bgcolor": "white",
           "lakecolor": "white",
           "landcolor": "#E5ECF6",
           "showlakes": true,
           "showland": true,
           "subunitcolor": "white"
          },
          "hoverlabel": {
           "align": "left"
          },
          "hovermode": "closest",
          "mapbox": {
           "style": "light"
          },
          "paper_bgcolor": "white",
          "plot_bgcolor": "#E5ECF6",
          "polar": {
           "angularaxis": {
            "gridcolor": "white",
            "linecolor": "white",
            "ticks": ""
           },
           "bgcolor": "#E5ECF6",
           "radialaxis": {
            "gridcolor": "white",
            "linecolor": "white",
            "ticks": ""
           }
          },
          "scene": {
           "xaxis": {
            "backgroundcolor": "#E5ECF6",
            "gridcolor": "white",
            "gridwidth": 2,
            "linecolor": "white",
            "showbackground": true,
            "ticks": "",
            "zerolinecolor": "white"
           },
           "yaxis": {
            "backgroundcolor": "#E5ECF6",
            "gridcolor": "white",
            "gridwidth": 2,
            "linecolor": "white",
            "showbackground": true,
            "ticks": "",
            "zerolinecolor": "white"
           },
           "zaxis": {
            "backgroundcolor": "#E5ECF6",
            "gridcolor": "white",
            "gridwidth": 2,
            "linecolor": "white",
            "showbackground": true,
            "ticks": "",
            "zerolinecolor": "white"
           }
          },
          "shapedefaults": {
           "line": {
            "color": "#2a3f5f"
           }
          },
          "ternary": {
           "aaxis": {
            "gridcolor": "white",
            "linecolor": "white",
            "ticks": ""
           },
           "baxis": {
            "gridcolor": "white",
            "linecolor": "white",
            "ticks": ""
           },
           "bgcolor": "#E5ECF6",
           "caxis": {
            "gridcolor": "white",
            "linecolor": "white",
            "ticks": ""
           }
          },
          "title": {
           "x": 0.05
          },
          "xaxis": {
           "automargin": true,
           "gridcolor": "white",
           "linecolor": "white",
           "ticks": "",
           "title": {
            "standoff": 15
           },
           "zerolinecolor": "white",
           "zerolinewidth": 2
          },
          "yaxis": {
           "automargin": true,
           "gridcolor": "white",
           "linecolor": "white",
           "ticks": "",
           "title": {
            "standoff": 15
           },
           "zerolinecolor": "white",
           "zerolinewidth": 2
          }
         }
        },
        "title": {
         "text": "Profit outcomes at different loan amounts (91.94% chance)"
        },
        "xaxis": {
         "anchor": "y",
         "domain": [
          0,
          1
         ],
         "title": {
          "text": "Second Instalments $"
         }
        },
        "yaxis": {
         "anchor": "x",
         "domain": [
          0,
          1
         ],
         "title": {
          "text": "value"
         }
        }
       }
      }
     },
     "metadata": {},
     "output_type": "display_data"
    }
   ],
   "source": [
    "# a line graph for the average return with different gearing ratios and profits\n",
    "possible_loan_amounts = range(int(underlying_share_price * 0.1), int(underlying_share_price * 0.9)) # 10%-90% gearing\n",
    "possible_first_instalments = []\n",
    "possible_num_of_warrants = []\n",
    "possible_average_profits = []\n",
    "possible_best_profits = []\n",
    "possible_worst_profits = []\n",
    "\n",
    "successful_recovery_possible_average_profits = []\n",
    "successful_recovery_possible_best_profits = []\n",
    "successful_recovery_possible_worst_profits = []\n",
    "\n",
    "for loan in possible_loan_amounts:\n",
    "    possible_first_instalments.append(round(underlying_share_price - loan, 3))\n",
    "\n",
    "for instalment in possible_first_instalments:\n",
    "    possible_num_of_warrants.append(int(investment_amount / instalment))\n",
    "\n",
    "for i in range(len(possible_num_of_warrants)):\n",
    "    loan = possible_loan_amounts[i]\n",
    "    div = dps * possible_num_of_warrants[i]\n",
    "    \n",
    "    avg_interest = (loan * (1 + daily_interst_rate) ** full_avg_recovery_duration - loan) * possible_num_of_warrants[i]\n",
    "    best_interest = (loan * (1 + daily_interst_rate) ** min(full_div_recovery_duration) - loan) * possible_num_of_warrants[i]\n",
    "    worst_interest = (loan * (1 + daily_interst_rate) ** max(full_div_recovery_duration) - loan) * possible_num_of_warrants[i]\n",
    "    \n",
    "    successful_recovery_avg_interest = (loan * (1 + daily_interst_rate) ** avg_recovery_duration - loan) * possible_num_of_warrants[i]\n",
    "    successful_recovery_best_interest = (loan * (1 + daily_interst_rate) ** min(div_recovery_duration) - loan) * possible_num_of_warrants[i]\n",
    "    successful_recovery_worst_interest = (loan * (1 + daily_interst_rate) ** max(div_recovery_duration) - loan) * possible_num_of_warrants[i]\n",
    "    \n",
    "    \n",
    "    possible_average_profits.append(round(div - avg_interest, 2))\n",
    "    possible_best_profits.append(round(div - best_interest, 2))\n",
    "    possible_worst_profits.append(round(div - worst_interest, 2))\n",
    "    \n",
    "    successful_recovery_possible_average_profits.append(round(div - successful_recovery_avg_interest, 2))\n",
    "    successful_recovery_possible_best_profits.append(round(div - successful_recovery_best_interest, 2))\n",
    "    successful_recovery_possible_worst_profits.append(round(div - successful_recovery_worst_interest, 2))\n",
    "\n",
    "result_df = pd.DataFrame()\n",
    "result_df[\"Second Instalments $\"] = possible_loan_amounts\n",
    "result_df[\"Average Profit $\"] = possible_average_profits\n",
    "result_df[\"Best Profit $\"] = possible_best_profits\n",
    "result_df[\"Worst Profit $\"] = possible_worst_profits\n",
    "\n",
    "success_result_df = pd.DataFrame()\n",
    "success_result_df[\"Second Instalments $\"] = possible_loan_amounts\n",
    "success_result_df[\"Average Profit After Successful Recovery $\"] = successful_recovery_possible_average_profits\n",
    "success_result_df[\"Best Profit After Successful Recovery $\"] = successful_recovery_possible_best_profits\n",
    "success_result_df[\"Worst Profit After Successful Recovery $\"] = successful_recovery_possible_worst_profits\n",
    "\n",
    "print(\"Profit outcomes at different loan amounts based on the entire dividend history\")\n",
    "px.line(result_df, x = \"Second Instalments $\", \n",
    "        y = [\"Average Profit $\", \"Best Profit $\", \"Worst Profit $\"],\n",
    "        title = \"Profit outcomes at different loan amounts\").show()\n",
    "\n",
    "print(f\"Profit outcomes at {round(success_rate * 100, 2)}% of the chance (share price recovers before the next ex-dividend date)\")\n",
    "px.line(success_result_df, x = \"Second Instalments $\", \n",
    "        y = [\"Average Profit After Successful Recovery $\", \"Best Profit After Successful Recovery $\", \"Worst Profit After Successful Recovery $\"],\n",
    "        title = f\"Profit outcomes at different loan amounts ({round(success_rate * 100, 2)}% chance)\").show()"
   ]
  },
  {
   "cell_type": "markdown",
   "metadata": {},
   "source": [
    "Break-even analysis"
   ]
  },
  {
   "cell_type": "code",
   "execution_count": 9,
   "metadata": {},
   "outputs": [
    {
     "data": {
      "application/vnd.plotly.v1+json": {
       "config": {
        "plotlyServerURL": "https://plot.ly"
       },
       "data": [
        {
         "fillpattern": {
          "shape": ""
         },
         "hovertemplate": "Recovery Duration (Days)=%{x}<br>Profit $=%{y}<extra></extra>",
         "legendgroup": "",
         "line": {
          "color": "#636efa"
         },
         "marker": {
          "symbol": "circle"
         },
         "mode": "lines",
         "name": "",
         "orientation": "v",
         "showlegend": false,
         "stackgroup": "1",
         "type": "scatter",
         "x": [
          1,
          2,
          3,
          4,
          5,
          6,
          7,
          8,
          9,
          10,
          11,
          12,
          13,
          14,
          15,
          16,
          17,
          18,
          19,
          20,
          21,
          22,
          23,
          24,
          25,
          26,
          27,
          28,
          29,
          30,
          31,
          32,
          33,
          34,
          35,
          36,
          37,
          38,
          39,
          40,
          41,
          42,
          43,
          44,
          45,
          46,
          47,
          48,
          49,
          50,
          51,
          52,
          53,
          54,
          55,
          56,
          57,
          58,
          59,
          60,
          61,
          62,
          63,
          64,
          65,
          66,
          67,
          68,
          69,
          70,
          71,
          72,
          73,
          74,
          75,
          76,
          77,
          78,
          79,
          80,
          81,
          82,
          83,
          84,
          85,
          86,
          87,
          88,
          89,
          90,
          91,
          92,
          93,
          94,
          95,
          96,
          97,
          98,
          99,
          100,
          101,
          102,
          103,
          104,
          105,
          106,
          107,
          108,
          109,
          110,
          111,
          112,
          113,
          114,
          115,
          116,
          117,
          118,
          119,
          120,
          121,
          122,
          123,
          124,
          125,
          126,
          127,
          128,
          129,
          130,
          131,
          132,
          133,
          134,
          135,
          136,
          137,
          138,
          139,
          140,
          141,
          142,
          143,
          144,
          145,
          146,
          147,
          148,
          149,
          150,
          151,
          152,
          153,
          154,
          155,
          156,
          157,
          158,
          159,
          160,
          161,
          162,
          163,
          164,
          165,
          166,
          167,
          168,
          169,
          170,
          171,
          172,
          173,
          174,
          175,
          176,
          177,
          178,
          179,
          180,
          181,
          182,
          183,
          184,
          185,
          186,
          187,
          188,
          189,
          190,
          191,
          192,
          193,
          194,
          195,
          196,
          197,
          198,
          199,
          200,
          201,
          202,
          203,
          204,
          205,
          206,
          207,
          208,
          209,
          210,
          211,
          212,
          213,
          214,
          215,
          216,
          217,
          218,
          219,
          220,
          221,
          222,
          223,
          224,
          225,
          226,
          227,
          228,
          229,
          230,
          231,
          232,
          233,
          234,
          235,
          236,
          237,
          238,
          239,
          240,
          241,
          242,
          243,
          244,
          245,
          246,
          247,
          248,
          249,
          250,
          251,
          252,
          253,
          254,
          255,
          256,
          257,
          258,
          259,
          260,
          261,
          262,
          263,
          264,
          265,
          266,
          267,
          268,
          269,
          270,
          271,
          272,
          273,
          274,
          275,
          276,
          277,
          278,
          279,
          280,
          281,
          282,
          283,
          284,
          285,
          286,
          287,
          288,
          289,
          290,
          291,
          292,
          293,
          294,
          295,
          296,
          297,
          298,
          299,
          300,
          301,
          302,
          303,
          304,
          305,
          306,
          307,
          308,
          309,
          310,
          311,
          312,
          313,
          314,
          315,
          316,
          317,
          318,
          319,
          320,
          321,
          322,
          323,
          324,
          325,
          326,
          327,
          328,
          329,
          330,
          331,
          332,
          333,
          334,
          335,
          336,
          337,
          338,
          339,
          340,
          341,
          342,
          343,
          344,
          345,
          346,
          347,
          348,
          349,
          350,
          351,
          352,
          353,
          354,
          355,
          356,
          357,
          358,
          359,
          360,
          361,
          362,
          363,
          364,
          365,
          366,
          367,
          368,
          369,
          370,
          371,
          372,
          373,
          374,
          375,
          376,
          377,
          378,
          379,
          380,
          381,
          382,
          383,
          384,
          385,
          386,
          387,
          388,
          389,
          390,
          391,
          392,
          393,
          394,
          395,
          396,
          397,
          398,
          399,
          400,
          401,
          402,
          403,
          404,
          405,
          406,
          407,
          408,
          409,
          410,
          411,
          412,
          413,
          414,
          415,
          416,
          417,
          418,
          419,
          420,
          421,
          422,
          423,
          424,
          425,
          426,
          427,
          428,
          429,
          430,
          431,
          432,
          433,
          434,
          435,
          436,
          437,
          438,
          439,
          440,
          441,
          442,
          443,
          444,
          445,
          446,
          447,
          448,
          449,
          450,
          451,
          452,
          453,
          454,
          455,
          456,
          457,
          458,
          459,
          460,
          461,
          462,
          463,
          464,
          465,
          466,
          467,
          468,
          469,
          470,
          471,
          472,
          473,
          474,
          475,
          476,
          477,
          478,
          479,
          480,
          481,
          482,
          483,
          484,
          485,
          486,
          487,
          488,
          489,
          490,
          491,
          492,
          493,
          494,
          495,
          496,
          497,
          498,
          499,
          500,
          501,
          502,
          503,
          504,
          505,
          506,
          507,
          508,
          509,
          510,
          511,
          512,
          513,
          514,
          515,
          516,
          517,
          518,
          519,
          520
         ],
         "xaxis": "x",
         "y": [
          406.0997260273971,
          404.19909803114933,
          402.2981159453027,
          400.3967797038873,
          398.49508924092726,
          396.5930444904309,
          394.6906453863892,
          392.78789186278993,
          390.88478385360105,
          388.9813212927843,
          387.0775041142857,
          385.17333225203674,
          383.26880563996156,
          381.3639242119713,
          379.4586879019613,
          377.5530966438166,
          375.64715037140775,
          373.7408490185996,
          371.834192519238,
          369.92718080716025,
          368.01981381618765,
          366.11209148012847,
          364.204013732788,
          362.29558050794844,
          360.3867917393833,
          358.4776473608587,
          356.5681473061193,
          354.658291508905,
          352.7480799029386,
          350.83751242193284,
          348.92658899958997,
          347.0153095695937,
          345.1036740656232,
          343.19168242133753,
          341.27933457039114,
          339.36663044642,
          337.453569983051,
          335.5401531138953,
          333.62637977255685,
          331.712249892625,
          329.7977634076716,
          327.88292025126304,
          325.9677203569553,
          324.0521636582811,
          322.1362500887691,
          320.2199795819361,
          318.30335207128314,
          316.3863674902966,
          314.46902577245874,
          312.5513268512326,
          310.63327066006866,
          308.7148571324111,
          306.79608620168426,
          304.8769578013064,
          302.95747186467554,
          301.0376283251869,
          299.1174271162167,
          297.1968681711311,
          295.27595142328175,
          293.3546768060132,
          291.4330442526494,
          289.5110536965087,
          287.588705070895,
          285.66599830910195,
          283.74293334440154,
          281.81951011006413,
          279.8957285393443,
          277.9715885654836,
          276.0470901217076,
          274.12223314123594,
          272.1970175572726,
          270.27144330300814,
          268.34551031162334,
          266.41921851628433,
          264.49256785014404,
          262.5655582463455,
          260.63818963801714,
          258.71046195827876,
          256.78237514023255,
          254.85392911696792,
          252.9251238215698,
          250.9959591871043,
          249.066435146623,
          247.1365516331703,
          245.20630857977608,
          243.27570591945567,
          241.34474358521433,
          239.41342151004713,
          237.48173962692886,
          235.54969786883285,
          233.61729616870926,
          231.68453445949953,
          229.75141267413787,
          227.81793074553963,
          225.88408860661002,
          223.94988619023977,
          222.01532342930943,
          220.08040025668944,
          218.14511660522848,
          216.20947240777377,
          214.27346759715226,
          212.33710210618364,
          210.40037586767164,
          208.46328881440698,
          206.5258408791731,
          204.58803199473317,
          202.6498620938431,
          200.71133110924575,
          198.77243897367094,
          196.8331856198369,
          194.89357098044303,
          192.95359498818578,
          191.0132575757457,
          189.0725586757874,
          187.1314982209653,
          185.19007614391938,
          183.24829237728233,
          181.30614685366945,
          179.36363950568446,
          177.42077026592239,
          175.4775390669565,
          173.53394584135717,
          171.58999052167738,
          169.64567304045852,
          167.70099333023038,
          165.75595132350824,
          163.81054695279582,
          161.8647801505823,
          159.91865084934966,
          157.97215898156244,
          156.02530447967217,
          154.0780872761231,
          152.13050730333924,
          150.18256449374167,
          148.23425877972818,
          146.28559009369098,
          144.33655836801046,
          142.38716353504833,
          140.43740552715894,
          138.48728427668084,
          136.5367997159437,
          134.5859517772584,
          132.63474039293163,
          130.68316549524957,
          128.7312270164913,
          126.77892488892121,
          124.82625904479244,
          122.87322941633897,
          120.9198359357905,
          118.96607853536091,
          117.01195714725236,
          115.05747170365112,
          113.10262213673474,
          111.1474083786677,
          109.19183036159575,
          107.23588801766311,
          105.27958127899069,
          103.32291007769675,
          101.36587434587466,
          99.40847401561507,
          97.45070901899123,
          95.49257928806753,
          93.53408475489408,
          91.57522535150338,
          89.61600100992524,
          87.65641166216756,
          85.69645724022962,
          83.73613767609766,
          81.77545290174629,
          79.81440284913708,
          77.8529874502143,
          75.89120663691625,
          73.92906034116686,
          71.96654849487408,
          70.00367102993573,
          68.04042787823653,
          66.07681897164673,
          64.11284424203086,
          62.14850362123161,
          60.18379704108304,
          58.21872443340749,
          56.253285730014454,
          54.287480862697294,
          52.32130976324072,
          50.354772363413645,
          48.38786859497759,
          46.42059838967373,
          44.45296167923618,
          42.48495839538441,
          40.5165884698248,
          38.547851834250935,
          36.57874842034454,
          34.60927815977442,
          32.63944098419779,
          30.669236825258736,
          28.698665614584,
          26.727727283794593,
          24.756421764491165,
          22.784748988271417,
          20.81270888671429,
          18.840301391381274,
          16.867526433832495,
          14.89438394560625,
          12.920873858229243,
          10.946996103221068,
          8.972750612085065,
          6.998137316307577,
          5.023156147367388,
          3.047807036731797,
          1.0720899158508246,
          -0.9039952838388672,
          -2.8804486309045387,
          -4.857270193937097,
          -6.834460041535749,
          -8.812018242311524,
          -10.78994486488989,
          -12.768239977906433,
          -14.74690365001129,
          -16.725935949871996,
          -18.705336946158923,
          -20.685106707564273,
          -22.66524530278582,
          -24.64575280054055,
          -26.6266292695567,
          -28.60787477857292,
          -30.589489396340696,
          -32.571473191624705,
          -34.553826233208326,
          -36.53654858987511,
          -38.519640330436005,
          -40.50310152370503,
          -42.486932238508984,
          -44.47113254369515,
          -46.455702508115166,
          -48.440642200636546,
          -50.42595169014277,
          -52.41163104552743,
          -54.39768033569726,
          -56.38409962956763,
          -58.37088899607414,
          -60.35804850416264,
          -62.345578222787594,
          -64.3334782209239,
          -66.32174856755353,
          -68.31038933167008,
          -70.29940058228613,
          -72.28878238842282,
          -74.27853481911586,
          -76.26865794340955,
          -78.25915183037012,
          -80.25001654906936,
          -82.2412521685909,
          -84.23285875803697,
          -86.22483638651732,
          -88.21718512316033,
          -90.20990503710311,
          -92.20299619749437,
          -94.19645867349749,
          -96.19029253429301,
          -98.18449784906585,
          -100.17907468702282,
          -102.17402311737641,
          -104.16934320935502,
          -106.16503503220031,
          -108.16109865516671,
          -110.15753414751896,
          -112.15434157854065,
          -114.15152101751812,
          -116.14907253376532,
          -118.14699619659359,
          -120.1452920753369,
          -122.14396023933989,
          -124.14300075796132,
          -126.14241370056902,
          -128.1421991365478,
          -130.14235713529138,
          -132.14288776621095,
          -134.1437910987263,
          -136.14506720227314,
          -138.1467161463031,
          -140.1487380002709,
          -142.15113283365122,
          -144.15390071593367,
          -146.15704171661469,
          -148.16055590521137,
          -150.16444335124197,
          -152.16870412425226,
          -154.17333829378845,
          -156.17834592941642,
          -158.18372710071276,
          -160.1894818772696,
          -162.19561032868944,
          -164.20211252458637,
          -166.20898853459028,
          -168.2162384283456,
          -170.22386227550714,
          -172.23186014574094,
          -174.24023210872485,
          -176.2489782341613,
          -178.25809859175,
          -180.26759325121338,
          -182.27746228228762,
          -184.28770575471253,
          -186.2983237382516,
          -188.30931630267537,
          -190.32068351776604,
          -192.33242545332757,
          -194.34454217916516,
          -196.35703376510605,
          -198.36990028098762,
          -200.38314179665838,
          -202.39675838197763,
          -204.4107501068304,
          -206.42511704109722,
          -208.43985925468382,
          -210.45497681750396,
          -212.4704697994864,
          -214.48633827057415,
          -216.50258230071756,
          -218.51920195988725,
          -220.536197318061,
          -222.5535684452327,
          -224.57131541141212,
          -226.58943828661177,
          -228.60793714086753,
          -230.62681204422688,
          -232.6460630667459,
          -234.6656902784954,
          -236.6856937495603,
          -238.70607355004313,
          -240.72682975004795,
          -242.74796241969898,
          -244.7694716291378,
          -246.79135744851044,
          -248.81361994798044,
          -250.83625919772544,
          -252.85927526793228,
          -254.88266822880632,
          -256.90643815055716,
          -258.9305851034194,
          -260.9551091576318,
          -262.9800103834475,
          -265.0052888511359,
          -267.0309446309791,
          -269.0569777932667,
          -271.08338840830845,
          -273.11017654642285,
          -275.1373422779443,
          -277.1648856732188,
          -279.19280680260556,
          -281.2211057364781,
          -283.24978254521716,
          -285.2788372992254,
          -287.30827006891707,
          -289.3380809247104,
          -291.36826993704733,
          -293.39883717637963,
          -295.42978271317065,
          -297.46110661789567,
          -299.4928089610469,
          -301.5248898131283,
          -303.55734924465435,
          -305.5901873261579,
          -307.62340412818344,
          -309.65699972128164,
          -311.690974176023,
          -313.7253275629944,
          -315.76005995278797,
          -317.7951714160124,
          -319.8306620232919,
          -321.86653184525653,
          -323.9027809525626,
          -325.93940941586357,
          -327.97641730583564,
          -330.01380469317303,
          -332.05157164856803,
          -334.08971824273783,
          -336.1282445464126,
          -338.16715063032825,
          -340.2064365652395,
          -342.2461024219157,
          -344.28614827113483,
          -346.3265741836909,
          -348.3673802303895,
          -350.40856648204885,
          -352.4501330095038,
          -354.4920798835989,
          -356.5344071751947,
          -358.57711495516355,
          -360.62020329438917,
          -362.6636722637712,
          -364.7075219342198,
          -366.7517523766619,
          -368.7963636620382,
          -370.8413558612974,
          -372.8867290454018,
          -374.93248328533514,
          -376.97861865208563,
          -379.0251352166572,
          -381.07203305006726,
          -383.1193122233502,
          -385.16697280754636,
          -387.2150148737121,
          -389.26343849292107,
          -391.31224373626014,
          -393.3614306748186,
          -395.4109993797125,
          -397.46094992206326,
          -399.51128237300827,
          -401.5619968036981,
          -403.6130932852949,
          -405.66457188897516,
          -407.7164326859315,
          -409.7686757473638,
          -411.82130114449194,
          -413.8743089485405,
          -415.92769923075707,
          -417.9814720623965,
          -420.0356275147253,
          -422.0901656590288,
          -424.1450865666052,
          -426.2003903087618,
          -428.2560769568199,
          -430.3121465821158,
          -432.3685992560013,
          -434.42543504983576,
          -436.4826540349958,
          -438.5402562828724,
          -440.5982418648641,
          -442.6566108523924,
          -444.7153633168789,
          -446.7744993297712,
          -448.8340189625271,
          -450.89392228660597,
          -452.9542093734989,
          -455.0148802946984,
          -457.07593512171456,
          -459.13737392606595,
          -461.1991967792917,
          -463.2614037529379,
          -465.3239949185697,
          -467.3869703477608,
          -469.45033011209955,
          -471.5140742831901,
          -473.57820293264683,
          -475.6427161320985,
          -477.7076139531857,
          -479.772896467569,
          -481.8385637469107,
          -483.9046158628962,
          -485.9710528872238,
          -488.0378748915979,
          -490.1050819477414,
          -492.1726741273933,
          -494.24065150229853,
          -496.3090141442235,
          -498.37776212494214,
          -500.44689551624424,
          -502.5164143899294,
          -504.58631881781673,
          -506.65660887173476,
          -508.72728462352575,
          -510.79834614504443,
          -512.8697935081632,
          -514.9416267847616,
          -517.0138460467398,
          -519.0864513660033,
          -521.1594428144781,
          -523.232820464099,
          -525.3065843868164,
          -527.380734654593,
          -529.4552713394079,
          -531.5301945132453,
          -533.6055042481153,
          -535.6812006160294,
          -537.7572836890223,
          -539.8337535391345,
          -541.9106102384254,
          -543.9878538589629,
          -546.0654844728341,
          -548.1435021521345,
          -550.2219069689754,
          -552.3006989954789,
          -554.3798783037853,
          -556.4594449660452,
          -558.5393990544253,
          -560.6197406410981,
          -562.7004697982591,
          -564.7815865981125,
          -566.8630911128758,
          -568.9449834147823,
          -571.0272635760768,
          -573.1099316690188,
          -575.1929877658793,
          -577.276431938942,
          -579.3602642605101,
          -581.4444848028936,
          -583.5290936384199,
          -585.6140908394269,
          -587.6994764782681,
          -589.7852506273116,
          -591.8714133589369,
          -593.9579647455356,
          -596.0449048595176,
          -598.1322337733004,
          -600.2199515593187,
          -602.3080582900218,
          -604.3965540378676,
          -606.4854388753317,
          -608.5747128749051,
          -610.6643761090836,
          -612.754428650389,
          -614.8448705713444,
          -616.9357019444903,
          -619.0269228423892,
          -621.1185333376047,
          -623.2105335027184,
          -625.3029234103326,
          -627.3957031330506,
          -629.488872743497
         ],
         "yaxis": "y"
        }
       ],
       "layout": {
        "legend": {
         "tracegroupgap": 0
        },
        "margin": {
         "t": 60
        },
        "template": {
         "data": {
          "bar": [
           {
            "error_x": {
             "color": "#2a3f5f"
            },
            "error_y": {
             "color": "#2a3f5f"
            },
            "marker": {
             "line": {
              "color": "#E5ECF6",
              "width": 0.5
             },
             "pattern": {
              "fillmode": "overlay",
              "size": 10,
              "solidity": 0.2
             }
            },
            "type": "bar"
           }
          ],
          "barpolar": [
           {
            "marker": {
             "line": {
              "color": "#E5ECF6",
              "width": 0.5
             },
             "pattern": {
              "fillmode": "overlay",
              "size": 10,
              "solidity": 0.2
             }
            },
            "type": "barpolar"
           }
          ],
          "carpet": [
           {
            "aaxis": {
             "endlinecolor": "#2a3f5f",
             "gridcolor": "white",
             "linecolor": "white",
             "minorgridcolor": "white",
             "startlinecolor": "#2a3f5f"
            },
            "baxis": {
             "endlinecolor": "#2a3f5f",
             "gridcolor": "white",
             "linecolor": "white",
             "minorgridcolor": "white",
             "startlinecolor": "#2a3f5f"
            },
            "type": "carpet"
           }
          ],
          "choropleth": [
           {
            "colorbar": {
             "outlinewidth": 0,
             "ticks": ""
            },
            "type": "choropleth"
           }
          ],
          "contour": [
           {
            "colorbar": {
             "outlinewidth": 0,
             "ticks": ""
            },
            "colorscale": [
             [
              0,
              "#0d0887"
             ],
             [
              0.1111111111111111,
              "#46039f"
             ],
             [
              0.2222222222222222,
              "#7201a8"
             ],
             [
              0.3333333333333333,
              "#9c179e"
             ],
             [
              0.4444444444444444,
              "#bd3786"
             ],
             [
              0.5555555555555556,
              "#d8576b"
             ],
             [
              0.6666666666666666,
              "#ed7953"
             ],
             [
              0.7777777777777778,
              "#fb9f3a"
             ],
             [
              0.8888888888888888,
              "#fdca26"
             ],
             [
              1,
              "#f0f921"
             ]
            ],
            "type": "contour"
           }
          ],
          "contourcarpet": [
           {
            "colorbar": {
             "outlinewidth": 0,
             "ticks": ""
            },
            "type": "contourcarpet"
           }
          ],
          "heatmap": [
           {
            "colorbar": {
             "outlinewidth": 0,
             "ticks": ""
            },
            "colorscale": [
             [
              0,
              "#0d0887"
             ],
             [
              0.1111111111111111,
              "#46039f"
             ],
             [
              0.2222222222222222,
              "#7201a8"
             ],
             [
              0.3333333333333333,
              "#9c179e"
             ],
             [
              0.4444444444444444,
              "#bd3786"
             ],
             [
              0.5555555555555556,
              "#d8576b"
             ],
             [
              0.6666666666666666,
              "#ed7953"
             ],
             [
              0.7777777777777778,
              "#fb9f3a"
             ],
             [
              0.8888888888888888,
              "#fdca26"
             ],
             [
              1,
              "#f0f921"
             ]
            ],
            "type": "heatmap"
           }
          ],
          "heatmapgl": [
           {
            "colorbar": {
             "outlinewidth": 0,
             "ticks": ""
            },
            "colorscale": [
             [
              0,
              "#0d0887"
             ],
             [
              0.1111111111111111,
              "#46039f"
             ],
             [
              0.2222222222222222,
              "#7201a8"
             ],
             [
              0.3333333333333333,
              "#9c179e"
             ],
             [
              0.4444444444444444,
              "#bd3786"
             ],
             [
              0.5555555555555556,
              "#d8576b"
             ],
             [
              0.6666666666666666,
              "#ed7953"
             ],
             [
              0.7777777777777778,
              "#fb9f3a"
             ],
             [
              0.8888888888888888,
              "#fdca26"
             ],
             [
              1,
              "#f0f921"
             ]
            ],
            "type": "heatmapgl"
           }
          ],
          "histogram": [
           {
            "marker": {
             "pattern": {
              "fillmode": "overlay",
              "size": 10,
              "solidity": 0.2
             }
            },
            "type": "histogram"
           }
          ],
          "histogram2d": [
           {
            "colorbar": {
             "outlinewidth": 0,
             "ticks": ""
            },
            "colorscale": [
             [
              0,
              "#0d0887"
             ],
             [
              0.1111111111111111,
              "#46039f"
             ],
             [
              0.2222222222222222,
              "#7201a8"
             ],
             [
              0.3333333333333333,
              "#9c179e"
             ],
             [
              0.4444444444444444,
              "#bd3786"
             ],
             [
              0.5555555555555556,
              "#d8576b"
             ],
             [
              0.6666666666666666,
              "#ed7953"
             ],
             [
              0.7777777777777778,
              "#fb9f3a"
             ],
             [
              0.8888888888888888,
              "#fdca26"
             ],
             [
              1,
              "#f0f921"
             ]
            ],
            "type": "histogram2d"
           }
          ],
          "histogram2dcontour": [
           {
            "colorbar": {
             "outlinewidth": 0,
             "ticks": ""
            },
            "colorscale": [
             [
              0,
              "#0d0887"
             ],
             [
              0.1111111111111111,
              "#46039f"
             ],
             [
              0.2222222222222222,
              "#7201a8"
             ],
             [
              0.3333333333333333,
              "#9c179e"
             ],
             [
              0.4444444444444444,
              "#bd3786"
             ],
             [
              0.5555555555555556,
              "#d8576b"
             ],
             [
              0.6666666666666666,
              "#ed7953"
             ],
             [
              0.7777777777777778,
              "#fb9f3a"
             ],
             [
              0.8888888888888888,
              "#fdca26"
             ],
             [
              1,
              "#f0f921"
             ]
            ],
            "type": "histogram2dcontour"
           }
          ],
          "mesh3d": [
           {
            "colorbar": {
             "outlinewidth": 0,
             "ticks": ""
            },
            "type": "mesh3d"
           }
          ],
          "parcoords": [
           {
            "line": {
             "colorbar": {
              "outlinewidth": 0,
              "ticks": ""
             }
            },
            "type": "parcoords"
           }
          ],
          "pie": [
           {
            "automargin": true,
            "type": "pie"
           }
          ],
          "scatter": [
           {
            "fillpattern": {
             "fillmode": "overlay",
             "size": 10,
             "solidity": 0.2
            },
            "type": "scatter"
           }
          ],
          "scatter3d": [
           {
            "line": {
             "colorbar": {
              "outlinewidth": 0,
              "ticks": ""
             }
            },
            "marker": {
             "colorbar": {
              "outlinewidth": 0,
              "ticks": ""
             }
            },
            "type": "scatter3d"
           }
          ],
          "scattercarpet": [
           {
            "marker": {
             "colorbar": {
              "outlinewidth": 0,
              "ticks": ""
             }
            },
            "type": "scattercarpet"
           }
          ],
          "scattergeo": [
           {
            "marker": {
             "colorbar": {
              "outlinewidth": 0,
              "ticks": ""
             }
            },
            "type": "scattergeo"
           }
          ],
          "scattergl": [
           {
            "marker": {
             "colorbar": {
              "outlinewidth": 0,
              "ticks": ""
             }
            },
            "type": "scattergl"
           }
          ],
          "scattermapbox": [
           {
            "marker": {
             "colorbar": {
              "outlinewidth": 0,
              "ticks": ""
             }
            },
            "type": "scattermapbox"
           }
          ],
          "scatterpolar": [
           {
            "marker": {
             "colorbar": {
              "outlinewidth": 0,
              "ticks": ""
             }
            },
            "type": "scatterpolar"
           }
          ],
          "scatterpolargl": [
           {
            "marker": {
             "colorbar": {
              "outlinewidth": 0,
              "ticks": ""
             }
            },
            "type": "scatterpolargl"
           }
          ],
          "scatterternary": [
           {
            "marker": {
             "colorbar": {
              "outlinewidth": 0,
              "ticks": ""
             }
            },
            "type": "scatterternary"
           }
          ],
          "surface": [
           {
            "colorbar": {
             "outlinewidth": 0,
             "ticks": ""
            },
            "colorscale": [
             [
              0,
              "#0d0887"
             ],
             [
              0.1111111111111111,
              "#46039f"
             ],
             [
              0.2222222222222222,
              "#7201a8"
             ],
             [
              0.3333333333333333,
              "#9c179e"
             ],
             [
              0.4444444444444444,
              "#bd3786"
             ],
             [
              0.5555555555555556,
              "#d8576b"
             ],
             [
              0.6666666666666666,
              "#ed7953"
             ],
             [
              0.7777777777777778,
              "#fb9f3a"
             ],
             [
              0.8888888888888888,
              "#fdca26"
             ],
             [
              1,
              "#f0f921"
             ]
            ],
            "type": "surface"
           }
          ],
          "table": [
           {
            "cells": {
             "fill": {
              "color": "#EBF0F8"
             },
             "line": {
              "color": "white"
             }
            },
            "header": {
             "fill": {
              "color": "#C8D4E3"
             },
             "line": {
              "color": "white"
             }
            },
            "type": "table"
           }
          ]
         },
         "layout": {
          "annotationdefaults": {
           "arrowcolor": "#2a3f5f",
           "arrowhead": 0,
           "arrowwidth": 1
          },
          "autotypenumbers": "strict",
          "coloraxis": {
           "colorbar": {
            "outlinewidth": 0,
            "ticks": ""
           }
          },
          "colorscale": {
           "diverging": [
            [
             0,
             "#8e0152"
            ],
            [
             0.1,
             "#c51b7d"
            ],
            [
             0.2,
             "#de77ae"
            ],
            [
             0.3,
             "#f1b6da"
            ],
            [
             0.4,
             "#fde0ef"
            ],
            [
             0.5,
             "#f7f7f7"
            ],
            [
             0.6,
             "#e6f5d0"
            ],
            [
             0.7,
             "#b8e186"
            ],
            [
             0.8,
             "#7fbc41"
            ],
            [
             0.9,
             "#4d9221"
            ],
            [
             1,
             "#276419"
            ]
           ],
           "sequential": [
            [
             0,
             "#0d0887"
            ],
            [
             0.1111111111111111,
             "#46039f"
            ],
            [
             0.2222222222222222,
             "#7201a8"
            ],
            [
             0.3333333333333333,
             "#9c179e"
            ],
            [
             0.4444444444444444,
             "#bd3786"
            ],
            [
             0.5555555555555556,
             "#d8576b"
            ],
            [
             0.6666666666666666,
             "#ed7953"
            ],
            [
             0.7777777777777778,
             "#fb9f3a"
            ],
            [
             0.8888888888888888,
             "#fdca26"
            ],
            [
             1,
             "#f0f921"
            ]
           ],
           "sequentialminus": [
            [
             0,
             "#0d0887"
            ],
            [
             0.1111111111111111,
             "#46039f"
            ],
            [
             0.2222222222222222,
             "#7201a8"
            ],
            [
             0.3333333333333333,
             "#9c179e"
            ],
            [
             0.4444444444444444,
             "#bd3786"
            ],
            [
             0.5555555555555556,
             "#d8576b"
            ],
            [
             0.6666666666666666,
             "#ed7953"
            ],
            [
             0.7777777777777778,
             "#fb9f3a"
            ],
            [
             0.8888888888888888,
             "#fdca26"
            ],
            [
             1,
             "#f0f921"
            ]
           ]
          },
          "colorway": [
           "#636efa",
           "#EF553B",
           "#00cc96",
           "#ab63fa",
           "#FFA15A",
           "#19d3f3",
           "#FF6692",
           "#B6E880",
           "#FF97FF",
           "#FECB52"
          ],
          "font": {
           "color": "#2a3f5f"
          },
          "geo": {
           "bgcolor": "white",
           "lakecolor": "white",
           "landcolor": "#E5ECF6",
           "showlakes": true,
           "showland": true,
           "subunitcolor": "white"
          },
          "hoverlabel": {
           "align": "left"
          },
          "hovermode": "closest",
          "mapbox": {
           "style": "light"
          },
          "paper_bgcolor": "white",
          "plot_bgcolor": "#E5ECF6",
          "polar": {
           "angularaxis": {
            "gridcolor": "white",
            "linecolor": "white",
            "ticks": ""
           },
           "bgcolor": "#E5ECF6",
           "radialaxis": {
            "gridcolor": "white",
            "linecolor": "white",
            "ticks": ""
           }
          },
          "scene": {
           "xaxis": {
            "backgroundcolor": "#E5ECF6",
            "gridcolor": "white",
            "gridwidth": 2,
            "linecolor": "white",
            "showbackground": true,
            "ticks": "",
            "zerolinecolor": "white"
           },
           "yaxis": {
            "backgroundcolor": "#E5ECF6",
            "gridcolor": "white",
            "gridwidth": 2,
            "linecolor": "white",
            "showbackground": true,
            "ticks": "",
            "zerolinecolor": "white"
           },
           "zaxis": {
            "backgroundcolor": "#E5ECF6",
            "gridcolor": "white",
            "gridwidth": 2,
            "linecolor": "white",
            "showbackground": true,
            "ticks": "",
            "zerolinecolor": "white"
           }
          },
          "shapedefaults": {
           "line": {
            "color": "#2a3f5f"
           }
          },
          "ternary": {
           "aaxis": {
            "gridcolor": "white",
            "linecolor": "white",
            "ticks": ""
           },
           "baxis": {
            "gridcolor": "white",
            "linecolor": "white",
            "ticks": ""
           },
           "bgcolor": "#E5ECF6",
           "caxis": {
            "gridcolor": "white",
            "linecolor": "white",
            "ticks": ""
           }
          },
          "title": {
           "x": 0.05
          },
          "xaxis": {
           "automargin": true,
           "gridcolor": "white",
           "linecolor": "white",
           "ticks": "",
           "title": {
            "standoff": 15
           },
           "zerolinecolor": "white",
           "zerolinewidth": 2
          },
          "yaxis": {
           "automargin": true,
           "gridcolor": "white",
           "linecolor": "white",
           "ticks": "",
           "title": {
            "standoff": 15
           },
           "zerolinecolor": "white",
           "zerolinewidth": 2
          }
         }
        },
        "xaxis": {
         "anchor": "y",
         "domain": [
          0,
          1
         ],
         "title": {
          "text": "Recovery Duration (Days)"
         }
        },
        "yaxis": {
         "anchor": "x",
         "domain": [
          0,
          1
         ],
         "title": {
          "text": "Profit $"
         }
        }
       }
      }
     },
     "metadata": {},
     "output_type": "display_data"
    }
   ],
   "source": [
    "possible_recovery_duration = range(min(full_div_recovery_duration), max(full_div_recovery_duration))\n",
    "profits = []\n",
    "\n",
    "for duration in possible_recovery_duration:\n",
    "    interest = (loan_amount_per_share * (1 + daily_interst_rate) ** duration - loan_amount_per_share) * total_warrants_bought\n",
    "    profits.append(total_div_received - interest)\n",
    "    \n",
    "break_even_df = pd.DataFrame()\n",
    "break_even_df[\"Recovery Duration (Days)\"] = possible_recovery_duration\n",
    "break_even_df[\"Profit $\"] = profits\n",
    "\n",
    "px.area(break_even_df, x = \"Recovery Duration (Days)\", y = \"Profit $\").show()"
   ]
  },
  {
   "cell_type": "code",
   "execution_count": null,
   "metadata": {},
   "outputs": [],
   "source": []
  }
 ],
 "metadata": {
  "kernelspec": {
   "display_name": "Python 3.10.2 64-bit",
   "language": "python",
   "name": "python3"
  },
  "language_info": {
   "codemirror_mode": {
    "name": "ipython",
    "version": 3
   },
   "file_extension": ".py",
   "mimetype": "text/x-python",
   "name": "python",
   "nbconvert_exporter": "python",
   "pygments_lexer": "ipython3",
   "version": "3.10.2"
  },
  "orig_nbformat": 4,
  "vscode": {
   "interpreter": {
    "hash": "aee8b7b246df8f9039afb4144a1f6fd8d2ca17a180786b69acc140d282b71a49"
   }
  }
 },
 "nbformat": 4,
 "nbformat_minor": 2
}
