{
 "cells": [
  {
   "cell_type": "markdown",
   "metadata": {},
   "source": [
    "### ASX Dividend Harvesting Analysis - Citi Instalment MINIs"
   ]
  },
  {
   "cell_type": "markdown",
   "metadata": {},
   "source": [
    "### Import Modules"
   ]
  },
  {
   "cell_type": "code",
   "execution_count": 1,
   "metadata": {},
   "outputs": [],
   "source": [
    "import yfinance as yf\n",
    "import plotly.express as px\n",
    "import pyasx.data.securities\n",
    "import pyasx.data.companies\n",
    "from dateutil.relativedelta import relativedelta\n",
    "import pandas as pd"
   ]
  },
  {
   "cell_type": "markdown",
   "metadata": {},
   "source": [
    "### ASX Company"
   ]
  },
  {
   "cell_type": "code",
   "execution_count": 2,
   "metadata": {},
   "outputs": [],
   "source": [
    "# Yahoo Finance only supports ASX company dividend hisotry (exluding ETFs)\n",
    "asx_code = \"BHP\"\n",
    "dps = 2.5"
   ]
  },
  {
   "cell_type": "markdown",
   "metadata": {},
   "source": [
    "### CitiWarrant Characteristics"
   ]
  },
  {
   "cell_type": "code",
   "execution_count": 3,
   "metadata": {},
   "outputs": [],
   "source": [
    "annual_interest_rate_on_loan = 0.068\n",
    "loan_amount_per_share = 20"
   ]
  },
  {
   "cell_type": "markdown",
   "metadata": {},
   "source": [
    "Warrant Calculation"
   ]
  },
  {
   "cell_type": "code",
   "execution_count": 4,
   "metadata": {},
   "outputs": [],
   "source": [
    "daily_interst_rate = annual_interest_rate_on_loan / 365\n",
    "underlying_share_price = pyasx.data.securities.get_security_info(asx_code)[\"last_price\"]\n",
    "first_instalment = round(underlying_share_price - loan_amount_per_share, 2)\n",
    "gearing = loan_amount_per_share / underlying_share_price"
   ]
  },
  {
   "cell_type": "markdown",
   "metadata": {},
   "source": [
    "### Dividend Harvesting Plan"
   ]
  },
  {
   "cell_type": "code",
   "execution_count": 5,
   "metadata": {},
   "outputs": [],
   "source": [
    "investment_amount = 10000\n",
    "total_warrants_bought = int(investment_amount / first_instalment)"
   ]
  },
  {
   "cell_type": "markdown",
   "metadata": {},
   "source": [
    "### Dividend Harvesting Analysis"
   ]
  },
  {
   "cell_type": "code",
   "execution_count": 6,
   "metadata": {},
   "outputs": [
    {
     "name": "stdout",
     "output_type": "stream",
     "text": [
      "Date\n",
      "1988-04-25    0.063600\n",
      "1988-10-31    0.063600\n",
      "1989-04-24    0.037038\n",
      "1989-06-12    0.037038\n",
      "1989-11-06    0.072018\n",
      "                ...   \n",
      "2020-09-03    0.754561\n",
      "2021-03-04    1.311347\n",
      "2021-09-02    2.715270\n",
      "2022-02-24    2.080559\n",
      "2022-09-01    2.551839\n",
      "Name: Dividends, Length: 73, dtype: float64\n",
      "[*********************100%***********************]  1 of 1 completed\n"
     ]
    }
   ],
   "source": [
    "# number of past dividends/distributions for historical average calculation \n",
    "dividend_history = 1000\n",
    "ex_dates = yf.Ticker(ticker = asx_code + \".AX\").dividends[-dividend_history:].index\n",
    "\n",
    "print(yf.Ticker(ticker = asx_code + \".AX\").dividends[-dividend_history:])\n",
    "\n",
    "if len(ex_dates) > 0:\n",
    "    average_div_per_share = sum(yf.Ticker(ticker = asx_code + \".AX\").dividends[-dividend_history:]) / len(ex_dates)\n",
    "else:\n",
    "    div_hisotry_df = pd.read_csv(asx_code + \"_Div.csv\")\n",
    "    div_hisotry_df[\"Date\"] = pd.to_datetime(div_hisotry_df[\"Date\"], format = \"%d/%m/%Y\")\n",
    "    div_hisotry_df = div_hisotry_df.sort_values(\"Date\")\n",
    "    ex_dates = list(div_hisotry_df[\"Date\"])\n",
    "    average_div_per_share = sum(div_hisotry_df[\"Dividend\"]) / len(ex_dates)\n",
    "\n",
    "# dates before the ex dates\n",
    "dates_prior_to_ex_dates = []\n",
    "for date in ex_dates:\n",
    "    date_prior = date - relativedelta(days= 1)\n",
    "    dates_prior_to_ex_dates.append(date_prior)\n",
    "\n",
    "# get the close prices on the dates prior to the ex dates\n",
    "close_on_dates_prior_to_ex_dates = []\n",
    "historical_close = yf.download(tickers = asx_code + \".AX\")[[\"Close\"]]\n",
    "for date in dates_prior_to_ex_dates:\n",
    "    i = len(historical_close) - 1\n",
    "    while i >= 0:\n",
    "        if historical_close.index[i] <= date:\n",
    "            close_on_dates_prior_to_ex_dates.append(historical_close.iloc[i][\"Close\"])\n",
    "            break\n",
    "        i -= 1\n",
    "\n",
    "# get the date on which the previous dividend amount has been recovered but before the next ex date\n",
    "div_recover_dates = []\n",
    "k = 0 #index for close_on_dates_prior_to_ex_dates\n",
    "for i in range(len(dates_prior_to_ex_dates)):\n",
    "    if i < len(dates_prior_to_ex_dates) - 1:\n",
    "        historical_range = pd.DataFrame(historical_close.loc[(historical_close.index > dates_prior_to_ex_dates[i]) & (historical_close.index <= dates_prior_to_ex_dates[i + 1]), :])\n",
    "        for j in range(len(historical_range)):\n",
    "            if historical_range.iloc[j][\"Close\"] >= close_on_dates_prior_to_ex_dates[k]:\n",
    "                div_recover_dates.append(historical_range.index[j])\n",
    "                break\n",
    "            if j == len(historical_range) - 1:\n",
    "                div_recover_dates.append(None)\n",
    "        k += 1\n",
    "    else:\n",
    "        historical_range = pd.DataFrame(historical_close.loc[(historical_close.index > dates_prior_to_ex_dates[i]), :])\n",
    "        for j in range(len(historical_range)):\n",
    "            if historical_range.iloc[j][\"Close\"] >= close_on_dates_prior_to_ex_dates[k]:\n",
    "                div_recover_dates.append(historical_range.index[j])\n",
    "                break\n",
    "            if j == len(historical_range) - 1:\n",
    "                div_recover_dates.append(None)\n",
    "        k += 1\n",
    "\n",
    "# number of day for dividend to be recovered by the next ex date\n",
    "div_recovery_duration = []\n",
    "for i in range(len(div_recover_dates)):\n",
    "    if div_recover_dates[i] != None:\n",
    "        days = (div_recover_dates[i] - dates_prior_to_ex_dates[i]).days\n",
    "        div_recovery_duration.append(days)\n",
    "\n",
    "\n",
    "# get the date on which the previous dividend amount has been fully recovered (regardless of the next ex date)\n",
    "full_div_recover_dates = []\n",
    "k = 0 #index for close_on_dates_prior_to_ex_dates\n",
    "for i in range(len(dates_prior_to_ex_dates)):\n",
    "    if i < len(dates_prior_to_ex_dates) - 1:\n",
    "        historical_range = pd.DataFrame(historical_close.loc[(historical_close.index > dates_prior_to_ex_dates[i]), :])\n",
    "        for j in range(len(historical_range)):\n",
    "            if historical_range.iloc[j][\"Close\"] >= close_on_dates_prior_to_ex_dates[k]:\n",
    "                full_div_recover_dates.append(historical_range.index[j])\n",
    "                break\n",
    "        k += 1\n",
    "\n",
    "# number of day for dividend to be fully recovered (regardless of the next ex date)\n",
    "full_div_recovery_duration = []\n",
    "for i in range(len(full_div_recover_dates)):\n",
    "    days = (full_div_recover_dates[i] - dates_prior_to_ex_dates[i]).days\n",
    "    full_div_recovery_duration.append(days)\n",
    "\n",
    "# recovery stats\n",
    "full_avg_recovery_duration = sum(full_div_recovery_duration) / len(full_div_recovery_duration)\n",
    "avg_recovery_duration = sum(div_recovery_duration) / len(div_recovery_duration)\n",
    "successful_recovery = len(div_recovery_duration)\n",
    "success_rate = round(successful_recovery / len(ex_dates), 4)\n",
    "\n",
    "# Investment insights\n",
    "total_div_received = dps * total_warrants_bought\n",
    "avg_interest_on_loan = (loan_amount_per_share * (1 + daily_interst_rate) ** full_avg_recovery_duration - loan_amount_per_share) * total_warrants_bought\n",
    "max_interest_on_loan = (loan_amount_per_share * (1 + daily_interst_rate) ** max(full_div_recovery_duration) - loan_amount_per_share) * total_warrants_bought\n",
    "min_interest_on_loan = (loan_amount_per_share * (1 + daily_interst_rate) ** min(full_div_recovery_duration) - loan_amount_per_share) * total_warrants_bought"
   ]
  },
  {
   "cell_type": "markdown",
   "metadata": {},
   "source": [
    "### Analysis"
   ]
  },
  {
   "cell_type": "code",
   "execution_count": 7,
   "metadata": {},
   "outputs": [
    {
     "name": "stdout",
     "output_type": "stream",
     "text": [
      "Dividned Recovery Statistics of BHP (BHP GROUP LIMITED)\n",
      "\n",
      "In the past 73 dividend payments, 67 of the times BHP GROUP LIMITED's share price managed to recover from its fall on the ex-dividend date before the next one, indicating a 91.78% rate of successful recovery. On average (regardless whether the dividend was recvoered by the next ex-dividend date), the recovery often took 18 days. The shortest recovery took 1 day(s), whilst the longest took 1428 day(s).\n",
      "\n",
      "Summary\n",
      "Probability of successful dividend recovery before the next ex-date: 91.78%\n",
      "Shortest recovery: 1 day(s)\n",
      "Longest recovery: 163 day(s)\n",
      "\n",
      "According to the current BHP share price, the first instalment per share is $25.94. When investing $10000 in CitiWarrant MINIs, you can buy 385 warrants. The current annual interest rate on the loan is 6.8%, and the loan amount per share is $20. The upcoming dividend per share for BHP is $2.5, and 385 warrants will result in $962.5 of dividends. Based on the information above and the dividend recovery history of BHP, the expected interest payable of this trade will be $99.95. The best case will be $1.43 of interest payable, whilst the worst case will be $2346.6 of interest payable. The average profit will be $862.55. The best portfit will be $961.07, whilst the worst will be $-1384.1.\n",
      "\n",
      "Summary\n",
      "Investment amount: $10000\n",
      "Number of warrants bought: 385\n",
      "Total dividend receivable (DPS $2.5): $962.5\n",
      "Expected (average) interest payable: $99.95\n",
      "Least interest payable: $1.43\n",
      "Most interest payable: $2346.6\n",
      "Average profit: $862.55\n",
      "Best profit: $961.07\n",
      "Worst profit: $-1384.1\n"
     ]
    }
   ],
   "source": [
    "analysis = f\"In the past {len(ex_dates)} dividend payments, {successful_recovery} of the times \\\n",
    "{pyasx.data.companies.get_company_info(asx_code)['name'].strip('.')}'s share price managed to recover from its \\\n",
    "fall on the ex-dividend date before the next one, indicating a {round(success_rate * 100, 2)}% rate of successful recovery. \\\n",
    "On average (regardless whether the dividend was recvoered by the next ex-dividend date), \\\n",
    "the recovery often took {round(avg_recovery_duration)} days. The shortest \\\n",
    "recovery took {min(full_div_recovery_duration)} day(s), whilst the longest took {max(full_div_recovery_duration)} day(s).\"\n",
    "\n",
    "investment_analysis = f\"According to the current {asx_code} share price, \\\n",
    "the first instalment per share is ${first_instalment}. When investing ${investment_amount} in CitiWarrant MINIs, \\\n",
    "you can buy {total_warrants_bought} warrants. The current annual interest rate on the loan is \\\n",
    "{round(annual_interest_rate_on_loan * 100, 2)}%, and the loan amount per share is ${loan_amount_per_share}. \\\n",
    "The upcoming dividend per share for {asx_code} is ${dps}, and {total_warrants_bought} \\\n",
    "warrants will result in ${round(total_div_received, 2)} \\\n",
    "of dividends. Based on the information above and the dividend recovery history of {asx_code}, \\\n",
    "the expected interest payable of this trade will be ${round(avg_interest_on_loan, 2)}. \\\n",
    "The best case will be ${round(min_interest_on_loan, 2)} of interest payable, whilst the worst case will be \\\n",
    "${round(max_interest_on_loan, 2)} of interest payable. The average profit will be ${round(total_div_received - avg_interest_on_loan, 2)}. \\\n",
    "The best portfit will be ${round(total_div_received - min_interest_on_loan, 2)}, whilst the worst will be ${round(total_div_received - max_interest_on_loan, 2)}.\"\n",
    "\n",
    "\n",
    "print(f\"Dividned Recovery Statistics of {asx_code} ({pyasx.data.companies.get_company_info(asx_code)['name'].strip('.')})\")\n",
    "print()\n",
    "print(analysis)\n",
    "print()\n",
    "print(\"Summary\")\n",
    "print(f\"Probability of successful dividend recovery before the next ex-date: {round(success_rate * 100, 2)}%\")\n",
    "print(f\"Shortest recovery: {min(div_recovery_duration)} day(s)\")\n",
    "print(f\"Longest recovery: {max(div_recovery_duration)} day(s)\")\n",
    "print()\n",
    "print(investment_analysis)\n",
    "print()\n",
    "print(\"Summary\")\n",
    "print(f\"Investment amount: ${investment_amount}\")\n",
    "print(\"Number of warrants bought:\", total_warrants_bought)\n",
    "print(f\"Total dividend receivable (DPS ${dps}): ${round(total_div_received, 2)}\")\n",
    "print(f\"Expected (average) interest payable: ${round(avg_interest_on_loan, 2)}\")\n",
    "print(f\"Least interest payable: ${round(min_interest_on_loan, 2)}\")\n",
    "print(f\"Most interest payable: ${round(max_interest_on_loan, 2)}\")\n",
    "print(f\"Average profit: ${round(total_div_received - avg_interest_on_loan, 2)}\")\n",
    "print(f\"Best profit: ${round(total_div_received - min_interest_on_loan, 2)}\")\n",
    "print(f\"Worst profit: ${round(total_div_received - max_interest_on_loan, 2)}\")"
   ]
  },
  {
   "cell_type": "markdown",
   "metadata": {},
   "source": [
    "### Graphs"
   ]
  },
  {
   "cell_type": "markdown",
   "metadata": {},
   "source": [
    "Profit outcome analysis"
   ]
  },
  {
   "cell_type": "code",
   "execution_count": 8,
   "metadata": {},
   "outputs": [
    {
     "name": "stdout",
     "output_type": "stream",
     "text": [
      "Profit outcomes at different loan amounts based on the entire dividend history\n"
     ]
    },
    {
     "data": {
      "application/vnd.plotly.v1+json": {
       "config": {
        "plotlyServerURL": "https://plot.ly"
       },
       "data": [
        {
         "hovertemplate": "variable=Average Profit $<br>Second Instalments $=%{x}<br>value=%{y}<extra></extra>",
         "legendgroup": "Average Profit $",
         "line": {
          "color": "#636efa",
          "dash": "solid"
         },
         "marker": {
          "symbol": "circle"
         },
         "mode": "lines",
         "name": "Average Profit $",
         "orientation": "v",
         "showlegend": true,
         "type": "scatter",
         "x": [
          4,
          5,
          6,
          7,
          8,
          9,
          10,
          11,
          12,
          13,
          14,
          15,
          16,
          17,
          18,
          19,
          20,
          21,
          22,
          23,
          24,
          25,
          26,
          27,
          28,
          29,
          30,
          31,
          32,
          33,
          34,
          35,
          36,
          37,
          38,
          39,
          40
         ],
         "xaxis": "x",
         "y": [
          582.64,
          594.16,
          605.53,
          616.74,
          630.19,
          643.46,
          658.91,
          674.16,
          689.2,
          706.37,
          725.62,
          744.61,
          765.63,
          786.37,
          809.08,
          836,
          862.55,
          890.96,
          923.41,
          957.62,
          995.75,
          1037.7,
          1083.41,
          1132.79,
          1190.05,
          1252.89,
          1323.33,
          1403.28,
          1494.66,
          1599.29,
          1723.08,
          1869.73,
          2044.88,
          2258.02,
          2526.46,
          2870.98,
          3333.61
         ],
         "yaxis": "y"
        },
        {
         "hovertemplate": "variable=Best Profit $<br>Second Instalments $=%{x}<br>value=%{y}<extra></extra>",
         "legendgroup": "Best Profit $",
         "line": {
          "color": "#EF553B",
          "dash": "solid"
         },
         "marker": {
          "symbol": "circle"
         },
         "mode": "lines",
         "name": "Best Profit $",
         "orientation": "v",
         "showlegend": true,
         "type": "scatter",
         "x": [
          4,
          5,
          6,
          7,
          8,
          9,
          10,
          11,
          12,
          13,
          14,
          15,
          16,
          17,
          18,
          19,
          20,
          21,
          22,
          23,
          24,
          25,
          26,
          27,
          28,
          29,
          30,
          31,
          32,
          33,
          34,
          35,
          36,
          37,
          38,
          39,
          40
         ],
         "xaxis": "x",
         "y": [
          594.82,
          609.77,
          624.72,
          639.67,
          657.11,
          674.55,
          694.48,
          714.41,
          734.34,
          756.77,
          781.68,
          806.6,
          834,
          861.41,
          891.3,
          926.19,
          961.07,
          998.44,
          1040.79,
          1085.64,
          1135.47,
          1190.28,
          1250.07,
          1314.85,
          1389.59,
          1471.81,
          1564,
          1668.64,
          1788.23,
          1925.25,
          2087.2,
          2279.04,
          2508.25,
          2787.29,
          3138.59,
          3589.54,
          4194.96
         ],
         "yaxis": "y"
        },
        {
         "hovertemplate": "variable=Worst Profit $<br>Second Instalments $=%{x}<br>value=%{y}<extra></extra>",
         "legendgroup": "Worst Profit $",
         "line": {
          "color": "#00cc96",
          "dash": "solid"
         },
         "marker": {
          "symbol": "circle"
         },
         "mode": "lines",
         "name": "Worst Profit $",
         "orientation": "v",
         "showlegend": true,
         "type": "scatter",
         "x": [
          4,
          5,
          6,
          7,
          8,
          9,
          10,
          11,
          12,
          13,
          14,
          15,
          16,
          17,
          18,
          19,
          20,
          21,
          22,
          23,
          24,
          25,
          26,
          27,
          28,
          29,
          30,
          31,
          32,
          33,
          34,
          35,
          36,
          37,
          38,
          39,
          40
         ],
         "xaxis": "x",
         "y": [
          304.88,
          238.2,
          167.87,
          93.88,
          16.3,
          -65.55,
          -152.21,
          -243.75,
          -340.17,
          -442.92,
          -552.93,
          -669.03,
          -793.6,
          -924.88,
          -1065.84,
          -1220.7,
          -1384.1,
          -1559.92,
          -1753.3,
          -1961.55,
          -2190.4,
          -2441.68,
          -2717.21,
          -3018.83,
          -3360.42,
          -3739.32,
          -4164.9,
          -4647.77,
          -5199.75,
          -5833.88,
          -6580.15,
          -7464.04,
          -8521.93,
          -9811.4,
          -11432.48,
          -13514.92,
          -16308.46
         ],
         "yaxis": "y"
        }
       ],
       "layout": {
        "legend": {
         "title": {
          "text": "variable"
         },
         "tracegroupgap": 0
        },
        "template": {
         "data": {
          "bar": [
           {
            "error_x": {
             "color": "#2a3f5f"
            },
            "error_y": {
             "color": "#2a3f5f"
            },
            "marker": {
             "line": {
              "color": "#E5ECF6",
              "width": 0.5
             },
             "pattern": {
              "fillmode": "overlay",
              "size": 10,
              "solidity": 0.2
             }
            },
            "type": "bar"
           }
          ],
          "barpolar": [
           {
            "marker": {
             "line": {
              "color": "#E5ECF6",
              "width": 0.5
             },
             "pattern": {
              "fillmode": "overlay",
              "size": 10,
              "solidity": 0.2
             }
            },
            "type": "barpolar"
           }
          ],
          "carpet": [
           {
            "aaxis": {
             "endlinecolor": "#2a3f5f",
             "gridcolor": "white",
             "linecolor": "white",
             "minorgridcolor": "white",
             "startlinecolor": "#2a3f5f"
            },
            "baxis": {
             "endlinecolor": "#2a3f5f",
             "gridcolor": "white",
             "linecolor": "white",
             "minorgridcolor": "white",
             "startlinecolor": "#2a3f5f"
            },
            "type": "carpet"
           }
          ],
          "choropleth": [
           {
            "colorbar": {
             "outlinewidth": 0,
             "ticks": ""
            },
            "type": "choropleth"
           }
          ],
          "contour": [
           {
            "colorbar": {
             "outlinewidth": 0,
             "ticks": ""
            },
            "colorscale": [
             [
              0,
              "#0d0887"
             ],
             [
              0.1111111111111111,
              "#46039f"
             ],
             [
              0.2222222222222222,
              "#7201a8"
             ],
             [
              0.3333333333333333,
              "#9c179e"
             ],
             [
              0.4444444444444444,
              "#bd3786"
             ],
             [
              0.5555555555555556,
              "#d8576b"
             ],
             [
              0.6666666666666666,
              "#ed7953"
             ],
             [
              0.7777777777777778,
              "#fb9f3a"
             ],
             [
              0.8888888888888888,
              "#fdca26"
             ],
             [
              1,
              "#f0f921"
             ]
            ],
            "type": "contour"
           }
          ],
          "contourcarpet": [
           {
            "colorbar": {
             "outlinewidth": 0,
             "ticks": ""
            },
            "type": "contourcarpet"
           }
          ],
          "heatmap": [
           {
            "colorbar": {
             "outlinewidth": 0,
             "ticks": ""
            },
            "colorscale": [
             [
              0,
              "#0d0887"
             ],
             [
              0.1111111111111111,
              "#46039f"
             ],
             [
              0.2222222222222222,
              "#7201a8"
             ],
             [
              0.3333333333333333,
              "#9c179e"
             ],
             [
              0.4444444444444444,
              "#bd3786"
             ],
             [
              0.5555555555555556,
              "#d8576b"
             ],
             [
              0.6666666666666666,
              "#ed7953"
             ],
             [
              0.7777777777777778,
              "#fb9f3a"
             ],
             [
              0.8888888888888888,
              "#fdca26"
             ],
             [
              1,
              "#f0f921"
             ]
            ],
            "type": "heatmap"
           }
          ],
          "heatmapgl": [
           {
            "colorbar": {
             "outlinewidth": 0,
             "ticks": ""
            },
            "colorscale": [
             [
              0,
              "#0d0887"
             ],
             [
              0.1111111111111111,
              "#46039f"
             ],
             [
              0.2222222222222222,
              "#7201a8"
             ],
             [
              0.3333333333333333,
              "#9c179e"
             ],
             [
              0.4444444444444444,
              "#bd3786"
             ],
             [
              0.5555555555555556,
              "#d8576b"
             ],
             [
              0.6666666666666666,
              "#ed7953"
             ],
             [
              0.7777777777777778,
              "#fb9f3a"
             ],
             [
              0.8888888888888888,
              "#fdca26"
             ],
             [
              1,
              "#f0f921"
             ]
            ],
            "type": "heatmapgl"
           }
          ],
          "histogram": [
           {
            "marker": {
             "pattern": {
              "fillmode": "overlay",
              "size": 10,
              "solidity": 0.2
             }
            },
            "type": "histogram"
           }
          ],
          "histogram2d": [
           {
            "colorbar": {
             "outlinewidth": 0,
             "ticks": ""
            },
            "colorscale": [
             [
              0,
              "#0d0887"
             ],
             [
              0.1111111111111111,
              "#46039f"
             ],
             [
              0.2222222222222222,
              "#7201a8"
             ],
             [
              0.3333333333333333,
              "#9c179e"
             ],
             [
              0.4444444444444444,
              "#bd3786"
             ],
             [
              0.5555555555555556,
              "#d8576b"
             ],
             [
              0.6666666666666666,
              "#ed7953"
             ],
             [
              0.7777777777777778,
              "#fb9f3a"
             ],
             [
              0.8888888888888888,
              "#fdca26"
             ],
             [
              1,
              "#f0f921"
             ]
            ],
            "type": "histogram2d"
           }
          ],
          "histogram2dcontour": [
           {
            "colorbar": {
             "outlinewidth": 0,
             "ticks": ""
            },
            "colorscale": [
             [
              0,
              "#0d0887"
             ],
             [
              0.1111111111111111,
              "#46039f"
             ],
             [
              0.2222222222222222,
              "#7201a8"
             ],
             [
              0.3333333333333333,
              "#9c179e"
             ],
             [
              0.4444444444444444,
              "#bd3786"
             ],
             [
              0.5555555555555556,
              "#d8576b"
             ],
             [
              0.6666666666666666,
              "#ed7953"
             ],
             [
              0.7777777777777778,
              "#fb9f3a"
             ],
             [
              0.8888888888888888,
              "#fdca26"
             ],
             [
              1,
              "#f0f921"
             ]
            ],
            "type": "histogram2dcontour"
           }
          ],
          "mesh3d": [
           {
            "colorbar": {
             "outlinewidth": 0,
             "ticks": ""
            },
            "type": "mesh3d"
           }
          ],
          "parcoords": [
           {
            "line": {
             "colorbar": {
              "outlinewidth": 0,
              "ticks": ""
             }
            },
            "type": "parcoords"
           }
          ],
          "pie": [
           {
            "automargin": true,
            "type": "pie"
           }
          ],
          "scatter": [
           {
            "fillpattern": {
             "fillmode": "overlay",
             "size": 10,
             "solidity": 0.2
            },
            "type": "scatter"
           }
          ],
          "scatter3d": [
           {
            "line": {
             "colorbar": {
              "outlinewidth": 0,
              "ticks": ""
             }
            },
            "marker": {
             "colorbar": {
              "outlinewidth": 0,
              "ticks": ""
             }
            },
            "type": "scatter3d"
           }
          ],
          "scattercarpet": [
           {
            "marker": {
             "colorbar": {
              "outlinewidth": 0,
              "ticks": ""
             }
            },
            "type": "scattercarpet"
           }
          ],
          "scattergeo": [
           {
            "marker": {
             "colorbar": {
              "outlinewidth": 0,
              "ticks": ""
             }
            },
            "type": "scattergeo"
           }
          ],
          "scattergl": [
           {
            "marker": {
             "colorbar": {
              "outlinewidth": 0,
              "ticks": ""
             }
            },
            "type": "scattergl"
           }
          ],
          "scattermapbox": [
           {
            "marker": {
             "colorbar": {
              "outlinewidth": 0,
              "ticks": ""
             }
            },
            "type": "scattermapbox"
           }
          ],
          "scatterpolar": [
           {
            "marker": {
             "colorbar": {
              "outlinewidth": 0,
              "ticks": ""
             }
            },
            "type": "scatterpolar"
           }
          ],
          "scatterpolargl": [
           {
            "marker": {
             "colorbar": {
              "outlinewidth": 0,
              "ticks": ""
             }
            },
            "type": "scatterpolargl"
           }
          ],
          "scatterternary": [
           {
            "marker": {
             "colorbar": {
              "outlinewidth": 0,
              "ticks": ""
             }
            },
            "type": "scatterternary"
           }
          ],
          "surface": [
           {
            "colorbar": {
             "outlinewidth": 0,
             "ticks": ""
            },
            "colorscale": [
             [
              0,
              "#0d0887"
             ],
             [
              0.1111111111111111,
              "#46039f"
             ],
             [
              0.2222222222222222,
              "#7201a8"
             ],
             [
              0.3333333333333333,
              "#9c179e"
             ],
             [
              0.4444444444444444,
              "#bd3786"
             ],
             [
              0.5555555555555556,
              "#d8576b"
             ],
             [
              0.6666666666666666,
              "#ed7953"
             ],
             [
              0.7777777777777778,
              "#fb9f3a"
             ],
             [
              0.8888888888888888,
              "#fdca26"
             ],
             [
              1,
              "#f0f921"
             ]
            ],
            "type": "surface"
           }
          ],
          "table": [
           {
            "cells": {
             "fill": {
              "color": "#EBF0F8"
             },
             "line": {
              "color": "white"
             }
            },
            "header": {
             "fill": {
              "color": "#C8D4E3"
             },
             "line": {
              "color": "white"
             }
            },
            "type": "table"
           }
          ]
         },
         "layout": {
          "annotationdefaults": {
           "arrowcolor": "#2a3f5f",
           "arrowhead": 0,
           "arrowwidth": 1
          },
          "autotypenumbers": "strict",
          "coloraxis": {
           "colorbar": {
            "outlinewidth": 0,
            "ticks": ""
           }
          },
          "colorscale": {
           "diverging": [
            [
             0,
             "#8e0152"
            ],
            [
             0.1,
             "#c51b7d"
            ],
            [
             0.2,
             "#de77ae"
            ],
            [
             0.3,
             "#f1b6da"
            ],
            [
             0.4,
             "#fde0ef"
            ],
            [
             0.5,
             "#f7f7f7"
            ],
            [
             0.6,
             "#e6f5d0"
            ],
            [
             0.7,
             "#b8e186"
            ],
            [
             0.8,
             "#7fbc41"
            ],
            [
             0.9,
             "#4d9221"
            ],
            [
             1,
             "#276419"
            ]
           ],
           "sequential": [
            [
             0,
             "#0d0887"
            ],
            [
             0.1111111111111111,
             "#46039f"
            ],
            [
             0.2222222222222222,
             "#7201a8"
            ],
            [
             0.3333333333333333,
             "#9c179e"
            ],
            [
             0.4444444444444444,
             "#bd3786"
            ],
            [
             0.5555555555555556,
             "#d8576b"
            ],
            [
             0.6666666666666666,
             "#ed7953"
            ],
            [
             0.7777777777777778,
             "#fb9f3a"
            ],
            [
             0.8888888888888888,
             "#fdca26"
            ],
            [
             1,
             "#f0f921"
            ]
           ],
           "sequentialminus": [
            [
             0,
             "#0d0887"
            ],
            [
             0.1111111111111111,
             "#46039f"
            ],
            [
             0.2222222222222222,
             "#7201a8"
            ],
            [
             0.3333333333333333,
             "#9c179e"
            ],
            [
             0.4444444444444444,
             "#bd3786"
            ],
            [
             0.5555555555555556,
             "#d8576b"
            ],
            [
             0.6666666666666666,
             "#ed7953"
            ],
            [
             0.7777777777777778,
             "#fb9f3a"
            ],
            [
             0.8888888888888888,
             "#fdca26"
            ],
            [
             1,
             "#f0f921"
            ]
           ]
          },
          "colorway": [
           "#636efa",
           "#EF553B",
           "#00cc96",
           "#ab63fa",
           "#FFA15A",
           "#19d3f3",
           "#FF6692",
           "#B6E880",
           "#FF97FF",
           "#FECB52"
          ],
          "font": {
           "color": "#2a3f5f"
          },
          "geo": {
           "bgcolor": "white",
           "lakecolor": "white",
           "landcolor": "#E5ECF6",
           "showlakes": true,
           "showland": true,
           "subunitcolor": "white"
          },
          "hoverlabel": {
           "align": "left"
          },
          "hovermode": "closest",
          "mapbox": {
           "style": "light"
          },
          "paper_bgcolor": "white",
          "plot_bgcolor": "#E5ECF6",
          "polar": {
           "angularaxis": {
            "gridcolor": "white",
            "linecolor": "white",
            "ticks": ""
           },
           "bgcolor": "#E5ECF6",
           "radialaxis": {
            "gridcolor": "white",
            "linecolor": "white",
            "ticks": ""
           }
          },
          "scene": {
           "xaxis": {
            "backgroundcolor": "#E5ECF6",
            "gridcolor": "white",
            "gridwidth": 2,
            "linecolor": "white",
            "showbackground": true,
            "ticks": "",
            "zerolinecolor": "white"
           },
           "yaxis": {
            "backgroundcolor": "#E5ECF6",
            "gridcolor": "white",
            "gridwidth": 2,
            "linecolor": "white",
            "showbackground": true,
            "ticks": "",
            "zerolinecolor": "white"
           },
           "zaxis": {
            "backgroundcolor": "#E5ECF6",
            "gridcolor": "white",
            "gridwidth": 2,
            "linecolor": "white",
            "showbackground": true,
            "ticks": "",
            "zerolinecolor": "white"
           }
          },
          "shapedefaults": {
           "line": {
            "color": "#2a3f5f"
           }
          },
          "ternary": {
           "aaxis": {
            "gridcolor": "white",
            "linecolor": "white",
            "ticks": ""
           },
           "baxis": {
            "gridcolor": "white",
            "linecolor": "white",
            "ticks": ""
           },
           "bgcolor": "#E5ECF6",
           "caxis": {
            "gridcolor": "white",
            "linecolor": "white",
            "ticks": ""
           }
          },
          "title": {
           "x": 0.05
          },
          "xaxis": {
           "automargin": true,
           "gridcolor": "white",
           "linecolor": "white",
           "ticks": "",
           "title": {
            "standoff": 15
           },
           "zerolinecolor": "white",
           "zerolinewidth": 2
          },
          "yaxis": {
           "automargin": true,
           "gridcolor": "white",
           "linecolor": "white",
           "ticks": "",
           "title": {
            "standoff": 15
           },
           "zerolinecolor": "white",
           "zerolinewidth": 2
          }
         }
        },
        "title": {
         "text": "Profit outcomes at different loan amounts"
        },
        "xaxis": {
         "anchor": "y",
         "domain": [
          0,
          1
         ],
         "title": {
          "text": "Second Instalments $"
         }
        },
        "yaxis": {
         "anchor": "x",
         "domain": [
          0,
          1
         ],
         "title": {
          "text": "value"
         }
        }
       }
      }
     },
     "metadata": {},
     "output_type": "display_data"
    },
    {
     "name": "stdout",
     "output_type": "stream",
     "text": [
      "Profit outcomes at 91.78% of the chance (share price recovers before the next ex-dividend date)\n"
     ]
    },
    {
     "data": {
      "application/vnd.plotly.v1+json": {
       "config": {
        "plotlyServerURL": "https://plot.ly"
       },
       "data": [
        {
         "hovertemplate": "variable=Average Profit After Successful Recovery $<br>Second Instalments $=%{x}<br>value=%{y}<extra></extra>",
         "legendgroup": "Average Profit After Successful Recovery $",
         "line": {
          "color": "#636efa",
          "dash": "solid"
         },
         "marker": {
          "symbol": "circle"
         },
         "mode": "lines",
         "name": "Average Profit After Successful Recovery $",
         "orientation": "v",
         "showlegend": true,
         "type": "scatter",
         "x": [
          4,
          5,
          6,
          7,
          8,
          9,
          10,
          11,
          12,
          13,
          14,
          15,
          16,
          17,
          18,
          19,
          20,
          21,
          22,
          23,
          24,
          25,
          26,
          27,
          28,
          29,
          30,
          31,
          32,
          33,
          34,
          35,
          36,
          37,
          38,
          39,
          40
         ],
         "xaxis": "x",
         "y": [
          591.74,
          605.83,
          619.87,
          633.87,
          650.3,
          666.69,
          685.49,
          704.24,
          722.93,
          744.03,
          767.51,
          790.93,
          816.72,
          842.44,
          870.52,
          903.39,
          936.17,
          971.27,
          1011.12,
          1053.28,
          1100.15,
          1151.72,
          1207.95,
          1268.84,
          1339.16,
          1416.48,
          1503.17,
          1601.57,
          1714.03,
          1842.87,
          1995.17,
          2175.59,
          2391.14,
          2653.52,
          2983.87,
          3407.93,
          3977.26
         ],
         "yaxis": "y"
        },
        {
         "hovertemplate": "variable=Best Profit After Successful Recovery $<br>Second Instalments $=%{x}<br>value=%{y}<extra></extra>",
         "legendgroup": "Best Profit After Successful Recovery $",
         "line": {
          "color": "#EF553B",
          "dash": "solid"
         },
         "marker": {
          "symbol": "circle"
         },
         "mode": "lines",
         "name": "Best Profit After Successful Recovery $",
         "orientation": "v",
         "showlegend": true,
         "type": "scatter",
         "x": [
          4,
          5,
          6,
          7,
          8,
          9,
          10,
          11,
          12,
          13,
          14,
          15,
          16,
          17,
          18,
          19,
          20,
          21,
          22,
          23,
          24,
          25,
          26,
          27,
          28,
          29,
          30,
          31,
          32,
          33,
          34,
          35,
          36,
          37,
          38,
          39,
          40
         ],
         "xaxis": "x",
         "y": [
          594.82,
          609.77,
          624.72,
          639.67,
          657.11,
          674.55,
          694.48,
          714.41,
          734.34,
          756.77,
          781.68,
          806.6,
          834,
          861.41,
          891.3,
          926.19,
          961.07,
          998.44,
          1040.79,
          1085.64,
          1135.47,
          1190.28,
          1250.07,
          1314.85,
          1389.59,
          1471.81,
          1564,
          1668.64,
          1788.23,
          1925.25,
          2087.2,
          2279.04,
          2508.25,
          2787.29,
          3138.59,
          3589.54,
          4194.96
         ],
         "yaxis": "y"
        },
        {
         "hovertemplate": "variable=Worst Profit After Successful Recovery $<br>Second Instalments $=%{x}<br>value=%{y}<extra></extra>",
         "legendgroup": "Worst Profit After Successful Recovery $",
         "line": {
          "color": "#00cc96",
          "dash": "solid"
         },
         "marker": {
          "symbol": "circle"
         },
         "mode": "lines",
         "name": "Worst Profit After Successful Recovery $",
         "orientation": "v",
         "showlegend": true,
         "type": "scatter",
         "x": [
          4,
          5,
          6,
          7,
          8,
          9,
          10,
          11,
          12,
          13,
          14,
          15,
          16,
          17,
          18,
          19,
          20,
          21,
          22,
          23,
          24,
          25,
          26,
          27,
          28,
          29,
          30,
          31,
          32,
          33,
          34,
          35,
          36,
          37,
          38,
          39,
          40
         ],
         "xaxis": "x",
         "y": [
          565.65,
          572.39,
          578.76,
          584.75,
          592.63,
          600.08,
          609.29,
          618.01,
          626.23,
          636.06,
          647.4,
          658.13,
          670.24,
          681.68,
          694.39,
          710.18,
          725.11,
          741.03,
          759.67,
          779.05,
          800.84,
          824.85,
          850.91,
          878.82,
          911.68,
          947.5,
          987.59,
          1033.12,
          1085.14,
          1144.58,
          1215.14,
          1298.75,
          1398.46,
          1519.69,
          1672.53,
          1868.59,
          2132.02
         ],
         "yaxis": "y"
        }
       ],
       "layout": {
        "legend": {
         "title": {
          "text": "variable"
         },
         "tracegroupgap": 0
        },
        "template": {
         "data": {
          "bar": [
           {
            "error_x": {
             "color": "#2a3f5f"
            },
            "error_y": {
             "color": "#2a3f5f"
            },
            "marker": {
             "line": {
              "color": "#E5ECF6",
              "width": 0.5
             },
             "pattern": {
              "fillmode": "overlay",
              "size": 10,
              "solidity": 0.2
             }
            },
            "type": "bar"
           }
          ],
          "barpolar": [
           {
            "marker": {
             "line": {
              "color": "#E5ECF6",
              "width": 0.5
             },
             "pattern": {
              "fillmode": "overlay",
              "size": 10,
              "solidity": 0.2
             }
            },
            "type": "barpolar"
           }
          ],
          "carpet": [
           {
            "aaxis": {
             "endlinecolor": "#2a3f5f",
             "gridcolor": "white",
             "linecolor": "white",
             "minorgridcolor": "white",
             "startlinecolor": "#2a3f5f"
            },
            "baxis": {
             "endlinecolor": "#2a3f5f",
             "gridcolor": "white",
             "linecolor": "white",
             "minorgridcolor": "white",
             "startlinecolor": "#2a3f5f"
            },
            "type": "carpet"
           }
          ],
          "choropleth": [
           {
            "colorbar": {
             "outlinewidth": 0,
             "ticks": ""
            },
            "type": "choropleth"
           }
          ],
          "contour": [
           {
            "colorbar": {
             "outlinewidth": 0,
             "ticks": ""
            },
            "colorscale": [
             [
              0,
              "#0d0887"
             ],
             [
              0.1111111111111111,
              "#46039f"
             ],
             [
              0.2222222222222222,
              "#7201a8"
             ],
             [
              0.3333333333333333,
              "#9c179e"
             ],
             [
              0.4444444444444444,
              "#bd3786"
             ],
             [
              0.5555555555555556,
              "#d8576b"
             ],
             [
              0.6666666666666666,
              "#ed7953"
             ],
             [
              0.7777777777777778,
              "#fb9f3a"
             ],
             [
              0.8888888888888888,
              "#fdca26"
             ],
             [
              1,
              "#f0f921"
             ]
            ],
            "type": "contour"
           }
          ],
          "contourcarpet": [
           {
            "colorbar": {
             "outlinewidth": 0,
             "ticks": ""
            },
            "type": "contourcarpet"
           }
          ],
          "heatmap": [
           {
            "colorbar": {
             "outlinewidth": 0,
             "ticks": ""
            },
            "colorscale": [
             [
              0,
              "#0d0887"
             ],
             [
              0.1111111111111111,
              "#46039f"
             ],
             [
              0.2222222222222222,
              "#7201a8"
             ],
             [
              0.3333333333333333,
              "#9c179e"
             ],
             [
              0.4444444444444444,
              "#bd3786"
             ],
             [
              0.5555555555555556,
              "#d8576b"
             ],
             [
              0.6666666666666666,
              "#ed7953"
             ],
             [
              0.7777777777777778,
              "#fb9f3a"
             ],
             [
              0.8888888888888888,
              "#fdca26"
             ],
             [
              1,
              "#f0f921"
             ]
            ],
            "type": "heatmap"
           }
          ],
          "heatmapgl": [
           {
            "colorbar": {
             "outlinewidth": 0,
             "ticks": ""
            },
            "colorscale": [
             [
              0,
              "#0d0887"
             ],
             [
              0.1111111111111111,
              "#46039f"
             ],
             [
              0.2222222222222222,
              "#7201a8"
             ],
             [
              0.3333333333333333,
              "#9c179e"
             ],
             [
              0.4444444444444444,
              "#bd3786"
             ],
             [
              0.5555555555555556,
              "#d8576b"
             ],
             [
              0.6666666666666666,
              "#ed7953"
             ],
             [
              0.7777777777777778,
              "#fb9f3a"
             ],
             [
              0.8888888888888888,
              "#fdca26"
             ],
             [
              1,
              "#f0f921"
             ]
            ],
            "type": "heatmapgl"
           }
          ],
          "histogram": [
           {
            "marker": {
             "pattern": {
              "fillmode": "overlay",
              "size": 10,
              "solidity": 0.2
             }
            },
            "type": "histogram"
           }
          ],
          "histogram2d": [
           {
            "colorbar": {
             "outlinewidth": 0,
             "ticks": ""
            },
            "colorscale": [
             [
              0,
              "#0d0887"
             ],
             [
              0.1111111111111111,
              "#46039f"
             ],
             [
              0.2222222222222222,
              "#7201a8"
             ],
             [
              0.3333333333333333,
              "#9c179e"
             ],
             [
              0.4444444444444444,
              "#bd3786"
             ],
             [
              0.5555555555555556,
              "#d8576b"
             ],
             [
              0.6666666666666666,
              "#ed7953"
             ],
             [
              0.7777777777777778,
              "#fb9f3a"
             ],
             [
              0.8888888888888888,
              "#fdca26"
             ],
             [
              1,
              "#f0f921"
             ]
            ],
            "type": "histogram2d"
           }
          ],
          "histogram2dcontour": [
           {
            "colorbar": {
             "outlinewidth": 0,
             "ticks": ""
            },
            "colorscale": [
             [
              0,
              "#0d0887"
             ],
             [
              0.1111111111111111,
              "#46039f"
             ],
             [
              0.2222222222222222,
              "#7201a8"
             ],
             [
              0.3333333333333333,
              "#9c179e"
             ],
             [
              0.4444444444444444,
              "#bd3786"
             ],
             [
              0.5555555555555556,
              "#d8576b"
             ],
             [
              0.6666666666666666,
              "#ed7953"
             ],
             [
              0.7777777777777778,
              "#fb9f3a"
             ],
             [
              0.8888888888888888,
              "#fdca26"
             ],
             [
              1,
              "#f0f921"
             ]
            ],
            "type": "histogram2dcontour"
           }
          ],
          "mesh3d": [
           {
            "colorbar": {
             "outlinewidth": 0,
             "ticks": ""
            },
            "type": "mesh3d"
           }
          ],
          "parcoords": [
           {
            "line": {
             "colorbar": {
              "outlinewidth": 0,
              "ticks": ""
             }
            },
            "type": "parcoords"
           }
          ],
          "pie": [
           {
            "automargin": true,
            "type": "pie"
           }
          ],
          "scatter": [
           {
            "fillpattern": {
             "fillmode": "overlay",
             "size": 10,
             "solidity": 0.2
            },
            "type": "scatter"
           }
          ],
          "scatter3d": [
           {
            "line": {
             "colorbar": {
              "outlinewidth": 0,
              "ticks": ""
             }
            },
            "marker": {
             "colorbar": {
              "outlinewidth": 0,
              "ticks": ""
             }
            },
            "type": "scatter3d"
           }
          ],
          "scattercarpet": [
           {
            "marker": {
             "colorbar": {
              "outlinewidth": 0,
              "ticks": ""
             }
            },
            "type": "scattercarpet"
           }
          ],
          "scattergeo": [
           {
            "marker": {
             "colorbar": {
              "outlinewidth": 0,
              "ticks": ""
             }
            },
            "type": "scattergeo"
           }
          ],
          "scattergl": [
           {
            "marker": {
             "colorbar": {
              "outlinewidth": 0,
              "ticks": ""
             }
            },
            "type": "scattergl"
           }
          ],
          "scattermapbox": [
           {
            "marker": {
             "colorbar": {
              "outlinewidth": 0,
              "ticks": ""
             }
            },
            "type": "scattermapbox"
           }
          ],
          "scatterpolar": [
           {
            "marker": {
             "colorbar": {
              "outlinewidth": 0,
              "ticks": ""
             }
            },
            "type": "scatterpolar"
           }
          ],
          "scatterpolargl": [
           {
            "marker": {
             "colorbar": {
              "outlinewidth": 0,
              "ticks": ""
             }
            },
            "type": "scatterpolargl"
           }
          ],
          "scatterternary": [
           {
            "marker": {
             "colorbar": {
              "outlinewidth": 0,
              "ticks": ""
             }
            },
            "type": "scatterternary"
           }
          ],
          "surface": [
           {
            "colorbar": {
             "outlinewidth": 0,
             "ticks": ""
            },
            "colorscale": [
             [
              0,
              "#0d0887"
             ],
             [
              0.1111111111111111,
              "#46039f"
             ],
             [
              0.2222222222222222,
              "#7201a8"
             ],
             [
              0.3333333333333333,
              "#9c179e"
             ],
             [
              0.4444444444444444,
              "#bd3786"
             ],
             [
              0.5555555555555556,
              "#d8576b"
             ],
             [
              0.6666666666666666,
              "#ed7953"
             ],
             [
              0.7777777777777778,
              "#fb9f3a"
             ],
             [
              0.8888888888888888,
              "#fdca26"
             ],
             [
              1,
              "#f0f921"
             ]
            ],
            "type": "surface"
           }
          ],
          "table": [
           {
            "cells": {
             "fill": {
              "color": "#EBF0F8"
             },
             "line": {
              "color": "white"
             }
            },
            "header": {
             "fill": {
              "color": "#C8D4E3"
             },
             "line": {
              "color": "white"
             }
            },
            "type": "table"
           }
          ]
         },
         "layout": {
          "annotationdefaults": {
           "arrowcolor": "#2a3f5f",
           "arrowhead": 0,
           "arrowwidth": 1
          },
          "autotypenumbers": "strict",
          "coloraxis": {
           "colorbar": {
            "outlinewidth": 0,
            "ticks": ""
           }
          },
          "colorscale": {
           "diverging": [
            [
             0,
             "#8e0152"
            ],
            [
             0.1,
             "#c51b7d"
            ],
            [
             0.2,
             "#de77ae"
            ],
            [
             0.3,
             "#f1b6da"
            ],
            [
             0.4,
             "#fde0ef"
            ],
            [
             0.5,
             "#f7f7f7"
            ],
            [
             0.6,
             "#e6f5d0"
            ],
            [
             0.7,
             "#b8e186"
            ],
            [
             0.8,
             "#7fbc41"
            ],
            [
             0.9,
             "#4d9221"
            ],
            [
             1,
             "#276419"
            ]
           ],
           "sequential": [
            [
             0,
             "#0d0887"
            ],
            [
             0.1111111111111111,
             "#46039f"
            ],
            [
             0.2222222222222222,
             "#7201a8"
            ],
            [
             0.3333333333333333,
             "#9c179e"
            ],
            [
             0.4444444444444444,
             "#bd3786"
            ],
            [
             0.5555555555555556,
             "#d8576b"
            ],
            [
             0.6666666666666666,
             "#ed7953"
            ],
            [
             0.7777777777777778,
             "#fb9f3a"
            ],
            [
             0.8888888888888888,
             "#fdca26"
            ],
            [
             1,
             "#f0f921"
            ]
           ],
           "sequentialminus": [
            [
             0,
             "#0d0887"
            ],
            [
             0.1111111111111111,
             "#46039f"
            ],
            [
             0.2222222222222222,
             "#7201a8"
            ],
            [
             0.3333333333333333,
             "#9c179e"
            ],
            [
             0.4444444444444444,
             "#bd3786"
            ],
            [
             0.5555555555555556,
             "#d8576b"
            ],
            [
             0.6666666666666666,
             "#ed7953"
            ],
            [
             0.7777777777777778,
             "#fb9f3a"
            ],
            [
             0.8888888888888888,
             "#fdca26"
            ],
            [
             1,
             "#f0f921"
            ]
           ]
          },
          "colorway": [
           "#636efa",
           "#EF553B",
           "#00cc96",
           "#ab63fa",
           "#FFA15A",
           "#19d3f3",
           "#FF6692",
           "#B6E880",
           "#FF97FF",
           "#FECB52"
          ],
          "font": {
           "color": "#2a3f5f"
          },
          "geo": {
           "bgcolor": "white",
           "lakecolor": "white",
           "landcolor": "#E5ECF6",
           "showlakes": true,
           "showland": true,
           "subunitcolor": "white"
          },
          "hoverlabel": {
           "align": "left"
          },
          "hovermode": "closest",
          "mapbox": {
           "style": "light"
          },
          "paper_bgcolor": "white",
          "plot_bgcolor": "#E5ECF6",
          "polar": {
           "angularaxis": {
            "gridcolor": "white",
            "linecolor": "white",
            "ticks": ""
           },
           "bgcolor": "#E5ECF6",
           "radialaxis": {
            "gridcolor": "white",
            "linecolor": "white",
            "ticks": ""
           }
          },
          "scene": {
           "xaxis": {
            "backgroundcolor": "#E5ECF6",
            "gridcolor": "white",
            "gridwidth": 2,
            "linecolor": "white",
            "showbackground": true,
            "ticks": "",
            "zerolinecolor": "white"
           },
           "yaxis": {
            "backgroundcolor": "#E5ECF6",
            "gridcolor": "white",
            "gridwidth": 2,
            "linecolor": "white",
            "showbackground": true,
            "ticks": "",
            "zerolinecolor": "white"
           },
           "zaxis": {
            "backgroundcolor": "#E5ECF6",
            "gridcolor": "white",
            "gridwidth": 2,
            "linecolor": "white",
            "showbackground": true,
            "ticks": "",
            "zerolinecolor": "white"
           }
          },
          "shapedefaults": {
           "line": {
            "color": "#2a3f5f"
           }
          },
          "ternary": {
           "aaxis": {
            "gridcolor": "white",
            "linecolor": "white",
            "ticks": ""
           },
           "baxis": {
            "gridcolor": "white",
            "linecolor": "white",
            "ticks": ""
           },
           "bgcolor": "#E5ECF6",
           "caxis": {
            "gridcolor": "white",
            "linecolor": "white",
            "ticks": ""
           }
          },
          "title": {
           "x": 0.05
          },
          "xaxis": {
           "automargin": true,
           "gridcolor": "white",
           "linecolor": "white",
           "ticks": "",
           "title": {
            "standoff": 15
           },
           "zerolinecolor": "white",
           "zerolinewidth": 2
          },
          "yaxis": {
           "automargin": true,
           "gridcolor": "white",
           "linecolor": "white",
           "ticks": "",
           "title": {
            "standoff": 15
           },
           "zerolinecolor": "white",
           "zerolinewidth": 2
          }
         }
        },
        "title": {
         "text": "Profit outcomes at different loan amounts (91.78% chance)"
        },
        "xaxis": {
         "anchor": "y",
         "domain": [
          0,
          1
         ],
         "title": {
          "text": "Second Instalments $"
         }
        },
        "yaxis": {
         "anchor": "x",
         "domain": [
          0,
          1
         ],
         "title": {
          "text": "value"
         }
        }
       }
      }
     },
     "metadata": {},
     "output_type": "display_data"
    }
   ],
   "source": [
    "# a line graph for the average return with different gearing ratios and profits\n",
    "possible_loan_amounts = range(int(underlying_share_price * 0.1), int(underlying_share_price * 0.9)) # 10%-90% gearing\n",
    "possible_first_instalments = []\n",
    "possible_num_of_warrants = []\n",
    "possible_average_profits = []\n",
    "possible_best_profits = []\n",
    "possible_worst_profits = []\n",
    "\n",
    "successful_recovery_possible_average_profits = []\n",
    "successful_recovery_possible_best_profits = []\n",
    "successful_recovery_possible_worst_profits = []\n",
    "\n",
    "for loan in possible_loan_amounts:\n",
    "    possible_first_instalments.append(round(underlying_share_price - loan, 3))\n",
    "\n",
    "for instalment in possible_first_instalments:\n",
    "    possible_num_of_warrants.append(int(investment_amount / instalment))\n",
    "\n",
    "for i in range(len(possible_num_of_warrants)):\n",
    "    loan = possible_loan_amounts[i]\n",
    "    div = dps * possible_num_of_warrants[i]\n",
    "    \n",
    "    avg_interest = (loan * (1 + daily_interst_rate) ** full_avg_recovery_duration - loan) * possible_num_of_warrants[i]\n",
    "    best_interest = (loan * (1 + daily_interst_rate) ** min(full_div_recovery_duration) - loan) * possible_num_of_warrants[i]\n",
    "    worst_interest = (loan * (1 + daily_interst_rate) ** max(full_div_recovery_duration) - loan) * possible_num_of_warrants[i]\n",
    "    \n",
    "    successful_recovery_avg_interest = (loan * (1 + daily_interst_rate) ** avg_recovery_duration - loan) * possible_num_of_warrants[i]\n",
    "    successful_recovery_best_interest = (loan * (1 + daily_interst_rate) ** min(div_recovery_duration) - loan) * possible_num_of_warrants[i]\n",
    "    successful_recovery_worst_interest = (loan * (1 + daily_interst_rate) ** max(div_recovery_duration) - loan) * possible_num_of_warrants[i]\n",
    "    \n",
    "    \n",
    "    possible_average_profits.append(round(div - avg_interest, 2))\n",
    "    possible_best_profits.append(round(div - best_interest, 2))\n",
    "    possible_worst_profits.append(round(div - worst_interest, 2))\n",
    "    \n",
    "    successful_recovery_possible_average_profits.append(round(div - successful_recovery_avg_interest, 2))\n",
    "    successful_recovery_possible_best_profits.append(round(div - successful_recovery_best_interest, 2))\n",
    "    successful_recovery_possible_worst_profits.append(round(div - successful_recovery_worst_interest, 2))\n",
    "\n",
    "result_df = pd.DataFrame()\n",
    "result_df[\"Second Instalments $\"] = possible_loan_amounts\n",
    "result_df[\"Average Profit $\"] = possible_average_profits\n",
    "result_df[\"Best Profit $\"] = possible_best_profits\n",
    "result_df[\"Worst Profit $\"] = possible_worst_profits\n",
    "\n",
    "success_result_df = pd.DataFrame()\n",
    "success_result_df[\"Second Instalments $\"] = possible_loan_amounts\n",
    "success_result_df[\"Average Profit After Successful Recovery $\"] = successful_recovery_possible_average_profits\n",
    "success_result_df[\"Best Profit After Successful Recovery $\"] = successful_recovery_possible_best_profits\n",
    "success_result_df[\"Worst Profit After Successful Recovery $\"] = successful_recovery_possible_worst_profits\n",
    "\n",
    "print(\"Profit outcomes at different loan amounts based on the entire dividend history\")\n",
    "px.line(result_df, x = \"Second Instalments $\", \n",
    "        y = [\"Average Profit $\", \"Best Profit $\", \"Worst Profit $\"],\n",
    "        title = \"Profit outcomes at different loan amounts\").show()\n",
    "\n",
    "print(f\"Profit outcomes at {round(success_rate * 100, 2)}% of the chance (share price recovers before the next ex-dividend date)\")\n",
    "px.line(success_result_df, x = \"Second Instalments $\", \n",
    "        y = [\"Average Profit After Successful Recovery $\", \"Best Profit After Successful Recovery $\", \"Worst Profit After Successful Recovery $\"],\n",
    "        title = f\"Profit outcomes at different loan amounts ({round(success_rate * 100, 2)}% chance)\").show()"
   ]
  },
  {
   "cell_type": "markdown",
   "metadata": {},
   "source": [
    "Break-even analysis"
   ]
  },
  {
   "cell_type": "code",
   "execution_count": 9,
   "metadata": {},
   "outputs": [
    {
     "data": {
      "application/vnd.plotly.v1+json": {
       "config": {
        "plotlyServerURL": "https://plot.ly"
       },
       "data": [
        {
         "fillpattern": {
          "shape": ""
         },
         "hovertemplate": "Recovery Duration (Days)=%{x}<br>Profit $=%{y}<extra></extra>",
         "legendgroup": "",
         "line": {
          "color": "#636efa"
         },
         "marker": {
          "symbol": "circle"
         },
         "mode": "lines",
         "name": "",
         "orientation": "v",
         "showlegend": false,
         "stackgroup": "1",
         "type": "scatter",
         "x": [
          1,
          2,
          3,
          4,
          5,
          6,
          7,
          8,
          9,
          10,
          11,
          12,
          13,
          14,
          15,
          16,
          17,
          18,
          19,
          20,
          21,
          22,
          23,
          24,
          25,
          26,
          27,
          28,
          29,
          30,
          31,
          32,
          33,
          34,
          35,
          36,
          37,
          38,
          39,
          40,
          41,
          42,
          43,
          44,
          45,
          46,
          47,
          48,
          49,
          50,
          51,
          52,
          53,
          54,
          55,
          56,
          57,
          58,
          59,
          60,
          61,
          62,
          63,
          64,
          65,
          66,
          67,
          68,
          69,
          70,
          71,
          72,
          73,
          74,
          75,
          76,
          77,
          78,
          79,
          80,
          81,
          82,
          83,
          84,
          85,
          86,
          87,
          88,
          89,
          90,
          91,
          92,
          93,
          94,
          95,
          96,
          97,
          98,
          99,
          100,
          101,
          102,
          103,
          104,
          105,
          106,
          107,
          108,
          109,
          110,
          111,
          112,
          113,
          114,
          115,
          116,
          117,
          118,
          119,
          120,
          121,
          122,
          123,
          124,
          125,
          126,
          127,
          128,
          129,
          130,
          131,
          132,
          133,
          134,
          135,
          136,
          137,
          138,
          139,
          140,
          141,
          142,
          143,
          144,
          145,
          146,
          147,
          148,
          149,
          150,
          151,
          152,
          153,
          154,
          155,
          156,
          157,
          158,
          159,
          160,
          161,
          162,
          163,
          164,
          165,
          166,
          167,
          168,
          169,
          170,
          171,
          172,
          173,
          174,
          175,
          176,
          177,
          178,
          179,
          180,
          181,
          182,
          183,
          184,
          185,
          186,
          187,
          188,
          189,
          190,
          191,
          192,
          193,
          194,
          195,
          196,
          197,
          198,
          199,
          200,
          201,
          202,
          203,
          204,
          205,
          206,
          207,
          208,
          209,
          210,
          211,
          212,
          213,
          214,
          215,
          216,
          217,
          218,
          219,
          220,
          221,
          222,
          223,
          224,
          225,
          226,
          227,
          228,
          229,
          230,
          231,
          232,
          233,
          234,
          235,
          236,
          237,
          238,
          239,
          240,
          241,
          242,
          243,
          244,
          245,
          246,
          247,
          248,
          249,
          250,
          251,
          252,
          253,
          254,
          255,
          256,
          257,
          258,
          259,
          260,
          261,
          262,
          263,
          264,
          265,
          266,
          267,
          268,
          269,
          270,
          271,
          272,
          273,
          274,
          275,
          276,
          277,
          278,
          279,
          280,
          281,
          282,
          283,
          284,
          285,
          286,
          287,
          288,
          289,
          290,
          291,
          292,
          293,
          294,
          295,
          296,
          297,
          298,
          299,
          300,
          301,
          302,
          303,
          304,
          305,
          306,
          307,
          308,
          309,
          310,
          311,
          312,
          313,
          314,
          315,
          316,
          317,
          318,
          319,
          320,
          321,
          322,
          323,
          324,
          325,
          326,
          327,
          328,
          329,
          330,
          331,
          332,
          333,
          334,
          335,
          336,
          337,
          338,
          339,
          340,
          341,
          342,
          343,
          344,
          345,
          346,
          347,
          348,
          349,
          350,
          351,
          352,
          353,
          354,
          355,
          356,
          357,
          358,
          359,
          360,
          361,
          362,
          363,
          364,
          365,
          366,
          367,
          368,
          369,
          370,
          371,
          372,
          373,
          374,
          375,
          376,
          377,
          378,
          379,
          380,
          381,
          382,
          383,
          384,
          385,
          386,
          387,
          388,
          389,
          390,
          391,
          392,
          393,
          394,
          395,
          396,
          397,
          398,
          399,
          400,
          401,
          402,
          403,
          404,
          405,
          406,
          407,
          408,
          409,
          410,
          411,
          412,
          413,
          414,
          415,
          416,
          417,
          418,
          419,
          420,
          421,
          422,
          423,
          424,
          425,
          426,
          427,
          428,
          429,
          430,
          431,
          432,
          433,
          434,
          435,
          436,
          437,
          438,
          439,
          440,
          441,
          442,
          443,
          444,
          445,
          446,
          447,
          448,
          449,
          450,
          451,
          452,
          453,
          454,
          455,
          456,
          457,
          458,
          459,
          460,
          461,
          462,
          463,
          464,
          465,
          466,
          467,
          468,
          469,
          470,
          471,
          472,
          473,
          474,
          475,
          476,
          477,
          478,
          479,
          480,
          481,
          482,
          483,
          484,
          485,
          486,
          487,
          488,
          489,
          490,
          491,
          492,
          493,
          494,
          495,
          496,
          497,
          498,
          499,
          500,
          501,
          502,
          503,
          504,
          505,
          506,
          507,
          508,
          509,
          510,
          511,
          512,
          513,
          514,
          515,
          516,
          517,
          518,
          519,
          520,
          521,
          522,
          523,
          524,
          525,
          526,
          527,
          528,
          529,
          530,
          531,
          532,
          533,
          534,
          535,
          536,
          537,
          538,
          539,
          540,
          541,
          542,
          543,
          544,
          545,
          546,
          547,
          548,
          549,
          550,
          551,
          552,
          553,
          554,
          555,
          556,
          557,
          558,
          559,
          560,
          561,
          562,
          563,
          564,
          565,
          566,
          567,
          568,
          569,
          570,
          571,
          572,
          573,
          574,
          575,
          576,
          577,
          578,
          579,
          580,
          581,
          582,
          583,
          584,
          585,
          586,
          587,
          588,
          589,
          590,
          591,
          592,
          593,
          594,
          595,
          596,
          597,
          598,
          599,
          600,
          601,
          602,
          603,
          604,
          605,
          606,
          607,
          608,
          609,
          610,
          611,
          612,
          613,
          614,
          615,
          616,
          617,
          618,
          619,
          620,
          621,
          622,
          623,
          624,
          625,
          626,
          627,
          628,
          629,
          630,
          631,
          632,
          633,
          634,
          635,
          636,
          637,
          638,
          639,
          640,
          641,
          642,
          643,
          644,
          645,
          646,
          647,
          648,
          649,
          650,
          651,
          652,
          653,
          654,
          655,
          656,
          657,
          658,
          659,
          660,
          661,
          662,
          663,
          664,
          665,
          666,
          667,
          668,
          669,
          670,
          671,
          672,
          673,
          674,
          675,
          676,
          677,
          678,
          679,
          680,
          681,
          682,
          683,
          684,
          685,
          686,
          687,
          688,
          689,
          690,
          691,
          692,
          693,
          694,
          695,
          696,
          697,
          698,
          699,
          700,
          701,
          702,
          703,
          704,
          705,
          706,
          707,
          708,
          709,
          710,
          711,
          712,
          713,
          714,
          715,
          716,
          717,
          718,
          719,
          720,
          721,
          722,
          723,
          724,
          725,
          726,
          727,
          728,
          729,
          730,
          731,
          732,
          733,
          734,
          735,
          736,
          737,
          738,
          739,
          740,
          741,
          742,
          743,
          744,
          745,
          746,
          747,
          748,
          749,
          750,
          751,
          752,
          753,
          754,
          755,
          756,
          757,
          758,
          759,
          760,
          761,
          762,
          763,
          764,
          765,
          766,
          767,
          768,
          769,
          770,
          771,
          772,
          773,
          774,
          775,
          776,
          777,
          778,
          779,
          780,
          781,
          782,
          783,
          784,
          785,
          786,
          787,
          788,
          789,
          790,
          791,
          792,
          793,
          794,
          795,
          796,
          797,
          798,
          799,
          800,
          801,
          802,
          803,
          804,
          805,
          806,
          807,
          808,
          809,
          810,
          811,
          812,
          813,
          814,
          815,
          816,
          817,
          818,
          819,
          820,
          821,
          822,
          823,
          824,
          825,
          826,
          827,
          828,
          829,
          830,
          831,
          832,
          833,
          834,
          835,
          836,
          837,
          838,
          839,
          840,
          841,
          842,
          843,
          844,
          845,
          846,
          847,
          848,
          849,
          850,
          851,
          852,
          853,
          854,
          855,
          856,
          857,
          858,
          859,
          860,
          861,
          862,
          863,
          864,
          865,
          866,
          867,
          868,
          869,
          870,
          871,
          872,
          873,
          874,
          875,
          876,
          877,
          878,
          879,
          880,
          881,
          882,
          883,
          884,
          885,
          886,
          887,
          888,
          889,
          890,
          891,
          892,
          893,
          894,
          895,
          896,
          897,
          898,
          899,
          900,
          901,
          902,
          903,
          904,
          905,
          906,
          907,
          908,
          909,
          910,
          911,
          912,
          913,
          914,
          915,
          916,
          917,
          918,
          919,
          920,
          921,
          922,
          923,
          924,
          925,
          926,
          927,
          928,
          929,
          930,
          931,
          932,
          933,
          934,
          935,
          936,
          937,
          938,
          939,
          940,
          941,
          942,
          943,
          944,
          945,
          946,
          947,
          948,
          949,
          950,
          951,
          952,
          953,
          954,
          955,
          956,
          957,
          958,
          959,
          960,
          961,
          962,
          963,
          964,
          965,
          966,
          967,
          968,
          969,
          970,
          971,
          972,
          973,
          974,
          975,
          976,
          977,
          978,
          979,
          980,
          981,
          982,
          983,
          984,
          985,
          986,
          987,
          988,
          989,
          990,
          991,
          992,
          993,
          994,
          995,
          996,
          997,
          998,
          999,
          1000,
          1001,
          1002,
          1003,
          1004,
          1005,
          1006,
          1007,
          1008,
          1009,
          1010,
          1011,
          1012,
          1013,
          1014,
          1015,
          1016,
          1017,
          1018,
          1019,
          1020,
          1021,
          1022,
          1023,
          1024,
          1025,
          1026,
          1027,
          1028,
          1029,
          1030,
          1031,
          1032,
          1033,
          1034,
          1035,
          1036,
          1037,
          1038,
          1039,
          1040,
          1041,
          1042,
          1043,
          1044,
          1045,
          1046,
          1047,
          1048,
          1049,
          1050,
          1051,
          1052,
          1053,
          1054,
          1055,
          1056,
          1057,
          1058,
          1059,
          1060,
          1061,
          1062,
          1063,
          1064,
          1065,
          1066,
          1067,
          1068,
          1069,
          1070,
          1071,
          1072,
          1073,
          1074,
          1075,
          1076,
          1077,
          1078,
          1079,
          1080,
          1081,
          1082,
          1083,
          1084,
          1085,
          1086,
          1087,
          1088,
          1089,
          1090,
          1091,
          1092,
          1093,
          1094,
          1095,
          1096,
          1097,
          1098,
          1099,
          1100,
          1101,
          1102,
          1103,
          1104,
          1105,
          1106,
          1107,
          1108,
          1109,
          1110,
          1111,
          1112,
          1113,
          1114,
          1115,
          1116,
          1117,
          1118,
          1119,
          1120,
          1121,
          1122,
          1123,
          1124,
          1125,
          1126,
          1127,
          1128,
          1129,
          1130,
          1131,
          1132,
          1133,
          1134,
          1135,
          1136,
          1137,
          1138,
          1139,
          1140,
          1141,
          1142,
          1143,
          1144,
          1145,
          1146,
          1147,
          1148,
          1149,
          1150,
          1151,
          1152,
          1153,
          1154,
          1155,
          1156,
          1157,
          1158,
          1159,
          1160,
          1161,
          1162,
          1163,
          1164,
          1165,
          1166,
          1167,
          1168,
          1169,
          1170,
          1171,
          1172,
          1173,
          1174,
          1175,
          1176,
          1177,
          1178,
          1179,
          1180,
          1181,
          1182,
          1183,
          1184,
          1185,
          1186,
          1187,
          1188,
          1189,
          1190,
          1191,
          1192,
          1193,
          1194,
          1195,
          1196,
          1197,
          1198,
          1199,
          1200,
          1201,
          1202,
          1203,
          1204,
          1205,
          1206,
          1207,
          1208,
          1209,
          1210,
          1211,
          1212,
          1213,
          1214,
          1215,
          1216,
          1217,
          1218,
          1219,
          1220,
          1221,
          1222,
          1223,
          1224,
          1225,
          1226,
          1227,
          1228,
          1229,
          1230,
          1231,
          1232,
          1233,
          1234,
          1235,
          1236,
          1237,
          1238,
          1239,
          1240,
          1241,
          1242,
          1243,
          1244,
          1245,
          1246,
          1247,
          1248,
          1249,
          1250,
          1251,
          1252,
          1253,
          1254,
          1255,
          1256,
          1257,
          1258,
          1259,
          1260,
          1261,
          1262,
          1263,
          1264,
          1265,
          1266,
          1267,
          1268,
          1269,
          1270,
          1271,
          1272,
          1273,
          1274,
          1275,
          1276,
          1277,
          1278,
          1279,
          1280,
          1281,
          1282,
          1283,
          1284,
          1285,
          1286,
          1287,
          1288,
          1289,
          1290,
          1291,
          1292,
          1293,
          1294,
          1295,
          1296,
          1297,
          1298,
          1299,
          1300,
          1301,
          1302,
          1303,
          1304,
          1305,
          1306,
          1307,
          1308,
          1309,
          1310,
          1311,
          1312,
          1313,
          1314,
          1315,
          1316,
          1317,
          1318,
          1319,
          1320,
          1321,
          1322,
          1323,
          1324,
          1325,
          1326,
          1327,
          1328,
          1329,
          1330,
          1331,
          1332,
          1333,
          1334,
          1335,
          1336,
          1337,
          1338,
          1339,
          1340,
          1341,
          1342,
          1343,
          1344,
          1345,
          1346,
          1347,
          1348,
          1349,
          1350,
          1351,
          1352,
          1353,
          1354,
          1355,
          1356,
          1357,
          1358,
          1359,
          1360,
          1361,
          1362,
          1363,
          1364,
          1365,
          1366,
          1367,
          1368,
          1369,
          1370,
          1371,
          1372,
          1373,
          1374,
          1375,
          1376,
          1377,
          1378,
          1379,
          1380,
          1381,
          1382,
          1383,
          1384,
          1385,
          1386,
          1387,
          1388,
          1389,
          1390,
          1391,
          1392,
          1393,
          1394,
          1395,
          1396,
          1397,
          1398,
          1399,
          1400,
          1401,
          1402,
          1403,
          1404,
          1405,
          1406,
          1407,
          1408,
          1409,
          1410,
          1411,
          1412,
          1413,
          1414,
          1415,
          1416,
          1417,
          1418,
          1419,
          1420,
          1421,
          1422,
          1423,
          1424,
          1425,
          1426,
          1427
         ],
         "xaxis": "x",
         "y": [
          961.0654794520535,
          959.6306916509668,
          958.1956365469437,
          956.7603140901897,
          955.3247242308967,
          953.8888669192465,
          952.4527421054108,
          951.0163497395566,
          949.5796897718358,
          948.1427621523952,
          946.7055668313731,
          945.2681037588902,
          943.8303728850684,
          942.3923741600175,
          940.9541075338335,
          939.5155729566069,
          938.076770378416,
          936.6376997493361,
          935.1983610194251,
          933.7587541387378,
          932.3188790573171,
          930.8787357251945,
          929.4383240923991,
          927.997644108942,
          926.5566957248291,
          925.1154788900592,
          923.6739935546188,
          922.2322396684865,
          920.7902171816296,
          919.3479260440087,
          917.9053662055734,
          916.4625376162611,
          915.0194402260091,
          913.5760739847357,
          912.132438842355,
          910.6885347487672,
          909.2443616538716,
          907.7999195075492,
          906.3552082596747,
          904.9102278601183,
          903.4649782587325,
          902.0194594053658,
          900.5736712498584,
          899.1276137420355,
          897.6812868317181,
          896.2346904687165,
          894.7878246028312,
          893.3406891838516,
          891.8932841615622,
          890.4456094857347,
          888.9976651061313,
          887.5494509725075,
          886.1009670346051,
          884.6522132421616,
          883.2031895449011,
          881.7538958925434,
          880.3043322347919,
          878.8544985213446,
          877.40439470189,
          875.9540207261069,
          874.5033765436658,
          873.0524621042266,
          871.6012773574406,
          870.1498222529484,
          868.6980967403823,
          867.246100769361,
          865.7938342895059,
          864.3412972504136,
          862.8884896016809,
          861.4354112928938,
          859.9820622736285,
          858.5284424934473,
          857.0745519019117,
          855.6203904485678,
          854.1659580829521,
          852.7112547545944,
          851.2562804130135,
          849.80103500772,
          848.3455184882148,
          846.8897308039867,
          845.4336719045189,
          843.9773417392852,
          842.5207402577454,
          841.0638674093541,
          839.6067231435562,
          838.1493074097857,
          836.6916201574658,
          835.2336613360166,
          833.7754308948379,
          832.3169287833351,
          830.8581549508875,
          829.3991093468771,
          827.9397919206722,
          826.4802026216329,
          825.020341399107,
          823.5602082024357,
          822.0998029809501,
          820.6391256839709,
          819.1781762608102,
          817.716954660771,
          816.2554608331446,
          814.7936947272176,
          813.3316562922624,
          811.8693454775423,
          810.4067622323172,
          808.9439065058272,
          807.4807782473132,
          806.0173774059987,
          804.5537039311057,
          803.0897577718382,
          801.6255388773939,
          800.1610471969643,
          798.6962826797294,
          797.2312452748588,
          795.765934931512,
          794.3003515988422,
          792.8344952259881,
          791.3683657620843,
          789.9019631562528,
          788.4352873576075,
          786.9683383152515,
          785.5011159782794,
          784.0336202957766,
          782.5658512168172,
          781.0978086904674,
          779.629492665785,
          778.160903091817,
          776.6920399175965,
          775.2229030921567,
          773.7534925645131,
          772.2838082836744,
          770.8138501986409,
          769.3436182584035,
          767.8731124119433,
          766.4023326082267,
          764.9312787962185,
          763.4599509248712,
          761.988348943125,
          760.5164727999147,
          759.0443224441613,
          757.5718978247805,
          756.0991988906756,
          754.6262255907428,
          753.1529778738638,
          751.6794556889199,
          750.2056589847733,
          748.7315877102836,
          747.2572418142954,
          745.7826212456447,
          744.3077259531651,
          742.8325558856711,
          741.3571109919717,
          739.8813912208686,
          738.4053965211506,
          736.9291268415963,
          735.4525821309818,
          733.9757623380626,
          732.4986674115946,
          731.0212973003166,
          729.5436519529637,
          728.0657313182576,
          726.5875353449137,
          725.109063981636,
          723.6303171771156,
          722.1512948800424,
          720.6719970390873,
          719.1924236029181,
          717.7125745201909,
          716.2324497395541,
          714.7520492096432,
          713.2713728790825,
          711.7904206964961,
          710.3091926104893,
          708.8276885696587,
          707.3459085225975,
          705.8638524178843,
          704.3815202040865,
          702.8989118297678,
          701.4160272434788,
          699.9328663937588,
          698.4494292291404,
          696.9657156981482,
          695.4817257492914,
          693.997459331074,
          692.5129163919887,
          691.0280968805221,
          689.5430007451462,
          688.0576279343254,
          686.5719783965156,
          685.0860520801608,
          683.5998489336989,
          682.1133689055548,
          680.6266119441445,
          679.139577997875,
          677.6522670151462,
          676.1646789443431,
          674.6768137338449,
          673.1886713320189,
          671.7002516872253,
          670.2115547478134,
          668.7225804621216,
          667.2333287784803,
          665.7437996452126,
          664.2539930106241,
          662.7639088230203,
          661.2735470306906,
          659.7829075819185,
          658.291990424974,
          656.8007955081202,
          655.3093227796137,
          653.8175721876914,
          652.3255436805919,
          650.8332372065374,
          649.3406527137431,
          647.8477901504123,
          646.3546494647392,
          644.8612306049149,
          643.3675335191081,
          641.8735581554888,
          640.3793044622137,
          638.884772387428,
          637.3899618792695,
          635.8948728858657,
          634.3995053553347,
          632.9038592357838,
          631.407934475312,
          629.9117310220088,
          628.4152488239514,
          626.9184878292114,
          625.4214479858467,
          623.9241292419088,
          622.4265315454388,
          620.9286548444649,
          619.4304990870122,
          617.9320642210881,
          616.4333501946959,
          614.9343569558265,
          613.435084452464,
          611.9355326325818,
          610.4357014441407,
          608.9355908350918,
          607.4352007533853,
          605.934531146949,
          604.4335819637099,
          602.9323531515835,
          601.4308446584705,
          599.929056432269,
          598.4269884208646,
          596.924640572132,
          595.4220128339364,
          593.9191051541345,
          592.4159174805739,
          590.9124497610894,
          589.4087019435109,
          587.9046739756541,
          586.4003658053252,
          584.8957773803226,
          583.3909086484387,
          581.8857595574458,
          580.3803300551172,
          578.8746200892087,
          577.3686296074708,
          575.8623585576437,
          574.3558068874574,
          572.8489745446279,
          571.3418614768726,
          569.834467631887,
          568.3267929573641,
          566.8188374009812,
          565.3106009104138,
          563.802083433323,
          562.2932849173606,
          560.7842053101658,
          559.2748445593744,
          557.765202612605,
          556.2552794174767,
          554.7450749215864,
          553.2345890725312,
          551.7238218178919,
          550.2127731052421,
          548.7014428821487,
          547.1898310961652,
          545.6779376948339,
          544.1657626256928,
          542.6533058362626,
          541.1405672740623,
          539.6275468865945,
          538.1142446213564,
          536.600660425833,
          535.0867942475022,
          533.5726460338259,
          532.0582157322641,
          530.5435032902635,
          529.0285086552597,
          527.5132317746802,
          525.9976725959401,
          524.4818310664505,
          522.9657071336086,
          521.4493007448009,
          519.9326118474041,
          518.4156403887898,
          516.8983863163128,
          515.380849577324,
          513.863030119162,
          512.3449278891568,
          510.82654283462676,
          509.3078749028802,
          507.78892404121734,
          506.2696901969289,
          504.75017331729316,
          503.23037334958167,
          501.710290241055,
          500.18992393896144,
          498.6692743905437,
          497.1483415430323,
          495.62712534364954,
          494.10562573960397,
          492.58384267809595,
          491.0617761063219,
          489.5394259714574,
          488.0167922206797,
          486.49387480114814,
          484.9706736600125,
          483.4471887444211,
          481.923420001502,
          480.39936737837746,
          478.8750308221618,
          477.35041027995965,
          475.8255056988605,
          474.30031702594727,
          472.77484420829717,
          471.2490871929724,
          469.7230459270229,
          468.19672035749727,
          466.6701104314263,
          465.1432160958352,
          463.6160372977371,
          462.0885739841367,
          460.56082610203066,
          459.03279359839905,
          457.5044764202194,
          455.9758745144568,
          454.44698782806404,
          452.9178163079858,
          451.3883599011611,
          449.8586185545114,
          448.3285922149553,
          446.798280829395,
          445.2676843447273,
          443.73680270783643,
          442.20563586560013,
          440.674183764885,
          439.14244635254545,
          437.6104235754249,
          436.0781153803665,
          434.54552171418925,
          433.0126425237131,
          431.4794777557448,
          429.94602735707826,
          428.41229127450356,
          426.8782694547958,
          425.34396184472166,
          423.8093683910372,
          422.2744890404897,
          420.73932373981756,
          419.2038724357478,
          417.66813507499523,
          416.13211160426783,
          414.595801970264,
          413.0592061196727,
          411.52232399916886,
          409.9851555554195,
          408.44770073508346,
          406.90995948480975,
          405.37193175123264,
          403.83361748098343,
          402.29501662067855,
          400.7561291169246,
          399.21695491632033,
          397.67749396545594,
          396.1377462109068,
          394.5977115992413,
          393.0573900770171,
          391.5167815907847,
          389.97588608708134,
          388.43470351243286,
          386.89323381336135,
          385.35147693637373,
          383.8094328279659,
          382.26710143462833,
          380.7244827028394,
          379.1815765790702,
          377.63838300977454,
          376.0949019414031,
          374.5511333203931,
          373.0070770931776,
          371.46273320616774,
          369.9181016057788,
          368.37318223840555,
          366.82797505043993,
          365.282479988255,
          363.73669699822483,
          362.19062602670726,
          360.64426702004914,
          359.097619924588,
          357.55068468665684,
          356.00346125256965,
          354.4559495686393,
          352.90814958115925,
          351.3600612364245,
          349.81168448070923,
          348.2630192602826,
          346.71406552140377,
          345.1648232103239,
          343.61529227327514,
          342.0654726564934,
          340.51536430619433,
          338.9649671685838,
          337.4142811898653,
          335.86330631622286,
          334.3120424938378,
          332.7604896688765,
          331.2086477874984,
          329.65651679585346,
          328.1040966400766,
          326.5513872662999,
          324.9983886206404,
          323.445100649203,
          321.89152329809247,
          320.33765651339036,
          318.78350024117935,
          317.22905442752483,
          315.674319018485,
          314.11929396011124,
          312.5639791984371,
          311.00837467949236,
          309.4524803492942,
          307.896296153853,
          306.33982203916275,
          304.7830579512133,
          303.2260038359823,
          301.66865963943485,
          300.1110253075324,
          298.5531007862195,
          296.99488602143276,
          295.4363809591018,
          293.87758554514414,
          292.3184997254634,
          290.7591234459593,
          289.19945665251896,
          287.6394992910176,
          286.07925130732315,
          284.518712647293,
          282.957883256772,
          281.39676308159824,
          279.835352067596,
          278.27365016058286,
          276.71165730636415,
          275.1493734507395,
          273.58679853949104,
          272.0239325183966,
          270.4607753332216,
          268.8973269297222,
          267.3335872536421,
          265.76955625071946,
          264.2052338666773,
          262.64062004723223,
          261.07571473808946,
          259.5105178849449,
          257.9450294334806,
          256.37924932937597,
          254.81317751829124,
          253.246813945884,
          251.68015855779527,
          250.11321129966348,
          248.54597211711064,
          246.9784409557517,
          245.41061776118954,
          243.8425024790173,
          242.2740950548216,
          240.70539543417362,
          239.13640356263647,
          237.56711938576643,
          235.99754284910352,
          234.42767389818073,
          232.85751247852284,
          231.2870585356411,
          229.71631201503976,
          228.14527286220948,
          226.57394102263265,
          225.00231644178086,
          223.43039906511876,
          221.85818883809304,
          220.28568570614948,
          218.71288961471976,
          217.1398005092234,
          215.56641833507024,
          213.99274303766367,
          212.41877456239285,
          210.84451285464047,
          209.26995785977408,
          207.69510952315431,
          206.1199677901352,
          204.54453260604987,
          202.9688039162346,
          201.3927816660048,
          199.81646580066922,
          198.23985626553122,
          196.66295300587763,
          195.0857559669828,
          193.50826509412286,
          191.93048033255025,
          190.35240162751506,
          188.77402892425619,
          187.19536216800032,
          185.6164013039645,
          184.03714627735894,
          182.4575970333775,
          180.87775351720722,
          179.29761567402682,
          177.717183449,
          176.13645678728665,
          174.55543563402966,
          172.9741199343656,
          171.39250963342272,
          169.8106046763112,
          168.22840500814016,
          166.64591057400503,
          165.06312131898744,
          163.48003718816483,
          161.8966581265986,
          160.31298407934548,
          158.72901499144643,
          157.14475080793784,
          155.56019147384256,
          153.97533693416983,
          152.39018713392738,
          150.80474201810523,
          149.2190015316853,
          147.6329656196425,
          146.04663422693545,
          144.46000729851585,
          142.87308477932868,
          141.28586661429813,
          139.69835274835282,
          138.1105431263993,
          136.52243769333597,
          134.93403639405847,
          133.3453391734406,
          131.75634597635337,
          130.1670567476583,
          128.57747143220297,
          126.98758997482446,
          125.3974123203526,
          123.8069384136079,
          122.216168199393,
          120.62510162250919,
          119.03373862774254,
          117.44207915986988,
          115.85012316365828,
          114.25787058386243,
          112.66532136523165,
          111.0724754524988,
          109.47933279039137,
          107.88589332362312,
          106.29215699689803,
          104.69812375491506,
          103.10379354235204,
          101.50916630388883,
          99.91424198418429,
          98.31902052789746,
          96.72350187966686,
          95.12768598412424,
          93.53157278589697,
          91.93516222959363,
          90.33845425981713,
          88.74144882115672,
          87.14414585819759,
          85.54654531550705,
          83.94864713764707,
          82.35045126916862,
          80.75195765461035,
          79.1531662385014,
          77.5540769653611,
          75.95468977969949,
          74.3550046260143,
          72.75502144879204,
          71.15474019251542,
          69.55416080164639,
          67.95328322064438,
          66.35210739395495,
          64.75063326601833,
          63.14886078125551,
          61.546789884084774,
          59.94442051891224,
          58.341752630131396,
          56.73878616212778,
          55.1355210592759,
          53.531957265938104,
          51.92809472646957,
          50.32393338521206,
          48.719473186499044,
          47.11471407465319,
          45.50965599398728,
          43.90429888880351,
          42.2986427033901,
          40.692687382030044,
          39.086432868993825,
          37.47987910854113,
          35.87302604492197,
          34.26587362237683,
          32.65842178513401,
          31.050670477409085,
          29.442619643416833,
          27.834269227349637,
          26.225619173396126,
          24.616669425735267,
          23.00741992853216,
          21.397870625942573,
          19.788021462112624,
          18.177872381180237,
          16.567423327266738,
          14.95667424448834,
          13.345625076949887,
          11.734275768744283,
          10.122626263954658,
          8.510676506656068,
          6.898426440908338,
          5.285876010764696,
          3.673025160267116,
          2.0598738334482505,
          0.4464219743256308,
          -1.1673304730873042,
          -2.7813835647936003,
          -4.3957373568001685,
          -6.0103919051293815,
          -7.625347265814298,
          -9.240603494894685,
          -10.85616064842418,
          -12.472018782461987,
          -14.08817795308471,
          -15.704638216374974,
          -17.321399628428594,
          -18.938462245344226,
          -20.55582612324406,
          -22.173491318247216,
          -23.791457886494868,
          -25.409725884129557,
          -27.02829536730735,
          -28.6471663921983,
          -30.26633901498019,
          -31.88581329183819,
          -33.50558927897214,
          -35.12566703259165,
          -36.74604660891566,
          -38.36672806417573,
          -39.98771145461001,
          -41.608996836470396,
          -43.23058426601858,
          -44.85247379952682,
          -46.47466549327453,
          -48.09715940356,
          -49.71995558668175,
          -51.34305409895603,
          -52.96645499670865,
          -54.59015833626927,
          -56.21416417398723,
          -57.838472566216865,
          -59.46308356932775,
          -61.087997239690935,
          -62.71321363369634,
          -64.33873280774492,
          -65.96455481824069,
          -67.59067972160506,
          -69.21710757426627,
          -70.84383843266392,
          -72.4708723532492,
          -74.09820939248243,
          -75.72584960683548,
          -77.35379305279162,
          -78.98203978684046,
          -80.61058986548574,
          -82.23944334524208,
          -83.86860028263231,
          -85.49806073419404,
          -87.12782475646645,
          -88.75789240601216,
          -90.38826373939332,
          -92.0189388131862,
          -93.64991768397908,
          -95.28120040837007,
          -96.91278704296678,
          -98.54467764438891,
          -100.17687226926728,
          -101.80937097423816,
          -103.44217381595286,
          -105.07528085107651,
          -106.70869213627543,
          -108.34240772823773,
          -109.97642768364926,
          -111.61075205921838,
          -113.24538091165846,
          -114.88031429769148,
          -116.51555227405356,
          -118.15109489749216,
          -119.78694222476224,
          -121.42309431262765,
          -123.05955121787179,
          -124.69631299727644,
          -126.33337970764455,
          -127.97075140578204,
          -129.6084281485098,
          -131.24640999265853,
          -132.88469699506936,
          -134.5232892125921,
          -136.1621867020899,
          -137.80138952043467,
          -139.44089772451161,
          -141.080711371211,
          -142.72083051744016,
          -144.36125522011162,
          -146.0019855361545,
          -147.64302152250048,
          -149.28436323609913,
          -150.9260107339078,
          -152.56796407289562,
          -154.2102233100377,
          -155.85278850232612,
          -157.495659706761,
          -159.13883698035056,
          -160.78232038011697,
          -162.42610996309304,
          -164.07020578632,
          -165.71460790684978,
          -167.35931638174952,
          -169.00433126808798,
          -170.64965262295664,
          -172.2952805034447,
          -173.94121496666298,
          -175.58745606972502,
          -177.23400386976118,
          -178.8808584239066,
          -180.5280197893121,
          -182.17548802313763,
          -183.8232631825506,
          -185.47134532473387,
          -187.1197345068765,
          -188.76843078618253,
          -190.41743421986394,
          -192.06674486514385,
          -193.71636277925768,
          -195.36628801944607,
          -197.01652064296923,
          -198.66706070708983,
          -200.31790826908423,
          -201.96906338624262,
          -203.62052611586046,
          -205.27229651524544,
          -206.924374641721,
          -208.57676055261368,
          -210.2294543052642,
          -211.88245595702574,
          -213.53576556525945,
          -215.189383187339,
          -216.84330888064574,
          -218.4975427025754,
          -220.15208471053143,
          -221.80693496192976,
          -223.46209351419725,
          -225.11756042476918,
          -226.77333575109697,
          -228.42941955063316,
          -230.0858118808526,
          -231.74251279923033,
          -233.39952236326008,
          -235.056840630441,
          -236.71446765828637,
          -238.3724035043158,
          -240.03064822606325,
          -241.689201881077,
          -243.34806452690714,
          -245.00723622112127,
          -246.66671702129406,
          -248.32650698501538,
          -249.98660616987854,
          -251.64701463349388,
          -253.3077324334813,
          -254.9687596274698,
          -256.63009627309975,
          -258.2917424280222,
          -259.95369814989954,
          -261.6159634964049,
          -263.2785385252205,
          -264.9414232940428,
          -266.60461786057385,
          -268.2681222825329,
          -269.93193661764394,
          -271.596060923644,
          -273.2604952582831,
          -274.92523967931857,
          -276.5902942445198,
          -278.25565901166624,
          -279.9213340385513,
          -281.58731938297547,
          -283.2536151027525,
          -284.9202212557034,
          -286.5871378996635,
          -288.2543650924788,
          -289.921902892004,
          -291.5897513561049,
          -293.2579105426587,
          -294.92638050955566,
          -296.5951613146922,
          -298.2642530159801,
          -299.9336556713365,
          -301.60336933869394,
          -303.2733940759965,
          -304.943729941195,
          -306.6143769922535,
          -308.285335287145,
          -309.9566048838569,
          -311.6281858403827,
          -313.3000782147328,
          -314.9722820649224,
          -316.64479744897767,
          -318.3176244249421,
          -319.99076305086237,
          -321.6642133848011,
          -323.3379754848311,
          -325.0120494090313,
          -326.6864352154962,
          -328.3611329623327,
          -330.03614270765115,
          -331.7114645095817,
          -333.38709842625826,
          -335.0630445158288,
          -336.7393028364502,
          -338.41587344629625,
          -340.09275640354076,
          -341.76995176637774,
          -343.44745959300985,
          -345.1252799416461,
          -346.8034128705124,
          -348.4818584378436,
          -350.1606167018806,
          -351.8396877208834,
          -353.5190715531171,
          -355.19876825685947,
          -356.8787778903975,
          -358.55910051203364,
          -360.23973618007426,
          -361.92068495284343,
          -363.60194688866954,
          -365.2835220458983,
          -366.9654104828828,
          -368.64761225798816,
          -370.3301274295891,
          -372.0129560560688,
          -373.69609819582615,
          -375.379553907273,
          -377.0633232488242,
          -378.74740627890856,
          -380.4318030559698,
          -382.1165136384586,
          -383.8015380848351,
          -385.4868764535752,
          -387.1725288031614,
          -388.8584951920875,
          -390.54477567886374,
          -392.2313703220059,
          -393.918279180039,
          -395.6055023115034,
          -397.2930397749474,
          -398.98089162893575,
          -400.66905793203387,
          -402.3575387428266,
          -404.04633411990767,
          -405.73544412188176,
          -407.42486880736146,
          -409.114608234976,
          -410.8046624633614,
          -412.4950315511619,
          -414.1857155570408,
          -415.87671453966664,
          -417.5680285577196,
          -419.25965766988884,
          -420.95160193488005,
          -422.6438614114061,
          -424.33643615819005,
          -426.02932623396805,
          -427.72253169748706,
          -429.41605260750157,
          -431.1098890227822,
          -432.8040410021081,
          -434.4985086042673,
          -436.19329188806387,
          -437.8883909123065,
          -439.5838057358194,
          -441.279536417436,
          -442.97558301600134,
          -444.6719455903733,
          -446.3686241994144,
          -448.06561890200715,
          -449.7629297570352,
          -451.460556823401,
          -453.1585001600158,
          -454.8567598257998,
          -456.5553358796858,
          -458.25422838061786,
          -459.953437387549,
          -461.6529629594463,
          -463.35280515528507,
          -465.05296403405555,
          -466.75343965475327,
          -468.4542320763878,
          -470.1553413579795,
          -471.85676755856366,
          -473.55851073717713,
          -475.26057095287706,
          -476.9629482647265,
          -478.6656427318014,
          -480.36865441318673,
          -482.07198336798206,
          -483.77562965529523,
          -485.47959333424524,
          -487.18387446396446,
          -488.88847310359074,
          -490.5933893122801,
          -492.29862314919365,
          -494.0041746735076,
          -495.710043944405,
          -497.416231021087,
          -499.12273596275713,
          -500.8295588286355,
          -502.5366996779501,
          -504.2441585699471,
          -505.95193556387244,
          -507.6600307189931,
          -509.368444094579,
          -511.07717574991784,
          -512.7862257443046,
          -514.495594137047,
          -516.2052809874622,
          -517.9152863548793,
          -519.625610298639,
          -521.3362528780929,
          -523.0472141526029,
          -524.758494181541,
          -526.4700930242925,
          -528.1820107402546,
          -529.8942473888326,
          -531.6068030294423,
          -533.3196777215135,
          -535.0328715244871,
          -536.7463844978122,
          -538.4602167009518,
          -540.1743681933795,
          -541.8888390345776,
          -543.6036292840438,
          -545.3187390012802,
          -547.0341682458059,
          -548.7499170771518,
          -550.4659855548539,
          -552.1823737384645,
          -553.8990816875457,
          -555.6161094616689,
          -557.3334571204182,
          -559.0511247233896,
          -560.7691123301888,
          -562.4874200004315,
          -564.2060477937475,
          -565.9249957697746,
          -567.6442639881648,
          -569.3638525085798,
          -571.083761390694,
          -572.8039906941842,
          -574.5245404787534,
          -576.2454108041027,
          -577.9666017299533,
          -579.688113316028,
          -581.4099456220727,
          -583.1320987078323,
          -584.8545726330724,
          -586.5773674575635,
          -588.30048324109,
          -590.023920043448,
          -591.747677924443,
          -593.4717569438926,
          -595.1961571616243,
          -596.920878637482,
          -598.645921431309,
          -600.3712856029754,
          -602.0969712123467,
          -603.8229783193149,
          -605.5493069837696,
          -607.2759572656178,
          -609.0029292247814,
          -610.7302229211859,
          -612.4578384147712,
          -614.18577576549,
          -615.9140350333041,
          -617.642616278187,
          -619.3715195601262,
          -621.1007449391129,
          -622.8302924751565,
          -624.5601622282761,
          -626.2903542584997,
          -628.0208686258684,
          -629.7517053904362,
          -631.4828646122633,
          -633.2143463514244,
          -634.9461506680041,
          -636.6782776221032,
          -638.4107272738256,
          -640.1434996832895,
          -641.8765949106291,
          -643.6100130159834,
          -645.3437540595041,
          -647.0778181013588,
          -648.812205201717,
          -650.5469154207685,
          -652.2819488187113,
          -654.0173054557513,
          -655.7529853921117,
          -657.4889886880217,
          -659.225315403723,
          -660.9619655994684,
          -662.6989393355273,
          -664.4362366721712,
          -666.1738576696882,
          -667.9118023883782,
          -669.6500708885496,
          -671.3886632305237,
          -673.1275794746336,
          -674.8668196812214,
          -676.6063839106419,
          -678.3462722232605,
          -680.0864846794566,
          -681.8270213396161,
          -683.5678822641419,
          -685.3090675134413,
          -687.0505771479366,
          -688.7924112280639,
          -690.5345698142648,
          -692.2770529669999,
          -694.019860746731,
          -695.762993213938,
          -697.5064504291129,
          -699.2502324527561,
          -700.9943393453775,
          -702.7387711675035,
          -704.4835279796669,
          -706.2286098424147,
          -707.9740168163032,
          -709.7197489619025,
          -711.4658063397908,
          -713.212189010563,
          -714.9588970348191,
          -716.7059304731699,
          -718.4532893862449,
          -720.2009738346792,
          -721.9489838791212,
          -723.697319580227,
          -725.4459809986706,
          -727.1949681951314,
          -728.9442812303027,
          -730.6939201648875,
          -732.4438850596043,
          -734.1941759751767,
          -735.9447929723469,
          -737.6957361118605,
          -739.4470054544786,
          -741.1986010609739,
          -742.9505229921326,
          -744.7027713087448,
          -746.4553460716199,
          -748.208247341573,
          -749.9614751794352,
          -751.7150296460436,
          -753.4689108022537,
          -755.223118708923,
          -756.9776534269306,
          -758.7325150171587,
          -760.4877035405052,
          -762.2432190578782,
          -763.9990616301952,
          -765.7552313183903,
          -767.511728183405,
          -769.2685522861889,
          -771.0257036877124,
          -772.7831824489479,
          -774.5409886308837,
          -776.2991222945197,
          -778.0575835008663,
          -779.8163723109433,
          -781.5754887857861,
          -783.3349329864366,
          -785.094704973953,
          -786.8548048094008,
          -788.6152325538599,
          -790.3759882684174,
          -792.1370720141786,
          -793.8984838522533,
          -795.6602238437656,
          -797.4222920498523,
          -799.1846885316588,
          -800.9474133503447,
          -802.7104665670795,
          -804.473848243043,
          -806.237558439429,
          -808.001597217441,
          -809.7659646382917,
          -811.5306607632122,
          -813.2956856534365,
          -815.0610393702168,
          -816.8267219748132,
          -818.5927335284962,
          -820.3590740925515,
          -822.1257437282738,
          -823.892742496969,
          -825.6600704599557,
          -827.4277276785626,
          -829.1957142141302,
          -830.964030128011,
          -832.732675481572,
          -834.5016503361824,
          -836.2709547532315,
          -838.0405887941167,
          -839.8105525202495,
          -841.5808459930495,
          -843.3514692739479,
          -845.1224224243879,
          -846.8937055058273,
          -848.6653185797302,
          -850.4372617075751,
          -852.2095349508543,
          -853.9821383710635,
          -855.755072029719,
          -857.5283359883449,
          -859.301930308475,
          -861.0758550516564,
          -862.8501102794476,
          -864.6246960534188,
          -866.3996124351495,
          -868.174859486234,
          -869.9504372682752,
          -871.7263458428897,
          -873.502585271706,
          -875.2791556163597,
          -877.0560569385041,
          -878.8332892997967,
          -880.6108527619128,
          -882.3887473865386,
          -884.1669732353655,
          -885.9455303701075,
          -887.724418852479,
          -889.5036387442101,
          -891.283190107046,
          -893.0630730027369,
          -894.8432874930511,
          -896.6238336397626,
          -898.404711504661,
          -900.185921149545,
          -901.9674626362239,
          -903.7493360265248,
          -905.5315413822784,
          -907.3140787653301,
          -909.096948237541,
          -910.8801498607734,
          -912.6636836969135,
          -914.44754980785,
          -916.2317482554861,
          -918.0162791017356,
          -919.8011424085289,
          -921.5863382378004,
          -923.3718666514997,
          -925.1577277115882,
          -926.9439214800393,
          -928.7304480188373,
          -930.5173073899762,
          -932.304499655462,
          -934.0920248773177,
          -935.8798831175684,
          -937.6680744382602,
          -939.4565989014443,
          -941.245456569186,
          -943.0346475035597,
          -944.8241717666565,
          -946.6140294205757,
          -948.4042205274275,
          -950.1947451493343,
          -951.9856033484311,
          -953.7767951868634,
          -955.568320726791,
          -957.3601800303784,
          -959.1523731598099,
          -960.9449001772748,
          -962.7377611449808,
          -964.530956125139,
          -966.32448517998,
          -968.11834837174,
          -969.912545762671,
          -971.7070774150329,
          -973.5019433910995,
          -975.2971437531564,
          -977.0926785634997,
          -978.8885478844379,
          -980.6847517782905,
          -982.4812903073905,
          -984.2781635340782,
          -986.0753715207097,
          -987.8729143296525,
          -989.670792023282,
          -991.4690046639876,
          -993.2675523141736,
          -995.0664350362467,
          -996.8656528926388,
          -998.6652059457813,
          -1000.4650942581238,
          -1002.2653178921225,
          -1004.0658769102515,
          -1005.8667713749915,
          -1007.6680013488358,
          -1009.4695668942952,
          -1011.2714680738823,
          -1013.0737049501254,
          -1014.8762775855673,
          -1016.6791860427627,
          -1018.4824303842729,
          -1020.2860106726748,
          -1022.0899269705533,
          -1023.8941793405106,
          -1025.6987678451549,
          -1027.5036925471109,
          -1029.308953509011,
          -1031.1145507935018,
          -1032.9204844632377,
          -1034.7267545808927,
          -1036.5333612091442,
          -1038.3403044106856,
          -1040.147584248219,
          -1041.9552007844645,
          -1043.763154082144,
          -1045.571444204002,
          -1047.3800712127854,
          -1049.1890351712589,
          -1050.9983361421962,
          -1052.8079741883819,
          -1054.6179493726158,
          -1056.4282617577053,
          -1058.238911406472,
          -1060.0498983817467,
          -1061.8612227463786,
          -1063.672884563219,
          -1065.4848838951373,
          -1067.297220805015,
          -1069.1098953557407,
          -1070.9229076102206,
          -1072.7362576313624,
          -1074.549945482101,
          -1076.3639712253685,
          -1078.1783349241193,
          -1079.9930366413114,
          -1081.8080764399194,
          -1083.6234543829278,
          -1085.4391705333344,
          -1087.2552249541463,
          -1089.0716177083864,
          -1090.8883488590827,
          -1092.7054184692824,
          -1094.5228266020376,
          -1096.340573320419,
          -1098.1586586875042,
          -1099.9770827663847,
          -1101.79584562016,
          -1103.6149473119485,
          -1105.4343879048724,
          -1107.254167462072,
          -1109.0742860466967,
          -1110.8947437219058,
          -1112.7155405508743,
          -1114.5366765967851,
          -1116.3581519228364,
          -1118.1799665922354,
          -1120.0021206682059,
          -1121.8246142139747,
          -1123.6474472927866,
          -1125.4706199678994,
          -1127.2941323025784,
          -1129.1179843601058,
          -1130.9421762037668,
          -1132.7667078968693,
          -1134.591579502724,
          -1136.41679108466,
          -1138.242342706013,
          -1140.068234430135,
          -1141.8944663203852,
          -1143.7210384401387,
          -1145.5479508527792,
          -1147.375203621706,
          -1149.202796810328,
          -1151.030730482063,
          -1152.859004700344,
          -1154.687619528619,
          -1156.5165750303386,
          -1158.3458712689767,
          -1160.175508308008,
          -1162.0054862109264,
          -1163.8358050412344,
          -1165.6664648624487,
          -1167.497465738095,
          -1169.328807731712,
          -1171.1604909068524,
          -1172.9925153270779,
          -1174.8248810559603,
          -1176.657588157088,
          -1178.4906366940609,
          -1180.3240267304882,
          -1182.1577583299886,
          -1183.991831556199,
          -1185.8262464727632,
          -1187.6610031433393,
          -1189.4961016315983,
          -1191.3315420012177,
          -1193.167324315893,
          -1195.0034486393265,
          -1196.8399150352384,
          -1198.676723567356,
          -1200.5138742994177,
          -1202.3513672951785,
          -1204.1892026184005,
          -1206.0273803328628,
          -1207.865900502351,
          -1209.7047631906644,
          -1211.543968461615,
          -1213.3835163790268,
          -1215.2234070067361,
          -1217.0636404085917,
          -1218.9042166484487,
          -1220.7451357901818,
          -1222.5863978976718,
          -1224.4280030348145,
          -1226.2699512655176,
          -1228.1122426537,
          -1229.9548772632916,
          -1231.7978551582341,
          -1233.6411764024824,
          -1235.4848410600057,
          -1237.3288491947783,
          -1239.1732008707932,
          -1241.017896152052,
          -1242.862935102568,
          -1244.7083177863692,
          -1246.5540442674924,
          -1248.4001146099877,
          -1250.2465288779154,
          -1252.0932871353502,
          -1253.940389446379,
          -1255.787835875099,
          -1257.6356264856186,
          -1259.483761342059,
          -1261.3322405085573,
          -1263.181064049255,
          -1265.0302320283113,
          -1266.8797445098958,
          -1268.7296015581887,
          -1270.5798032373846,
          -1272.4303496116863,
          -1274.281240745313,
          -1276.132476702494,
          -1277.984057547469,
          -1279.8359833444924,
          -1281.6882541578284,
          -1283.5408700517542,
          -1285.3938310905587,
          -1287.2471373385456,
          -1289.1007888600225,
          -1290.954785719317,
          -1292.8091279807677,
          -1294.6638157087204,
          -1296.5188489675384,
          -1298.3742278215918,
          -1300.2299523352694,
          -1302.0860225729652,
          -1303.9424385990892,
          -1305.7992004780617,
          -1307.656308274315,
          -1309.513762052296,
          -1311.3715618764604,
          -1313.2297078112779,
          -1315.088199921226,
          -1316.947038270801,
          -1318.8062229245074,
          -1320.665753946862,
          -1322.5256314023914,
          -1324.3858553556393,
          -1326.2464258711584,
          -1328.1073430135134,
          -1329.9686068472815,
          -1331.8302174370501,
          -1333.6921748474233,
          -1335.554479143012,
          -1337.4171303884427,
          -1339.2801286483518,
          -1341.143473987389,
          -1343.0071664702127,
          -1344.871206161501,
          -1346.735593125938,
          -1348.6003274282189,
          -1350.4654091330553,
          -1352.3308383051703,
          -1354.1966150092935,
          -1356.0627393101718,
          -1357.9292112725634,
          -1359.7960309612404,
          -1361.6631984409833,
          -1363.5307137765822,
          -1365.3985770328486,
          -1367.2667882745968,
          -1369.1353475666601,
          -1371.0042549738796,
          -1372.873510561108,
          -1374.7431143932145,
          -1376.6130665350743,
          -1378.483367051581,
          -1380.3540160076336,
          -1382.2250134681499
         ],
         "yaxis": "y"
        }
       ],
       "layout": {
        "legend": {
         "tracegroupgap": 0
        },
        "margin": {
         "t": 60
        },
        "template": {
         "data": {
          "bar": [
           {
            "error_x": {
             "color": "#2a3f5f"
            },
            "error_y": {
             "color": "#2a3f5f"
            },
            "marker": {
             "line": {
              "color": "#E5ECF6",
              "width": 0.5
             },
             "pattern": {
              "fillmode": "overlay",
              "size": 10,
              "solidity": 0.2
             }
            },
            "type": "bar"
           }
          ],
          "barpolar": [
           {
            "marker": {
             "line": {
              "color": "#E5ECF6",
              "width": 0.5
             },
             "pattern": {
              "fillmode": "overlay",
              "size": 10,
              "solidity": 0.2
             }
            },
            "type": "barpolar"
           }
          ],
          "carpet": [
           {
            "aaxis": {
             "endlinecolor": "#2a3f5f",
             "gridcolor": "white",
             "linecolor": "white",
             "minorgridcolor": "white",
             "startlinecolor": "#2a3f5f"
            },
            "baxis": {
             "endlinecolor": "#2a3f5f",
             "gridcolor": "white",
             "linecolor": "white",
             "minorgridcolor": "white",
             "startlinecolor": "#2a3f5f"
            },
            "type": "carpet"
           }
          ],
          "choropleth": [
           {
            "colorbar": {
             "outlinewidth": 0,
             "ticks": ""
            },
            "type": "choropleth"
           }
          ],
          "contour": [
           {
            "colorbar": {
             "outlinewidth": 0,
             "ticks": ""
            },
            "colorscale": [
             [
              0,
              "#0d0887"
             ],
             [
              0.1111111111111111,
              "#46039f"
             ],
             [
              0.2222222222222222,
              "#7201a8"
             ],
             [
              0.3333333333333333,
              "#9c179e"
             ],
             [
              0.4444444444444444,
              "#bd3786"
             ],
             [
              0.5555555555555556,
              "#d8576b"
             ],
             [
              0.6666666666666666,
              "#ed7953"
             ],
             [
              0.7777777777777778,
              "#fb9f3a"
             ],
             [
              0.8888888888888888,
              "#fdca26"
             ],
             [
              1,
              "#f0f921"
             ]
            ],
            "type": "contour"
           }
          ],
          "contourcarpet": [
           {
            "colorbar": {
             "outlinewidth": 0,
             "ticks": ""
            },
            "type": "contourcarpet"
           }
          ],
          "heatmap": [
           {
            "colorbar": {
             "outlinewidth": 0,
             "ticks": ""
            },
            "colorscale": [
             [
              0,
              "#0d0887"
             ],
             [
              0.1111111111111111,
              "#46039f"
             ],
             [
              0.2222222222222222,
              "#7201a8"
             ],
             [
              0.3333333333333333,
              "#9c179e"
             ],
             [
              0.4444444444444444,
              "#bd3786"
             ],
             [
              0.5555555555555556,
              "#d8576b"
             ],
             [
              0.6666666666666666,
              "#ed7953"
             ],
             [
              0.7777777777777778,
              "#fb9f3a"
             ],
             [
              0.8888888888888888,
              "#fdca26"
             ],
             [
              1,
              "#f0f921"
             ]
            ],
            "type": "heatmap"
           }
          ],
          "heatmapgl": [
           {
            "colorbar": {
             "outlinewidth": 0,
             "ticks": ""
            },
            "colorscale": [
             [
              0,
              "#0d0887"
             ],
             [
              0.1111111111111111,
              "#46039f"
             ],
             [
              0.2222222222222222,
              "#7201a8"
             ],
             [
              0.3333333333333333,
              "#9c179e"
             ],
             [
              0.4444444444444444,
              "#bd3786"
             ],
             [
              0.5555555555555556,
              "#d8576b"
             ],
             [
              0.6666666666666666,
              "#ed7953"
             ],
             [
              0.7777777777777778,
              "#fb9f3a"
             ],
             [
              0.8888888888888888,
              "#fdca26"
             ],
             [
              1,
              "#f0f921"
             ]
            ],
            "type": "heatmapgl"
           }
          ],
          "histogram": [
           {
            "marker": {
             "pattern": {
              "fillmode": "overlay",
              "size": 10,
              "solidity": 0.2
             }
            },
            "type": "histogram"
           }
          ],
          "histogram2d": [
           {
            "colorbar": {
             "outlinewidth": 0,
             "ticks": ""
            },
            "colorscale": [
             [
              0,
              "#0d0887"
             ],
             [
              0.1111111111111111,
              "#46039f"
             ],
             [
              0.2222222222222222,
              "#7201a8"
             ],
             [
              0.3333333333333333,
              "#9c179e"
             ],
             [
              0.4444444444444444,
              "#bd3786"
             ],
             [
              0.5555555555555556,
              "#d8576b"
             ],
             [
              0.6666666666666666,
              "#ed7953"
             ],
             [
              0.7777777777777778,
              "#fb9f3a"
             ],
             [
              0.8888888888888888,
              "#fdca26"
             ],
             [
              1,
              "#f0f921"
             ]
            ],
            "type": "histogram2d"
           }
          ],
          "histogram2dcontour": [
           {
            "colorbar": {
             "outlinewidth": 0,
             "ticks": ""
            },
            "colorscale": [
             [
              0,
              "#0d0887"
             ],
             [
              0.1111111111111111,
              "#46039f"
             ],
             [
              0.2222222222222222,
              "#7201a8"
             ],
             [
              0.3333333333333333,
              "#9c179e"
             ],
             [
              0.4444444444444444,
              "#bd3786"
             ],
             [
              0.5555555555555556,
              "#d8576b"
             ],
             [
              0.6666666666666666,
              "#ed7953"
             ],
             [
              0.7777777777777778,
              "#fb9f3a"
             ],
             [
              0.8888888888888888,
              "#fdca26"
             ],
             [
              1,
              "#f0f921"
             ]
            ],
            "type": "histogram2dcontour"
           }
          ],
          "mesh3d": [
           {
            "colorbar": {
             "outlinewidth": 0,
             "ticks": ""
            },
            "type": "mesh3d"
           }
          ],
          "parcoords": [
           {
            "line": {
             "colorbar": {
              "outlinewidth": 0,
              "ticks": ""
             }
            },
            "type": "parcoords"
           }
          ],
          "pie": [
           {
            "automargin": true,
            "type": "pie"
           }
          ],
          "scatter": [
           {
            "fillpattern": {
             "fillmode": "overlay",
             "size": 10,
             "solidity": 0.2
            },
            "type": "scatter"
           }
          ],
          "scatter3d": [
           {
            "line": {
             "colorbar": {
              "outlinewidth": 0,
              "ticks": ""
             }
            },
            "marker": {
             "colorbar": {
              "outlinewidth": 0,
              "ticks": ""
             }
            },
            "type": "scatter3d"
           }
          ],
          "scattercarpet": [
           {
            "marker": {
             "colorbar": {
              "outlinewidth": 0,
              "ticks": ""
             }
            },
            "type": "scattercarpet"
           }
          ],
          "scattergeo": [
           {
            "marker": {
             "colorbar": {
              "outlinewidth": 0,
              "ticks": ""
             }
            },
            "type": "scattergeo"
           }
          ],
          "scattergl": [
           {
            "marker": {
             "colorbar": {
              "outlinewidth": 0,
              "ticks": ""
             }
            },
            "type": "scattergl"
           }
          ],
          "scattermapbox": [
           {
            "marker": {
             "colorbar": {
              "outlinewidth": 0,
              "ticks": ""
             }
            },
            "type": "scattermapbox"
           }
          ],
          "scatterpolar": [
           {
            "marker": {
             "colorbar": {
              "outlinewidth": 0,
              "ticks": ""
             }
            },
            "type": "scatterpolar"
           }
          ],
          "scatterpolargl": [
           {
            "marker": {
             "colorbar": {
              "outlinewidth": 0,
              "ticks": ""
             }
            },
            "type": "scatterpolargl"
           }
          ],
          "scatterternary": [
           {
            "marker": {
             "colorbar": {
              "outlinewidth": 0,
              "ticks": ""
             }
            },
            "type": "scatterternary"
           }
          ],
          "surface": [
           {
            "colorbar": {
             "outlinewidth": 0,
             "ticks": ""
            },
            "colorscale": [
             [
              0,
              "#0d0887"
             ],
             [
              0.1111111111111111,
              "#46039f"
             ],
             [
              0.2222222222222222,
              "#7201a8"
             ],
             [
              0.3333333333333333,
              "#9c179e"
             ],
             [
              0.4444444444444444,
              "#bd3786"
             ],
             [
              0.5555555555555556,
              "#d8576b"
             ],
             [
              0.6666666666666666,
              "#ed7953"
             ],
             [
              0.7777777777777778,
              "#fb9f3a"
             ],
             [
              0.8888888888888888,
              "#fdca26"
             ],
             [
              1,
              "#f0f921"
             ]
            ],
            "type": "surface"
           }
          ],
          "table": [
           {
            "cells": {
             "fill": {
              "color": "#EBF0F8"
             },
             "line": {
              "color": "white"
             }
            },
            "header": {
             "fill": {
              "color": "#C8D4E3"
             },
             "line": {
              "color": "white"
             }
            },
            "type": "table"
           }
          ]
         },
         "layout": {
          "annotationdefaults": {
           "arrowcolor": "#2a3f5f",
           "arrowhead": 0,
           "arrowwidth": 1
          },
          "autotypenumbers": "strict",
          "coloraxis": {
           "colorbar": {
            "outlinewidth": 0,
            "ticks": ""
           }
          },
          "colorscale": {
           "diverging": [
            [
             0,
             "#8e0152"
            ],
            [
             0.1,
             "#c51b7d"
            ],
            [
             0.2,
             "#de77ae"
            ],
            [
             0.3,
             "#f1b6da"
            ],
            [
             0.4,
             "#fde0ef"
            ],
            [
             0.5,
             "#f7f7f7"
            ],
            [
             0.6,
             "#e6f5d0"
            ],
            [
             0.7,
             "#b8e186"
            ],
            [
             0.8,
             "#7fbc41"
            ],
            [
             0.9,
             "#4d9221"
            ],
            [
             1,
             "#276419"
            ]
           ],
           "sequential": [
            [
             0,
             "#0d0887"
            ],
            [
             0.1111111111111111,
             "#46039f"
            ],
            [
             0.2222222222222222,
             "#7201a8"
            ],
            [
             0.3333333333333333,
             "#9c179e"
            ],
            [
             0.4444444444444444,
             "#bd3786"
            ],
            [
             0.5555555555555556,
             "#d8576b"
            ],
            [
             0.6666666666666666,
             "#ed7953"
            ],
            [
             0.7777777777777778,
             "#fb9f3a"
            ],
            [
             0.8888888888888888,
             "#fdca26"
            ],
            [
             1,
             "#f0f921"
            ]
           ],
           "sequentialminus": [
            [
             0,
             "#0d0887"
            ],
            [
             0.1111111111111111,
             "#46039f"
            ],
            [
             0.2222222222222222,
             "#7201a8"
            ],
            [
             0.3333333333333333,
             "#9c179e"
            ],
            [
             0.4444444444444444,
             "#bd3786"
            ],
            [
             0.5555555555555556,
             "#d8576b"
            ],
            [
             0.6666666666666666,
             "#ed7953"
            ],
            [
             0.7777777777777778,
             "#fb9f3a"
            ],
            [
             0.8888888888888888,
             "#fdca26"
            ],
            [
             1,
             "#f0f921"
            ]
           ]
          },
          "colorway": [
           "#636efa",
           "#EF553B",
           "#00cc96",
           "#ab63fa",
           "#FFA15A",
           "#19d3f3",
           "#FF6692",
           "#B6E880",
           "#FF97FF",
           "#FECB52"
          ],
          "font": {
           "color": "#2a3f5f"
          },
          "geo": {
           "bgcolor": "white",
           "lakecolor": "white",
           "landcolor": "#E5ECF6",
           "showlakes": true,
           "showland": true,
           "subunitcolor": "white"
          },
          "hoverlabel": {
           "align": "left"
          },
          "hovermode": "closest",
          "mapbox": {
           "style": "light"
          },
          "paper_bgcolor": "white",
          "plot_bgcolor": "#E5ECF6",
          "polar": {
           "angularaxis": {
            "gridcolor": "white",
            "linecolor": "white",
            "ticks": ""
           },
           "bgcolor": "#E5ECF6",
           "radialaxis": {
            "gridcolor": "white",
            "linecolor": "white",
            "ticks": ""
           }
          },
          "scene": {
           "xaxis": {
            "backgroundcolor": "#E5ECF6",
            "gridcolor": "white",
            "gridwidth": 2,
            "linecolor": "white",
            "showbackground": true,
            "ticks": "",
            "zerolinecolor": "white"
           },
           "yaxis": {
            "backgroundcolor": "#E5ECF6",
            "gridcolor": "white",
            "gridwidth": 2,
            "linecolor": "white",
            "showbackground": true,
            "ticks": "",
            "zerolinecolor": "white"
           },
           "zaxis": {
            "backgroundcolor": "#E5ECF6",
            "gridcolor": "white",
            "gridwidth": 2,
            "linecolor": "white",
            "showbackground": true,
            "ticks": "",
            "zerolinecolor": "white"
           }
          },
          "shapedefaults": {
           "line": {
            "color": "#2a3f5f"
           }
          },
          "ternary": {
           "aaxis": {
            "gridcolor": "white",
            "linecolor": "white",
            "ticks": ""
           },
           "baxis": {
            "gridcolor": "white",
            "linecolor": "white",
            "ticks": ""
           },
           "bgcolor": "#E5ECF6",
           "caxis": {
            "gridcolor": "white",
            "linecolor": "white",
            "ticks": ""
           }
          },
          "title": {
           "x": 0.05
          },
          "xaxis": {
           "automargin": true,
           "gridcolor": "white",
           "linecolor": "white",
           "ticks": "",
           "title": {
            "standoff": 15
           },
           "zerolinecolor": "white",
           "zerolinewidth": 2
          },
          "yaxis": {
           "automargin": true,
           "gridcolor": "white",
           "linecolor": "white",
           "ticks": "",
           "title": {
            "standoff": 15
           },
           "zerolinecolor": "white",
           "zerolinewidth": 2
          }
         }
        },
        "xaxis": {
         "anchor": "y",
         "domain": [
          0,
          1
         ],
         "title": {
          "text": "Recovery Duration (Days)"
         }
        },
        "yaxis": {
         "anchor": "x",
         "domain": [
          0,
          1
         ],
         "title": {
          "text": "Profit $"
         }
        }
       }
      }
     },
     "metadata": {},
     "output_type": "display_data"
    }
   ],
   "source": [
    "possible_recovery_duration = range(min(full_div_recovery_duration), max(full_div_recovery_duration))\n",
    "profits = []\n",
    "\n",
    "for duration in possible_recovery_duration:\n",
    "    interest = (loan_amount_per_share * (1 + daily_interst_rate) ** duration - loan_amount_per_share) * total_warrants_bought\n",
    "    profits.append(total_div_received - interest)\n",
    "    \n",
    "break_even_df = pd.DataFrame()\n",
    "break_even_df[\"Recovery Duration (Days)\"] = possible_recovery_duration\n",
    "break_even_df[\"Profit $\"] = profits\n",
    "\n",
    "px.area(break_even_df, x = \"Recovery Duration (Days)\", y = \"Profit $\").show()"
   ]
  },
  {
   "cell_type": "code",
   "execution_count": null,
   "metadata": {},
   "outputs": [],
   "source": []
  }
 ],
 "metadata": {
  "kernelspec": {
   "display_name": "Python 3 (ipykernel)",
   "language": "python",
   "name": "python3"
  },
  "language_info": {
   "codemirror_mode": {
    "name": "ipython",
    "version": 3
   },
   "file_extension": ".py",
   "mimetype": "text/x-python",
   "name": "python",
   "nbconvert_exporter": "python",
   "pygments_lexer": "ipython3",
   "version": "3.10.2"
  },
  "vscode": {
   "interpreter": {
    "hash": "aee8b7b246df8f9039afb4144a1f6fd8d2ca17a180786b69acc140d282b71a49"
   }
  }
 },
 "nbformat": 4,
 "nbformat_minor": 4
}
